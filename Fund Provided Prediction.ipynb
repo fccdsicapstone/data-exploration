{
 "cells": [
  {
   "cell_type": "code",
   "execution_count": 57,
   "metadata": {},
   "outputs": [],
   "source": [
    "import pandas as pd\n",
    "import numpy as np\n",
    "import matplotlib.pyplot as plt\n",
    "import itertools"
   ]
  },
  {
   "cell_type": "markdown",
   "metadata": {},
   "source": [
    "### Getting Relevant Data"
   ]
  },
  {
   "cell_type": "code",
   "execution_count": 2,
   "metadata": {},
   "outputs": [
    {
     "data": {
      "text/html": [
       "<div>\n",
       "<style scoped>\n",
       "    .dataframe tbody tr th:only-of-type {\n",
       "        vertical-align: middle;\n",
       "    }\n",
       "\n",
       "    .dataframe tbody tr th {\n",
       "        vertical-align: top;\n",
       "    }\n",
       "\n",
       "    .dataframe thead th {\n",
       "        text-align: right;\n",
       "    }\n",
       "</style>\n",
       "<table border=\"1\" class=\"dataframe\">\n",
       "  <thead>\n",
       "    <tr style=\"text-align: right;\">\n",
       "      <th></th>\n",
       "      <th>table_id</th>\n",
       "      <th>row_count</th>\n",
       "    </tr>\n",
       "  </thead>\n",
       "  <tbody>\n",
       "    <tr>\n",
       "      <th>49</th>\n",
       "      <td>acs_with_geo_2014</td>\n",
       "      <td>216330</td>\n",
       "    </tr>\n",
       "    <tr>\n",
       "      <th>51</th>\n",
       "      <td>fcc_acs_with_geo_2014</td>\n",
       "      <td>216330</td>\n",
       "    </tr>\n",
       "    <tr>\n",
       "      <th>40</th>\n",
       "      <td>acs_with_geo_2015</td>\n",
       "      <td>216321</td>\n",
       "    </tr>\n",
       "    <tr>\n",
       "      <th>41</th>\n",
       "      <td>acs_with_geo_2016</td>\n",
       "      <td>216321</td>\n",
       "    </tr>\n",
       "    <tr>\n",
       "      <th>42</th>\n",
       "      <td>fcc_acs_with_geo_2015</td>\n",
       "      <td>216321</td>\n",
       "    </tr>\n",
       "    <tr>\n",
       "      <th>43</th>\n",
       "      <td>fcc_acs_with_geo_2016</td>\n",
       "      <td>216321</td>\n",
       "    </tr>\n",
       "    <tr>\n",
       "      <th>59</th>\n",
       "      <td>acs_education</td>\n",
       "      <td>212249</td>\n",
       "    </tr>\n",
       "    <tr>\n",
       "      <th>60</th>\n",
       "      <td>acs_school_enrollment</td>\n",
       "      <td>212249</td>\n",
       "    </tr>\n",
       "    <tr>\n",
       "      <th>58</th>\n",
       "      <td>acs_hispanic</td>\n",
       "      <td>212247</td>\n",
       "    </tr>\n",
       "    <tr>\n",
       "      <th>94</th>\n",
       "      <td>acs_employment</td>\n",
       "      <td>207265</td>\n",
       "    </tr>\n",
       "    <tr>\n",
       "      <th>91</th>\n",
       "      <td>acs_race</td>\n",
       "      <td>207262</td>\n",
       "    </tr>\n",
       "    <tr>\n",
       "      <th>92</th>\n",
       "      <td>acs_total_population</td>\n",
       "      <td>207262</td>\n",
       "    </tr>\n",
       "    <tr>\n",
       "      <th>86</th>\n",
       "      <td>acs_sex_by_age</td>\n",
       "      <td>203137</td>\n",
       "    </tr>\n",
       "    <tr>\n",
       "      <th>83</th>\n",
       "      <td>acs_housing_unit</td>\n",
       "      <td>202878</td>\n",
       "    </tr>\n",
       "    <tr>\n",
       "      <th>84</th>\n",
       "      <td>acs_population</td>\n",
       "      <td>202878</td>\n",
       "    </tr>\n",
       "    <tr>\n",
       "      <th>79</th>\n",
       "      <td>acs_median_income</td>\n",
       "      <td>196707</td>\n",
       "    </tr>\n",
       "  </tbody>\n",
       "</table>\n",
       "</div>"
      ],
      "text/plain": [
       "                 table_id  row_count\n",
       "49      acs_with_geo_2014     216330\n",
       "51  fcc_acs_with_geo_2014     216330\n",
       "40      acs_with_geo_2015     216321\n",
       "41      acs_with_geo_2016     216321\n",
       "42  fcc_acs_with_geo_2015     216321\n",
       "43  fcc_acs_with_geo_2016     216321\n",
       "59          acs_education     212249\n",
       "60  acs_school_enrollment     212249\n",
       "58           acs_hispanic     212247\n",
       "94         acs_employment     207265\n",
       "91               acs_race     207262\n",
       "92   acs_total_population     207262\n",
       "86         acs_sex_by_age     203137\n",
       "83       acs_housing_unit     202878\n",
       "84         acs_population     202878\n",
       "79      acs_median_income     196707"
      ]
     },
     "execution_count": 2,
     "metadata": {},
     "output_type": "execute_result"
    }
   ],
   "source": [
    "query = \"\"\"\n",
    "SELECT table_id, row_count FROM `fccdsicapstone-218522.broadband.__TABLES__`\n",
    "\"\"\"\n",
    "tables = pd.read_gbq(query, project_id='fccdsicapstone-218522', dialect='standard')\n",
    "\n",
    "mask = (tables.table_id.str.contains('acs') &\n",
    "        ~tables.table_id.str.contains('group') &\n",
    "        ~tables.table_id.str.contains('level') &\n",
    "        tables.row_count.between(190000, 220000))\n",
    "tables[mask].sort_values('row_count', ascending=False)"
   ]
  },
  {
   "cell_type": "code",
   "execution_count": 13,
   "metadata": {},
   "outputs": [],
   "source": [
    "query = \"\"\"\n",
    "WITH block_level AS (\n",
    "  SELECT \n",
    "    SUBSTR(block.block_code, 0, 12) AS block_group\n",
    "    , block.total_length \n",
    "    , block.land_area\n",
    "    , block.elevation_mean\n",
    "    , block.elevation_range\n",
    "    , CASE WHEN fcc.block_code IS NULL THEN 0 ELSE 1 END AS int_avail\n",
    "    , CASE WHEN fund.census_block IS NULL THEN 0 ELSE 1 END AS fund_provided\n",
    "    , CASE WHEN fcc.block_code IS NOT NULL AND fund.census_block IS NULL THEN 0 ELSE 1 END AS avail_not_funded\n",
    "    , fcc_demography.population_2016\n",
    "  FROM broadband.census_block block\n",
    "  LEFT JOIN (SELECT DISTINCT block_code FROM broadband.fcc WHERE file_date = 201706) fcc\n",
    "    ON block.block_code = fcc.block_code\n",
    "  LEFT JOIN broadband.fcc_demography\n",
    "    ON block.block_code = fcc_demography.block_code\n",
    "  LEFT JOIN broadband.fund\n",
    "    ON block.block_code = fund.census_block\n",
    "  WHERE fcc_demography.housing_unit_2016 > 0\n",
    "),\n",
    "block_group_level AS ( \n",
    "  SELECT \n",
    "    block_group\n",
    "    , AVG(int_avail) AS int_avail_per\n",
    "    , AVG(fund_provided) AS fund_provided_per\n",
    "    , SUM(total_length) AS road_length\n",
    "    , SUM(land_area) AS land_area\n",
    "    , AVG(elevation_mean) AS avg_elevation\n",
    "    , AVG(elevation_range) AS avg_elevation_range\n",
    "  FROM (SELECT * FROM block_level WHERE avail_not_funded = 1)\n",
    "  GROUP BY block_group\n",
    ")\n",
    "\n",
    "SELECT DISTINCT\n",
    "  block_group_level.block_group\n",
    "  , block_group_level.int_avail_per\n",
    "  , block_group_level.fund_provided_per\n",
    "  , block_group_level.avg_elevation\n",
    "  , block_group_level.avg_elevation_range\n",
    "  , SAFE_DIVIDE(block_group_level.road_length, block_group_level.land_area) AS road_density\n",
    "  , SAFE_DIVIDE(acs_blockgroup_2016.race_total, block_group_level.road_length) * 1000 AS population_density\n",
    "  , SAFE_DIVIDE(acs_housing_unit.estimate_total, block_group_level.land_area)  * 1000000 AS housing_density\n",
    "  , CAST(acs_blockgroup_2016.median_household_income_in_the_past_12_months AS FLOAT64) AS median_income\n",
    "  , acs_education_average.avg_years_of_edu\n",
    "  , acs_employment_percentage.unemployment_rate\n",
    "  , acs_gender_age.avg_age\n",
    "  , law.laws_against\n",
    "  --, IFNULL(law.type, 'no_law') AS law_type\n",
    "FROM block_group_level\n",
    "LEFT JOIN broadband.acs_blockgroup_2016\n",
    "  ON block_group_level.block_group = acs_blockgroup_2016.block_group_code\n",
    "LEFT JOIN broadband.acs_housing_unit\n",
    "  ON block_group_level.block_group = acs_housing_unit.block_group_code\n",
    "LEFT JOIN broadband.acs_education_average\n",
    "  ON block_group_level.block_group = acs_education_average.block_group_code\n",
    "LEFT JOIN broadband.acs_employment_percentage\n",
    "  ON block_group_level.block_group = acs_employment_percentage.block_group_code\n",
    "LEFT JOIN broadband.acs_gender_age\n",
    "  ON block_group_level.block_group = acs_gender_age.block_group_code\n",
    "LEFT JOIN broadband.laws_against_municipal_broadband law\n",
    "  ON SUBSTR(block_group_level.block_group, 0, 2) = law.state_code\n",
    "\"\"\"\n",
    "\n",
    "all_data = pd.read_gbq(query, project_id='fccdsicapstone-218522', dialect='standard')"
   ]
  },
  {
   "cell_type": "markdown",
   "metadata": {},
   "source": [
    "#### Only No Internet Available Blocks and Funded Blocks are included in this data"
   ]
  },
  {
   "cell_type": "code",
   "execution_count": 16,
   "metadata": {},
   "outputs": [
    {
     "data": {
      "text/plain": [
       "(63305, 13)"
      ]
     },
     "execution_count": 16,
     "metadata": {},
     "output_type": "execute_result"
    }
   ],
   "source": [
    "all_data.shape"
   ]
  },
  {
   "cell_type": "markdown",
   "metadata": {},
   "source": [
    "### Data Cleaning"
   ]
  },
  {
   "cell_type": "code",
   "execution_count": 17,
   "metadata": {},
   "outputs": [
    {
     "data": {
      "text/plain": [
       "block_group            100.000000\n",
       "int_avail_per          100.000000\n",
       "fund_provided_per      100.000000\n",
       "avg_elevation          100.000000\n",
       "avg_elevation_range    100.000000\n",
       "road_density            99.971566\n",
       "population_density      98.121791\n",
       "housing_density         89.493721\n",
       "median_income           99.955770\n",
       "avg_years_of_edu        95.513782\n",
       "unemployment_rate       92.646710\n",
       "avg_age                 89.444752\n",
       "laws_against           100.000000\n",
       "dtype: float64"
      ]
     },
     "execution_count": 17,
     "metadata": {},
     "output_type": "execute_result"
    }
   ],
   "source": [
    "all_data.count() / all_data.shape[0] * 100"
   ]
  },
  {
   "cell_type": "code",
   "execution_count": 30,
   "metadata": {},
   "outputs": [],
   "source": [
    "data = all_data.dropna()"
   ]
  },
  {
   "cell_type": "code",
   "execution_count": 31,
   "metadata": {},
   "outputs": [
    {
     "data": {
      "text/plain": [
       "(55593, 13)"
      ]
     },
     "execution_count": 31,
     "metadata": {},
     "output_type": "execute_result"
    }
   ],
   "source": [
    "data.shape"
   ]
  },
  {
   "cell_type": "code",
   "execution_count": 32,
   "metadata": {},
   "outputs": [],
   "source": [
    "# removing the data that does not make sense such as income < 0\n",
    "\n",
    "mask = (\n",
    "    (data.avg_elevation_range < data.avg_elevation_range.quantile(0.98)) &\n",
    "    (data.road_density < data.road_density.quantile(0.99)) &\n",
    "    (data.road_density > 0 ) &\n",
    "    (data.population_density < data.population_density.quantile(0.98)) &\n",
    "    (data.unemployment_rate <= 1) &\n",
    "    (data.median_income >= 0)\n",
    "    \n",
    ")\n",
    "data = data[mask]"
   ]
  },
  {
   "cell_type": "code",
   "execution_count": 33,
   "metadata": {},
   "outputs": [
    {
     "data": {
      "text/plain": [
       "(51883, 13)"
      ]
     },
     "execution_count": 33,
     "metadata": {},
     "output_type": "execute_result"
    }
   ],
   "source": [
    "data.shape"
   ]
  },
  {
   "cell_type": "code",
   "execution_count": 34,
   "metadata": {},
   "outputs": [],
   "source": [
    "#convert the column of true/false to 1/0\n",
    "data['laws_against'] = data['laws_against'].astype(int)"
   ]
  },
  {
   "cell_type": "markdown",
   "metadata": {},
   "source": [
    "### Model"
   ]
  },
  {
   "cell_type": "code",
   "execution_count": 38,
   "metadata": {},
   "outputs": [
    {
     "name": "stdout",
     "output_type": "stream",
     "text": [
      "Train score 0.7242808268684046\n",
      "Test score 0.7267032861135203\n"
     ]
    }
   ],
   "source": [
    "from sklearn.model_selection import train_test_split, GridSearchCV\n",
    "from sklearn.linear_model import LogisticRegression\n",
    "from sklearn.ensemble import RandomForestRegressor\n",
    "from sklearn.ensemble import RandomForestClassifier\n",
    "\n",
    "target_col = 'fund_provided_per'\n",
    "X = data.drop(columns=['int_avail_per', 'block_group', target_col])\n",
    "y = data[target_col]\n",
    "y = (y > 0.5).astype(int)\n",
    "\n",
    "X_train, X_test, y_train, y_test = train_test_split(X, y, test_size=0.2)\n",
    "\n",
    "# baseline model\n",
    "model = LogisticRegression()\n",
    "model.fit(X_train, y_train)\n",
    "\n",
    "print('Train score', model.score(X_train, y_train))\n",
    "print('Test score', model.score(X_test, y_test))"
   ]
  },
  {
   "cell_type": "code",
   "execution_count": 65,
   "metadata": {},
   "outputs": [
    {
     "data": {
      "text/plain": [
       "0    32682\n",
       "1    19201\n",
       "Name: fund_provided_per, dtype: int64"
      ]
     },
     "execution_count": 65,
     "metadata": {},
     "output_type": "execute_result"
    }
   ],
   "source": [
    "y.value_counts()"
   ]
  },
  {
   "cell_type": "code",
   "execution_count": 42,
   "metadata": {},
   "outputs": [
    {
     "name": "stdout",
     "output_type": "stream",
     "text": [
      "Fitting 3 folds for each of 48 candidates, totalling 144 fits\n"
     ]
    },
    {
     "name": "stderr",
     "output_type": "stream",
     "text": [
      "[Parallel(n_jobs=-1)]: Done  42 tasks      | elapsed:  4.7min\n",
      "[Parallel(n_jobs=-1)]: Done 144 out of 144 | elapsed: 16.0min finished\n",
      "/anaconda/envs/py36/lib/python3.6/site-packages/sklearn/model_selection/_search.py:714: DeprecationWarning: The default of the `iid` parameter will change from True to False in version 0.22 and will be removed in 0.24. This will change numeric results when test-set sizes are unequal.\n",
      "  DeprecationWarning)\n"
     ]
    },
    {
     "name": "stdout",
     "output_type": "stream",
     "text": [
      "Train score 0.8239584036734418\n",
      "Test score 0.776058074236406\n"
     ]
    }
   ],
   "source": [
    "#Random Forest Model\n",
    "\n",
    "RFmodel = RandomForestClassifier()\n",
    "params = {\n",
    "     'n_estimators': [100,200,500],\n",
    "    'min_samples_split': [65, 70, 75, 80],\n",
    "    'max_depth': [70, 75, 80, 85],\n",
    "}\n",
    "\n",
    "grid_search = GridSearchCV(estimator=RFmodel, param_grid=params, scoring='f1', cv=3, n_jobs=-1, verbose=True)\n",
    "grid_search.fit(X_train, y_train)\n",
    "\n",
    "print('Train score', grid_search.score(X_train, y_train))\n",
    "print('Test score', grid_search.score(X_test, y_test))"
   ]
  },
  {
   "cell_type": "code",
   "execution_count": 43,
   "metadata": {},
   "outputs": [
    {
     "data": {
      "text/plain": [
       "{'max_depth': 80, 'min_samples_split': 65, 'n_estimators': 200}"
      ]
     },
     "execution_count": 43,
     "metadata": {},
     "output_type": "execute_result"
    }
   ],
   "source": [
    "grid_search.best_params_"
   ]
  },
  {
   "cell_type": "code",
   "execution_count": 44,
   "metadata": {},
   "outputs": [
    {
     "data": {
      "text/html": [
       "<div>\n",
       "<style scoped>\n",
       "    .dataframe tbody tr th:only-of-type {\n",
       "        vertical-align: middle;\n",
       "    }\n",
       "\n",
       "    .dataframe tbody tr th {\n",
       "        vertical-align: top;\n",
       "    }\n",
       "\n",
       "    .dataframe thead th {\n",
       "        text-align: right;\n",
       "    }\n",
       "</style>\n",
       "<table border=\"1\" class=\"dataframe\">\n",
       "  <thead>\n",
       "    <tr style=\"text-align: right;\">\n",
       "      <th></th>\n",
       "      <th>feature</th>\n",
       "      <th>gini_coef</th>\n",
       "    </tr>\n",
       "  </thead>\n",
       "  <tbody>\n",
       "    <tr>\n",
       "      <th>3</th>\n",
       "      <td>population_density</td>\n",
       "      <td>0.335913</td>\n",
       "    </tr>\n",
       "    <tr>\n",
       "      <th>4</th>\n",
       "      <td>housing_density</td>\n",
       "      <td>0.250614</td>\n",
       "    </tr>\n",
       "    <tr>\n",
       "      <th>2</th>\n",
       "      <td>road_density</td>\n",
       "      <td>0.146148</td>\n",
       "    </tr>\n",
       "    <tr>\n",
       "      <th>0</th>\n",
       "      <td>avg_elevation</td>\n",
       "      <td>0.084646</td>\n",
       "    </tr>\n",
       "    <tr>\n",
       "      <th>1</th>\n",
       "      <td>avg_elevation_range</td>\n",
       "      <td>0.072395</td>\n",
       "    </tr>\n",
       "    <tr>\n",
       "      <th>6</th>\n",
       "      <td>avg_years_of_edu</td>\n",
       "      <td>0.030066</td>\n",
       "    </tr>\n",
       "    <tr>\n",
       "      <th>8</th>\n",
       "      <td>avg_age</td>\n",
       "      <td>0.027184</td>\n",
       "    </tr>\n",
       "    <tr>\n",
       "      <th>5</th>\n",
       "      <td>median_income</td>\n",
       "      <td>0.025898</td>\n",
       "    </tr>\n",
       "    <tr>\n",
       "      <th>7</th>\n",
       "      <td>unemployment_rate</td>\n",
       "      <td>0.023268</td>\n",
       "    </tr>\n",
       "    <tr>\n",
       "      <th>9</th>\n",
       "      <td>laws_against</td>\n",
       "      <td>0.003867</td>\n",
       "    </tr>\n",
       "  </tbody>\n",
       "</table>\n",
       "</div>"
      ],
      "text/plain": [
       "               feature  gini_coef\n",
       "3   population_density   0.335913\n",
       "4      housing_density   0.250614\n",
       "2         road_density   0.146148\n",
       "0        avg_elevation   0.084646\n",
       "1  avg_elevation_range   0.072395\n",
       "6     avg_years_of_edu   0.030066\n",
       "8              avg_age   0.027184\n",
       "5        median_income   0.025898\n",
       "7    unemployment_rate   0.023268\n",
       "9         laws_against   0.003867"
      ]
     },
     "execution_count": 44,
     "metadata": {},
     "output_type": "execute_result"
    }
   ],
   "source": [
    "coefficients = pd.DataFrame(list(zip(X.columns, grid_search.best_estimator_.feature_importances_))\n",
    "                            , columns=['feature', 'gini_coef'])\n",
    "coefficients.sort_values('gini_coef', ascending=False)"
   ]
  },
  {
   "cell_type": "code",
   "execution_count": 45,
   "metadata": {},
   "outputs": [],
   "source": [
    "from sklearn.metrics import confusion_matrix\n",
    "CM = confusion_matrix(y_test, grid_search.predict(X_test))\n"
   ]
  },
  {
   "cell_type": "code",
   "execution_count": 54,
   "metadata": {},
   "outputs": [],
   "source": [
    "def plot_confusion_matrix(cm, classes,\n",
    "                          normalize=False,\n",
    "                          title='Confusion matrix',\n",
    "                          cmap=plt.cm.Blues):\n",
    "    \"\"\"\n",
    "    This function prints and plots the confusion matrix.\n",
    "    Normalization can be applied by setting `normalize=True`.\n",
    "    \"\"\"\n",
    "    if normalize:\n",
    "        cm = cm.astype('float') / cm.sum(axis=1)[:, np.newaxis]\n",
    "        print(\"Normalized confusion matrix\")\n",
    "    else:\n",
    "        print('Confusion matrix, without normalization')\n",
    "\n",
    "    print(cm)\n",
    "\n",
    "    plt.imshow(cm, interpolation='nearest', cmap=cmap)\n",
    "    plt.title(title)\n",
    "    plt.colorbar()\n",
    "    tick_marks = np.arange(len(classes))\n",
    "    plt.xticks(tick_marks, classes, rotation=45)\n",
    "    plt.yticks(tick_marks, classes)\n",
    "\n",
    "    fmt = '.2f' if normalize else 'd'\n",
    "    thresh = cm.max() / 2.\n",
    "    for i, j in itertools.product(range(cm.shape[0]), range(cm.shape[1])):\n",
    "        plt.text(j, i, format(cm[i, j], fmt),\n",
    "                 horizontalalignment=\"center\",\n",
    "                 color=\"white\" if cm[i, j] > thresh else \"black\")\n",
    "\n",
    "    plt.ylabel('True label')\n",
    "    plt.xlabel('Predicted label')\n",
    "    plt.tight_layout()"
   ]
  },
  {
   "cell_type": "code",
   "execution_count": 59,
   "metadata": {},
   "outputs": [
    {
     "name": "stdout",
     "output_type": "stream",
     "text": [
      "Confusion matrix, without normalization\n",
      "[[5909  657]\n",
      " [ 978 2833]]\n",
      "Normalized confusion matrix\n",
      "[[0.89993908 0.10006092]\n",
      " [0.25662556 0.74337444]]\n"
     ]
    },
    {
     "data": {
      "image/png": "[encoded data removed]",
      "text/plain": [
       "<matplotlib.figure.Figure at 0x11f383128>"
      ]
     },
     "metadata": {},
     "output_type": "display_data"
    },
    {
     "data": {
      "image/png": "[encoded data removed]",
      "text/plain": [
       "<matplotlib.figure.Figure at 0x11f3a0e80>"
      ]
     },
     "metadata": {},
     "output_type": "display_data"
    }
   ],
   "source": [
    "class_names = np.unique(y)\n",
    "# Plot non-normalized confusion matrix\n",
    "plt.figure()\n",
    "plot_confusion_matrix(CM, classes=class_names,\n",
    "                      title='Confusion matrix, without normalization')\n",
    "\n",
    "#Plot normalized confusion matrix\n",
    "plt.figure()\n",
    "plot_confusion_matrix(CM, classes=class_names, normalize=True,\n",
    "                      title='Normalized confusion matrix')\n",
    "\n",
    "plt.show()"
   ]
  },
  {
   "cell_type": "markdown",
   "metadata": {},
   "source": [
    "### Predicting Block Groups that are likely to get funded in the future"
   ]
  },
  {
   "cell_type": "code",
   "execution_count": 62,
   "metadata": {},
   "outputs": [],
   "source": [
    "no_enough_funded = data.iloc[np.where(y==0)].copy()\n",
    "\n",
    "X_pred = no_enough_funded.drop(columns=['int_avail_per', 'block_group', target_col])\n",
    "proba = grid_search.predict_proba(X_pred)\n",
    "no_enough_funded['proba'] = proba[:, 1]"
   ]
  },
  {
   "cell_type": "code",
   "execution_count": 64,
   "metadata": {},
   "outputs": [
    {
     "data": {
      "text/html": [
       "<div>\n",
       "<style scoped>\n",
       "    .dataframe tbody tr th:only-of-type {\n",
       "        vertical-align: middle;\n",
       "    }\n",
       "\n",
       "    .dataframe tbody tr th {\n",
       "        vertical-align: top;\n",
       "    }\n",
       "\n",
       "    .dataframe thead th {\n",
       "        text-align: right;\n",
       "    }\n",
       "</style>\n",
       "<table border=\"1\" class=\"dataframe\">\n",
       "  <thead>\n",
       "    <tr style=\"text-align: right;\">\n",
       "      <th></th>\n",
       "      <th>block_group</th>\n",
       "      <th>proba</th>\n",
       "    </tr>\n",
       "  </thead>\n",
       "  <tbody>\n",
       "    <tr>\n",
       "      <th>62731</th>\n",
       "      <td>290659602001</td>\n",
       "      <td>0.990779</td>\n",
       "    </tr>\n",
       "    <tr>\n",
       "      <th>42653</th>\n",
       "      <td>121130101002</td>\n",
       "      <td>0.989870</td>\n",
       "    </tr>\n",
       "    <tr>\n",
       "      <th>60711</th>\n",
       "      <td>290854701003</td>\n",
       "      <td>0.989494</td>\n",
       "    </tr>\n",
       "    <tr>\n",
       "      <th>62241</th>\n",
       "      <td>510230401004</td>\n",
       "      <td>0.984563</td>\n",
       "    </tr>\n",
       "    <tr>\n",
       "      <th>63185</th>\n",
       "      <td>221159501006</td>\n",
       "      <td>0.981825</td>\n",
       "    </tr>\n",
       "    <tr>\n",
       "      <th>49924</th>\n",
       "      <td>050719517002</td>\n",
       "      <td>0.978432</td>\n",
       "    </tr>\n",
       "    <tr>\n",
       "      <th>7814</th>\n",
       "      <td>400770872001</td>\n",
       "      <td>0.973015</td>\n",
       "    </tr>\n",
       "    <tr>\n",
       "      <th>28553</th>\n",
       "      <td>191379604001</td>\n",
       "      <td>0.964478</td>\n",
       "    </tr>\n",
       "    <tr>\n",
       "      <th>62021</th>\n",
       "      <td>292154803003</td>\n",
       "      <td>0.955416</td>\n",
       "    </tr>\n",
       "    <tr>\n",
       "      <th>24909</th>\n",
       "      <td>171759515003</td>\n",
       "      <td>0.952901</td>\n",
       "    </tr>\n",
       "  </tbody>\n",
       "</table>\n",
       "</div>"
      ],
      "text/plain": [
       "        block_group     proba\n",
       "62731  290659602001  0.990779\n",
       "42653  121130101002  0.989870\n",
       "60711  290854701003  0.989494\n",
       "62241  510230401004  0.984563\n",
       "63185  221159501006  0.981825\n",
       "49924  050719517002  0.978432\n",
       "7814   400770872001  0.973015\n",
       "28553  191379604001  0.964478\n",
       "62021  292154803003  0.955416\n",
       "24909  171759515003  0.952901"
      ]
     },
     "execution_count": 64,
     "metadata": {},
     "output_type": "execute_result"
    }
   ],
   "source": [
    "no_enough_funded.sort_values('proba', ascending=False)[['block_group', 'proba']].head(10)"
   ]
  },
  {
   "cell_type": "code",
   "execution_count": null,
   "metadata": {},
   "outputs": [],
   "source": []
  }
 ],
 "metadata": {
  "kernelspec": {
   "display_name": "Python 3",
   "language": "python",
   "name": "python3"
  },
  "language_info": {
   "codemirror_mode": {
    "name": "ipython",
    "version": 3
   },
   "file_extension": ".py",
   "mimetype": "text/x-python",
   "name": "python",
   "nbconvert_exporter": "python",
   "pygments_lexer": "ipython3",
   "version": "3.6.4"
  }
 },
 "nbformat": 4,
 "nbformat_minor": 2
}
