{
 "cells": [
  {
   "cell_type": "code",
   "execution_count": 1,
   "metadata": {},
   "outputs": [],
   "source": [
    "import pandas as pd\n",
    "import numpy as np"
   ]
  },
  {
   "cell_type": "code",
   "execution_count": 2,
   "metadata": {},
   "outputs": [],
   "source": [
    "query = \"\"\"\n",
    "SELECT DISTINCT \n",
    "  SUBSTR(block_code, 0, 12) AS block_group\n",
    "  , state\n",
    "  , county\n",
    "FROM broadband.census_block\n",
    "\"\"\"\n",
    "geo = pd.read_gbq(query, project_id='fccdsicapstone-218522', dialect='standard')"
   ]
  },
  {
   "cell_type": "code",
   "execution_count": 10,
   "metadata": {},
   "outputs": [],
   "source": [
    "broadband = pd.read_csv('broadband_prediction_result.csv', dtype={'block_group': 'object'})\n",
    "fund = pd.read_csv('fund_prediction_result.csv', dtype={'block_group': 'object'})"
   ]
  },
  {
   "cell_type": "code",
   "execution_count": 13,
   "metadata": {},
   "outputs": [],
   "source": [
    "broadband = pd.merge(broadband, geo, how='left', on='block_group')\n",
    "fund = pd.merge(fund, geo, how='left', on='block_group')"
   ]
  },
  {
   "cell_type": "code",
   "execution_count": 15,
   "metadata": {},
   "outputs": [],
   "source": [
    "broadband.to_csv('broadband_prediction_with_geo.csv', index=False)\n",
    "fund.to_csv('fund_prediction_with_geo.csv', index=False)"
   ]
  },
  {
   "cell_type": "code",
   "execution_count": 23,
   "metadata": {},
   "outputs": [],
   "source": [
    "broadband[broadband.broad_avail_per < 0.5].sort_values('proba', ascending=False).head(10).to_clipboard(index=False)"
   ]
  },
  {
   "cell_type": "code",
   "execution_count": 24,
   "metadata": {},
   "outputs": [],
   "source": [
    "fund.sort_values('proba', ascending=False).head(10).to_clipboard(index=False)"
   ]
  },
  {
   "cell_type": "code",
   "execution_count": null,
   "metadata": {},
   "outputs": [],
   "source": []
  }
 ],
 "metadata": {
  "kernelspec": {
   "display_name": "Python 3",
   "language": "python",
   "name": "python3"
  },
  "language_info": {
   "codemirror_mode": {
    "name": "ipython",
    "version": 3
   },
   "file_extension": ".py",
   "mimetype": "text/x-python",
   "name": "python",
   "nbconvert_exporter": "python",
   "pygments_lexer": "ipython3",
   "version": "3.6.5"
  }
 },
 "nbformat": 4,
 "nbformat_minor": 2
}
