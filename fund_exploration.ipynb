{
 "cells": [
  {
   "cell_type": "code",
   "execution_count": 3,
   "metadata": {},
   "outputs": [],
   "source": [
    "import pandas as pd\n",
    "import matplotlib.pyplot as plt\n",
    "import numpy as np"
   ]
  },
  {
   "cell_type": "code",
   "execution_count": 4,
   "metadata": {},
   "outputs": [],
   "source": [
    "def query_bq(query):\n",
    "    return pd.read_gbq(query, project_id='fccdsicapstone-218522', dialect='standard')"
   ]
  },
  {
   "cell_type": "markdown",
   "metadata": {},
   "source": [
    "# Exploration Outline & Results\n",
    "\n",
    "**Objective**: Our project is looking to understand the causes of areas recieving broadband access . One cause of this is likely government funding. This notebook explores basic trends in which locations recieve funding from the government to provide broadband access.\n",
    "\n",
    "## 1. Initial Questions:\n",
    "* Distribution of years of funding? - We see that the majority of data is from 2017, with significant data from 2016 & 2015. Naturally, I wonder if everything was reported in 2016 & 2015, or if the process for defining a fund changed. Further documentation or exploration may be is needed if we would like to make year to year comparisons. 2017 is used for this exploration\n",
    "* Distribution of speeds associated with funds? - These funds typically only provide 10/1 speed, significantly lower than normal speeds in the US\n",
    "\n",
    "\n",
    "## 2. Are these first time broadband installations or upgrades?\n",
    "* 27% of census blocks recieving broadband funding in 2017 did not recieve broadband as of the 201612 fcc file date. The rest already had some form of broadband\n",
    "* Funds allocated for upgrades provide faster speeds (up and down) than funds providing broadband in areas which previously didn't have it.\n",
    "\n",
    "## 3. Comparison of areas that recieved broadband funding vs. those that didn't\n",
    "\n",
    "\n",
    "### First consider the following\n",
    "* 72% of all counties recievied broadband funding in 2017\n",
    "* 1.4% of all census blocks recieved broadband funding 2017\n",
    "\n",
    "### County Level\n",
    "* **Income:** Higher in areas not recieving funding\n",
    "* **Population:** Highest population counties are not recieving funding. Similar distribution excluding these high population counties.\n",
    "* **Population Density:** Similar trends observed to population\n",
    "* **Education:**\n",
    "    * Similar rates of no high school degree in both groups\n",
    "    * Areas receiving funding have lower rates of college degree holders\n",
    "* **Rural Urban Divide:** Counties recieving funding have a greater fraction of rural census blocks.\n",
    "\n",
    "### Census Block Level\n",
    "* **Rural Urban Divide**: Relationship is much more vivd when looking at census block level\n",
    "    * Of all blocks recieving funding: 97.4% of them are rural\n",
    "    * Of all blocks not recieving funding: 53.7% of rural"
   ]
  },
  {
   "cell_type": "markdown",
   "metadata": {},
   "source": [
    "---------\n",
    "# 1. Initial Questions:"
   ]
  },
  {
   "cell_type": "code",
   "execution_count": 29,
   "metadata": {},
   "outputs": [
    {
     "data": {
      "text/html": [
       "<div>\n",
       "<style scoped>\n",
       "    .dataframe tbody tr th:only-of-type {\n",
       "        vertical-align: middle;\n",
       "    }\n",
       "\n",
       "    .dataframe tbody tr th {\n",
       "        vertical-align: top;\n",
       "    }\n",
       "\n",
       "    .dataframe thead th {\n",
       "        text-align: right;\n",
       "    }\n",
       "</style>\n",
       "<table border=\"1\" class=\"dataframe\">\n",
       "  <thead>\n",
       "    <tr style=\"text-align: right;\">\n",
       "      <th></th>\n",
       "      <th>year</th>\n",
       "      <th>fund_ct</th>\n",
       "    </tr>\n",
       "  </thead>\n",
       "  <tbody>\n",
       "    <tr>\n",
       "      <th>0</th>\n",
       "      <td>2017</td>\n",
       "      <td>1049737</td>\n",
       "    </tr>\n",
       "    <tr>\n",
       "      <th>1</th>\n",
       "      <td>2016</td>\n",
       "      <td>427451</td>\n",
       "    </tr>\n",
       "    <tr>\n",
       "      <th>2</th>\n",
       "      <td>2015</td>\n",
       "      <td>341476</td>\n",
       "    </tr>\n",
       "    <tr>\n",
       "      <th>3</th>\n",
       "      <td>2000</td>\n",
       "      <td>3833</td>\n",
       "    </tr>\n",
       "    <tr>\n",
       "      <th>4</th>\n",
       "      <td>2014</td>\n",
       "      <td>968</td>\n",
       "    </tr>\n",
       "    <tr>\n",
       "      <th>5</th>\n",
       "      <td>2012</td>\n",
       "      <td>633</td>\n",
       "    </tr>\n",
       "    <tr>\n",
       "      <th>6</th>\n",
       "      <td>2006</td>\n",
       "      <td>233</td>\n",
       "    </tr>\n",
       "    <tr>\n",
       "      <th>7</th>\n",
       "      <td>2011</td>\n",
       "      <td>94</td>\n",
       "    </tr>\n",
       "    <tr>\n",
       "      <th>8</th>\n",
       "      <td>2010</td>\n",
       "      <td>21</td>\n",
       "    </tr>\n",
       "  </tbody>\n",
       "</table>\n",
       "</div>"
      ],
      "text/plain": [
       "   year  fund_ct\n",
       "0  2017  1049737\n",
       "1  2016   427451\n",
       "2  2015   341476\n",
       "3  2000     3833\n",
       "4  2014      968\n",
       "5  2012      633\n",
       "6  2006      233\n",
       "7  2011       94\n",
       "8  2010       21"
      ]
     },
     "execution_count": 29,
     "metadata": {},
     "output_type": "execute_result"
    }
   ],
   "source": [
    "query = \"\"\"SELECT year, COUNT(*) as fund_ct\n",
    "FROM broadband.fund\n",
    "GROUP BY year\n",
    "ORDER BY fund_ct DESC\n",
    "\"\"\"\n",
    "query_bq(query)"
   ]
  },
  {
   "cell_type": "code",
   "execution_count": 58,
   "metadata": {
    "scrolled": true
   },
   "outputs": [
    {
     "data": {
      "text/html": [
       "<div>\n",
       "<style scoped>\n",
       "    .dataframe tbody tr th:only-of-type {\n",
       "        vertical-align: middle;\n",
       "    }\n",
       "\n",
       "    .dataframe tbody tr th {\n",
       "        vertical-align: top;\n",
       "    }\n",
       "\n",
       "    .dataframe thead th {\n",
       "        text-align: right;\n",
       "    }\n",
       "</style>\n",
       "<table border=\"1\" class=\"dataframe\">\n",
       "  <thead>\n",
       "    <tr style=\"text-align: right;\">\n",
       "      <th></th>\n",
       "      <th>speed</th>\n",
       "      <th>fund_ct</th>\n",
       "    </tr>\n",
       "  </thead>\n",
       "  <tbody>\n",
       "    <tr>\n",
       "      <th>0</th>\n",
       "      <td>10/1</td>\n",
       "      <td>1722789</td>\n",
       "    </tr>\n",
       "    <tr>\n",
       "      <th>1</th>\n",
       "      <td>100/25</td>\n",
       "      <td>26528</td>\n",
       "    </tr>\n",
       "    <tr>\n",
       "      <th>2</th>\n",
       "      <td>25/5</td>\n",
       "      <td>25260</td>\n",
       "    </tr>\n",
       "    <tr>\n",
       "      <th>4</th>\n",
       "      <td>1000/500</td>\n",
       "      <td>18865</td>\n",
       "    </tr>\n",
       "    <tr>\n",
       "      <th>5</th>\n",
       "      <td>100/20</td>\n",
       "      <td>5404</td>\n",
       "    </tr>\n",
       "    <tr>\n",
       "      <th>6</th>\n",
       "      <td>4/1</td>\n",
       "      <td>4100</td>\n",
       "    </tr>\n",
       "  </tbody>\n",
       "</table>\n",
       "</div>"
      ],
      "text/plain": [
       "      speed  fund_ct\n",
       "0      10/1  1722789\n",
       "1    100/25    26528\n",
       "2      25/5    25260\n",
       "4  1000/500    18865\n",
       "5    100/20     5404\n",
       "6       4/1     4100"
      ]
     },
     "execution_count": 58,
     "metadata": {},
     "output_type": "execute_result"
    }
   ],
   "source": [
    "query = \"\"\"SELECT CONCAT(CAST(max_down as STRING), '/', CAST(max_up as STRING)) as speed, COUNT(*) as fund_ct\n",
    "FROM broadband.fund\n",
    "GROUP BY speed\n",
    "ORDER BY fund_ct DESC\n",
    "\"\"\"\n",
    "query_bq(query).dropna()"
   ]
  },
  {
   "cell_type": "markdown",
   "metadata": {},
   "source": [
    "---\n",
    "# Part 2 - Are these first broadband installations or upgrades?"
   ]
  },
  {
   "cell_type": "code",
   "execution_count": 121,
   "metadata": {},
   "outputs": [],
   "source": [
    "# get all census blocks & max offered speed\n",
    "query = \"\"\"\n",
    "SELECT \n",
    "    block_code, \n",
    "    MAX(max_down) as max_down, \n",
    "    MAX(max_up) as max_up\n",
    "  FROM broadband.fcc\n",
    "  WHERE file_date = 201612\n",
    "GROUP BY block_code\n",
    "\"\"\"\n",
    "df_broadband_blocks = query_bq(query)"
   ]
  },
  {
   "cell_type": "code",
   "execution_count": 92,
   "metadata": {
    "scrolled": false
   },
   "outputs": [
    {
     "name": "stdout",
     "output_type": "stream",
     "text": [
      "<class 'pandas.core.frame.DataFrame'>\n",
      "RangeIndex: 8958756 entries, 0 to 8958755\n",
      "Data columns (total 3 columns):\n",
      "block_code    object\n",
      "max_down      float64\n",
      "max_up        float64\n",
      "dtypes: float64(2), object(1)\n",
      "memory usage: 205.0+ MB\n"
     ]
    }
   ],
   "source": [
    "df_broadband_blocks.info()"
   ]
  },
  {
   "cell_type": "code",
   "execution_count": 122,
   "metadata": {},
   "outputs": [],
   "source": [
    "# get list of all census blocks who got funding for broadband\n",
    "query = \"\"\"\n",
    "SELECT \n",
    "    census_block, \n",
    "    MAX(max_down) as max_down_fund, \n",
    "    MAX(max_up) as max_up_fund,\n",
    "    COUNT(*) as fund_ct\n",
    "  FROM broadband.fund\n",
    "  WHERE year = 2017\n",
    "GROUP BY census_block\n",
    "\"\"\"\n",
    "df_fund_blocks = query_bq(query)"
   ]
  },
  {
   "cell_type": "code",
   "execution_count": 123,
   "metadata": {},
   "outputs": [
    {
     "name": "stdout",
     "output_type": "stream",
     "text": [
      "Blocks with Funding: 181357\n",
      "Blocks with Broadband: 8911287\n",
      "Blocks with Funding without previous Broadband: 49742\n",
      "Blocks with Funding and previous Broadband: 131615\n"
     ]
    }
   ],
   "source": [
    "broadband_blocks = set(df_broadband_blocks.block_code)\n",
    "funding_blocks =set(df_fund_blocks.census_block)\n",
    "funding_no_broadband = funding_blocks.difference(broadband_blocks)\n",
    "funding_and_broadband = funding_blocks.intersection(broadband_blocks)\n",
    "\n",
    "print('Blocks with Funding:', len(funding_blocks))\n",
    "print('Blocks with Broadband:', len(broadband_blocks))\n",
    "print('Blocks with Funding without previous Broadband:',len(funding_no_broadband))\n",
    "print('Blocks with Funding and previous Broadband:',len(funding_and_broadband))"
   ]
  },
  {
   "cell_type": "code",
   "execution_count": 124,
   "metadata": {},
   "outputs": [
    {
     "name": "stdout",
     "output_type": "stream",
     "text": [
      "Percent of blocks recieving funding for first time broadband access: 27.43\n",
      "Percent of blocks recieving funding for updates: 72.57\n"
     ]
    }
   ],
   "source": [
    "print(\"Percent of blocks recieving funding for first time broadband access:\", round(len(funding_no_broadband)/len(funding_blocks)*100,2))\n",
    "print(\"Percent of blocks recieving funding for updates:\", round(len(funding_and_broadband)/len(funding_blocks)*100,2))"
   ]
  },
  {
   "cell_type": "code",
   "execution_count": 126,
   "metadata": {
    "scrolled": false
   },
   "outputs": [
    {
     "name": "stdout",
     "output_type": "stream",
     "text": [
      "Median Download Speed, no previous broadband: 10.0\n",
      "Median Download Speed, previous broadband: 10.0\n",
      "Mean Download Speed, no previous broadband: 14.323484863784154\n",
      "Mean Download Speed, previous broadband: 30.8580314247917\n",
      "---\n",
      "Median Upload Speed, no previous broadband: 1.0\n",
      "Median Upload Speed, previous broadband: 1.0\n",
      "Mean Upload Speed, no previous broadband: 2.9761899953551305\n",
      "Mean Upload Speed, previous broadband: 10.827449888210674\n"
     ]
    }
   ],
   "source": [
    "print('Median Download Speed, no previous broadband:',np.median(df_fund_blocks[df_fund_blocks.census_block.isin(funding_no_broadband)].max_down_fund))\n",
    "print('Median Download Speed, previous broadband:',np.median(df_fund_blocks[df_fund_blocks.census_block.isin(funding_and_broadband)].max_down_fund))\n",
    "print('Mean Download Speed, no previous broadband:',np.mean(df_fund_blocks[df_fund_blocks.census_block.isin(funding_no_broadband)].max_down_fund))\n",
    "print('Mean Download Speed, previous broadband:',np.mean(df_fund_blocks[df_fund_blocks.census_block.isin(funding_and_broadband)].max_down_fund))\n",
    "print('---')\n",
    "print('Median Upload Speed, no previous broadband:',np.median(df_fund_blocks[df_fund_blocks.census_block.isin(funding_no_broadband)].max_up_fund))\n",
    "print('Median Upload Speed, previous broadband:',np.median(df_fund_blocks[df_fund_blocks.census_block.isin(funding_and_broadband)].max_up_fund))\n",
    "print('Mean Upload Speed, no previous broadband:',np.mean(df_fund_blocks[df_fund_blocks.census_block.isin(funding_no_broadband)].max_up_fund))\n",
    "print('Mean Upload Speed, previous broadband:',np.mean(df_fund_blocks[df_fund_blocks.census_block.isin(funding_and_broadband)].max_up_fund))"
   ]
  },
  {
   "cell_type": "code",
   "execution_count": null,
   "metadata": {},
   "outputs": [],
   "source": [
    "# free up memory\n",
    "import gc\n",
    "del [[df_broadband_blocks,df_fund_blocks]]\n",
    "gc.collect()\n",
    "df_broadband_blocks=pd.DataFrame()\n",
    "df_fund_blocks=pd.DataFrame()"
   ]
  },
  {
   "cell_type": "markdown",
   "metadata": {},
   "source": [
    "---\n",
    "## Collect Data For Part 3"
   ]
  },
  {
   "cell_type": "code",
   "execution_count": 83,
   "metadata": {},
   "outputs": [],
   "source": [
    "query = \"\"\"\n",
    "SELECT \n",
    "  state_county.state_county_code, \n",
    "  census_income.census_income_2016,\n",
    "  census_population_new.pop_2017,\n",
    "  census_education.no_hs_diploma,\n",
    "  census_education.bachelor_or_higher,\n",
    "  fund.max_down_fund,\n",
    "  fund.max_up_fund,\n",
    "  fund.fund_ct,\n",
    "  CASE WHEN fund_ct IS NOT NULL THEN 1 ELSE 0 END AS recieve_fund,\n",
    "  geography.urban_ct,\n",
    "  geography.rural_ct,\n",
    "  geography.road_length,\n",
    "  geography.land_area\n",
    "FROM broadband.state_county\n",
    "LEFT JOIN broadband.census_income\n",
    "  ON state_county.state_county_code = census_income.state_county_code\n",
    "LEFT JOIN broadband.census_population_new\n",
    "  ON state_county.state_county_code = census_population_new.state_county_code\n",
    "LEFT JOIN broadband.census_education\n",
    "  ON state_county.state_county_code = census_education.state_county_code\n",
    "LEFT JOIN (SELECT \n",
    "             SUBSTR(census_block,0,5) as state_county_code,\n",
    "             MAX(max_down) as max_down_fund, \n",
    "             MAX(max_up) as max_up_fund,\n",
    "             COUNT(*) as fund_ct\n",
    "           FROM broadband.fund\n",
    "           WHERE year = 2017\n",
    "           GROUP BY state_county_code) fund\n",
    "  ON state_county.state_county_code = fund.state_county_code\n",
    "LEFT JOIN (SELECT \n",
    "             SUM(CASE WHEN urban_rural = 'R' THEN 1 ELSE 0 END) AS rural_ct,\n",
    "             SUM(CASE WHEN urban_rural = 'U' THEN 1 ELSE 0 END) AS urban_ct,\n",
    "             SUM(total_length) as road_length,\n",
    "             SUM(land_area) as land_area,\n",
    "             SUBSTR(block_code,0,5) as state_county_code\n",
    "           FROM broadband.geography\n",
    "           GROUP BY state_county_code) geography\n",
    "  ON state_county.state_county_code = geography.state_county_code\n",
    "\"\"\"\n",
    "df_county = query_bq(query)"
   ]
  },
  {
   "cell_type": "code",
   "execution_count": 84,
   "metadata": {},
   "outputs": [],
   "source": [
    "# create density and convert to sq miles\n",
    "df_county['pop_density_per_sq_mile'] = df_county.pop_2017/df_county.land_area*2.59*10**6"
   ]
  },
  {
   "cell_type": "code",
   "execution_count": 85,
   "metadata": {
    "scrolled": true
   },
   "outputs": [
    {
     "data": {
      "text/html": [
       "<div>\n",
       "<style scoped>\n",
       "    .dataframe tbody tr th:only-of-type {\n",
       "        vertical-align: middle;\n",
       "    }\n",
       "\n",
       "    .dataframe tbody tr th {\n",
       "        vertical-align: top;\n",
       "    }\n",
       "\n",
       "    .dataframe thead th {\n",
       "        text-align: right;\n",
       "    }\n",
       "</style>\n",
       "<table border=\"1\" class=\"dataframe\">\n",
       "  <thead>\n",
       "    <tr style=\"text-align: right;\">\n",
       "      <th></th>\n",
       "      <th>state_county_code</th>\n",
       "      <th>census_income_2016</th>\n",
       "      <th>pop_2017</th>\n",
       "      <th>no_hs_diploma</th>\n",
       "      <th>bachelor_or_higher</th>\n",
       "      <th>max_down_fund</th>\n",
       "      <th>max_up_fund</th>\n",
       "      <th>fund_ct</th>\n",
       "      <th>recieve_fund</th>\n",
       "      <th>urban_ct</th>\n",
       "      <th>rural_ct</th>\n",
       "      <th>road_length</th>\n",
       "      <th>land_area</th>\n",
       "      <th>pop_density_per_sq_mile</th>\n",
       "    </tr>\n",
       "  </thead>\n",
       "  <tbody>\n",
       "    <tr>\n",
       "      <th>0</th>\n",
       "      <td>49025</td>\n",
       "      <td>37134</td>\n",
       "      <td>7567</td>\n",
       "      <td>5.0</td>\n",
       "      <td>25.3</td>\n",
       "      <td>NaN</td>\n",
       "      <td>NaN</td>\n",
       "      <td>NaN</td>\n",
       "      <td>0</td>\n",
       "      <td>121</td>\n",
       "      <td>1508</td>\n",
       "      <td>7.335590e+06</td>\n",
       "      <td>1.033409e+10</td>\n",
       "      <td>1.89649</td>\n",
       "    </tr>\n",
       "    <tr>\n",
       "      <th>1</th>\n",
       "      <td>49009</td>\n",
       "      <td>34879</td>\n",
       "      <td>1029</td>\n",
       "      <td>4.9</td>\n",
       "      <td>14.5</td>\n",
       "      <td>NaN</td>\n",
       "      <td>NaN</td>\n",
       "      <td>NaN</td>\n",
       "      <td>0</td>\n",
       "      <td>0</td>\n",
       "      <td>753</td>\n",
       "      <td>1.669745e+06</td>\n",
       "      <td>1.805315e+09</td>\n",
       "      <td>1.47626</td>\n",
       "    </tr>\n",
       "    <tr>\n",
       "      <th>2</th>\n",
       "      <td>49031</td>\n",
       "      <td>28104</td>\n",
       "      <td>1420</td>\n",
       "      <td>17.0</td>\n",
       "      <td>20.7</td>\n",
       "      <td>NaN</td>\n",
       "      <td>NaN</td>\n",
       "      <td>NaN</td>\n",
       "      <td>0</td>\n",
       "      <td>0</td>\n",
       "      <td>845</td>\n",
       "      <td>2.109264e+06</td>\n",
       "      <td>1.964343e+09</td>\n",
       "      <td>1.87228</td>\n",
       "    </tr>\n",
       "    <tr>\n",
       "      <th>3</th>\n",
       "      <td>16067</td>\n",
       "      <td>37542</td>\n",
       "      <td>20729</td>\n",
       "      <td>22.0</td>\n",
       "      <td>14.9</td>\n",
       "      <td>NaN</td>\n",
       "      <td>NaN</td>\n",
       "      <td>NaN</td>\n",
       "      <td>0</td>\n",
       "      <td>975</td>\n",
       "      <td>3288</td>\n",
       "      <td>7.901592e+06</td>\n",
       "      <td>1.960825e+09</td>\n",
       "      <td>27.3804</td>\n",
       "    </tr>\n",
       "    <tr>\n",
       "      <th>4</th>\n",
       "      <td>16077</td>\n",
       "      <td>36360</td>\n",
       "      <td>7600</td>\n",
       "      <td>20.8</td>\n",
       "      <td>15.3</td>\n",
       "      <td>NaN</td>\n",
       "      <td>NaN</td>\n",
       "      <td>NaN</td>\n",
       "      <td>0</td>\n",
       "      <td>287</td>\n",
       "      <td>2276</td>\n",
       "      <td>6.238272e+06</td>\n",
       "      <td>3.635908e+09</td>\n",
       "      <td>5.41378</td>\n",
       "    </tr>\n",
       "  </tbody>\n",
       "</table>\n",
       "</div>"
      ],
      "text/plain": [
       "  state_county_code census_income_2016 pop_2017  no_hs_diploma  \\\n",
       "0             49025              37134     7567            5.0   \n",
       "1             49009              34879     1029            4.9   \n",
       "2             49031              28104     1420           17.0   \n",
       "3             16067              37542    20729           22.0   \n",
       "4             16077              36360     7600           20.8   \n",
       "\n",
       "   bachelor_or_higher max_down_fund max_up_fund fund_ct  recieve_fund  \\\n",
       "0                25.3           NaN         NaN     NaN             0   \n",
       "1                14.5           NaN         NaN     NaN             0   \n",
       "2                20.7           NaN         NaN     NaN             0   \n",
       "3                14.9           NaN         NaN     NaN             0   \n",
       "4                15.3           NaN         NaN     NaN             0   \n",
       "\n",
       "  urban_ct rural_ct   road_length     land_area pop_density_per_sq_mile  \n",
       "0      121     1508  7.335590e+06  1.033409e+10                 1.89649  \n",
       "1        0      753  1.669745e+06  1.805315e+09                 1.47626  \n",
       "2        0      845  2.109264e+06  1.964343e+09                 1.87228  \n",
       "3      975     3288  7.901592e+06  1.960825e+09                 27.3804  \n",
       "4      287     2276  6.238272e+06  3.635908e+09                 5.41378  "
      ]
     },
     "execution_count": 85,
     "metadata": {},
     "output_type": "execute_result"
    }
   ],
   "source": [
    "df_county.head()"
   ]
  },
  {
   "cell_type": "code",
   "execution_count": 86,
   "metadata": {},
   "outputs": [
    {
     "name": "stdout",
     "output_type": "stream",
     "text": [
      "<class 'pandas.core.frame.DataFrame'>\n",
      "RangeIndex: 3143 entries, 0 to 3142\n",
      "Data columns (total 14 columns):\n",
      "state_county_code          3143 non-null object\n",
      "census_income_2016         3112 non-null object\n",
      "pop_2017                   3140 non-null object\n",
      "no_hs_diploma              3140 non-null float64\n",
      "bachelor_or_higher         3140 non-null float64\n",
      "max_down_fund              2245 non-null object\n",
      "max_up_fund                2245 non-null object\n",
      "fund_ct                    2258 non-null object\n",
      "recieve_fund               3143 non-null int64\n",
      "urban_ct                   3108 non-null object\n",
      "rural_ct                   3108 non-null object\n",
      "road_length                3108 non-null float64\n",
      "land_area                  3108 non-null float64\n",
      "pop_density_per_sq_mile    3106 non-null object\n",
      "dtypes: float64(4), int64(1), object(9)\n",
      "memory usage: 343.8+ KB\n"
     ]
    }
   ],
   "source": [
    "df_county.info()"
   ]
  },
  {
   "cell_type": "code",
   "execution_count": 23,
   "metadata": {},
   "outputs": [],
   "source": [
    "query = \"\"\"\n",
    "SELECT \n",
    "  block_code,\n",
    "  fund_ct,\n",
    "  CASE WHEN fund_ct IS NOT NULL THEN 1 ELSE 0 END AS recieve_fund,\n",
    "  max_down_fund,\n",
    "  max_up_fund,\n",
    "  urban_rural,\n",
    "  total_length\n",
    "FROM broadband.geography\n",
    "LEFT JOIN (SELECT \n",
    "             census_block,\n",
    "             MAX(max_down) as max_down_fund, \n",
    "             MAX(max_up) as max_up_fund,\n",
    "             COUNT(*) as fund_ct\n",
    "           FROM broadband.fund\n",
    "           WHERE year = 2017\n",
    "           GROUP BY census_block) fund\n",
    "  ON geography.block_code = fund.census_block\n",
    "\"\"\"\n",
    "df_block = query_bq(query)"
   ]
  },
  {
   "cell_type": "code",
   "execution_count": 24,
   "metadata": {},
   "outputs": [
    {
     "data": {
      "text/html": [
       "<div>\n",
       "<style scoped>\n",
       "    .dataframe tbody tr th:only-of-type {\n",
       "        vertical-align: middle;\n",
       "    }\n",
       "\n",
       "    .dataframe tbody tr th {\n",
       "        vertical-align: top;\n",
       "    }\n",
       "\n",
       "    .dataframe thead th {\n",
       "        text-align: right;\n",
       "    }\n",
       "</style>\n",
       "<table border=\"1\" class=\"dataframe\">\n",
       "  <thead>\n",
       "    <tr style=\"text-align: right;\">\n",
       "      <th></th>\n",
       "      <th>block_code</th>\n",
       "      <th>fund_ct</th>\n",
       "      <th>recieve_fund</th>\n",
       "      <th>max_down_fund</th>\n",
       "      <th>max_up_fund</th>\n",
       "      <th>urban_rural</th>\n",
       "      <th>total_length</th>\n",
       "    </tr>\n",
       "  </thead>\n",
       "  <tbody>\n",
       "    <tr>\n",
       "      <th>0</th>\n",
       "      <td>360259710002022</td>\n",
       "      <td>6</td>\n",
       "      <td>1</td>\n",
       "      <td>1000</td>\n",
       "      <td>500</td>\n",
       "      <td>R</td>\n",
       "      <td>9016.542</td>\n",
       "    </tr>\n",
       "    <tr>\n",
       "      <th>1</th>\n",
       "      <td>131451204023001</td>\n",
       "      <td>2</td>\n",
       "      <td>1</td>\n",
       "      <td>100</td>\n",
       "      <td>25</td>\n",
       "      <td>R</td>\n",
       "      <td>10101.440</td>\n",
       "    </tr>\n",
       "    <tr>\n",
       "      <th>2</th>\n",
       "      <td>131079702001024</td>\n",
       "      <td>4</td>\n",
       "      <td>1</td>\n",
       "      <td>1000</td>\n",
       "      <td>500</td>\n",
       "      <td>R</td>\n",
       "      <td>4917.577</td>\n",
       "    </tr>\n",
       "    <tr>\n",
       "      <th>3</th>\n",
       "      <td>371719311022052</td>\n",
       "      <td>1</td>\n",
       "      <td>1</td>\n",
       "      <td>100</td>\n",
       "      <td>25</td>\n",
       "      <td>R</td>\n",
       "      <td>7968.405</td>\n",
       "    </tr>\n",
       "    <tr>\n",
       "      <th>4</th>\n",
       "      <td>130759601002036</td>\n",
       "      <td>10</td>\n",
       "      <td>1</td>\n",
       "      <td>100</td>\n",
       "      <td>20</td>\n",
       "      <td>R</td>\n",
       "      <td>7636.539</td>\n",
       "    </tr>\n",
       "  </tbody>\n",
       "</table>\n",
       "</div>"
      ],
      "text/plain": [
       "        block_code fund_ct  recieve_fund max_down_fund max_up_fund  \\\n",
       "0  360259710002022       6             1          1000         500   \n",
       "1  131451204023001       2             1           100          25   \n",
       "2  131079702001024       4             1          1000         500   \n",
       "3  371719311022052       1             1           100          25   \n",
       "4  130759601002036      10             1           100          20   \n",
       "\n",
       "  urban_rural  total_length  \n",
       "0           R      9016.542  \n",
       "1           R     10101.440  \n",
       "2           R      4917.577  \n",
       "3           R      7968.405  \n",
       "4           R      7636.539  "
      ]
     },
     "execution_count": 24,
     "metadata": {},
     "output_type": "execute_result"
    }
   ],
   "source": [
    "df_block.head()"
   ]
  },
  {
   "cell_type": "code",
   "execution_count": 25,
   "metadata": {
    "scrolled": true
   },
   "outputs": [
    {
     "name": "stdout",
     "output_type": "stream",
     "text": [
      "<class 'pandas.core.frame.DataFrame'>\n",
      "RangeIndex: 11001482 entries, 0 to 11001481\n",
      "Data columns (total 7 columns):\n",
      "block_code       object\n",
      "fund_ct          object\n",
      "recieve_fund     int64\n",
      "max_down_fund    object\n",
      "max_up_fund      object\n",
      "urban_rural      object\n",
      "total_length     float64\n",
      "dtypes: float64(1), int64(1), object(5)\n",
      "memory usage: 587.5+ MB\n"
     ]
    }
   ],
   "source": [
    "df_block.info()"
   ]
  },
  {
   "cell_type": "markdown",
   "metadata": {},
   "source": [
    "-------\n",
    "# 3. Comparison of areas that recieved broadband funding vs. those that didn't\n"
   ]
  },
  {
   "cell_type": "code",
   "execution_count": 101,
   "metadata": {},
   "outputs": [
    {
     "data": {
      "text/plain": [
       "0.7184218899140948"
      ]
     },
     "execution_count": 101,
     "metadata": {},
     "output_type": "execute_result"
    }
   ],
   "source": [
    "len(df_county[df_county.recieve_fund == 1])/len(df_county) "
   ]
  },
  {
   "cell_type": "code",
   "execution_count": 103,
   "metadata": {},
   "outputs": [
    {
     "data": {
      "text/plain": [
       "0.014093646655968715"
      ]
     },
     "execution_count": 103,
     "metadata": {},
     "output_type": "execute_result"
    }
   ],
   "source": [
    "len(df_block[df_block.recieve_fund == 1])/len(df_block) "
   ]
  },
  {
   "cell_type": "markdown",
   "metadata": {},
   "source": [
    "**Income**"
   ]
  },
  {
   "cell_type": "code",
   "execution_count": 59,
   "metadata": {},
   "outputs": [
    {
     "name": "stdout",
     "output_type": "stream",
     "text": [
      "Median County Income No Funding: 41286.0\n",
      "Median County Income Funding: 38106.0\n",
      "---\n",
      "Mean County Income No Funding: 43719.240373395565\n",
      "Mean County Income Funding: 39646.48780487805\n"
     ]
    }
   ],
   "source": [
    "print('Median County Income No Funding:',np.median(df_county[df_county.recieve_fund == 0].census_income_2016))\n",
    "print('Median County Income Funding:',np.median(df_county[df_county.recieve_fund == 1].census_income_2016))\n",
    "print('---')\n",
    "print('Mean County Income No Funding:',np.mean(df_county[df_county.recieve_fund == 0].census_income_2016))\n",
    "print('Mean County Income Funding:',np.mean(df_county[df_county.recieve_fund == 1].census_income_2016))\n"
   ]
  },
  {
   "cell_type": "code",
   "execution_count": 42,
   "metadata": {},
   "outputs": [
    {
     "name": "stderr",
     "output_type": "stream",
     "text": [
      "/Users/spare/anaconda3/envs/py3/lib/python3.6/site-packages/matplotlib/figure.py:418: UserWarning: matplotlib is currently using a non-GUI backend, so cannot show the figure\n",
      "  \"matplotlib is currently using a non-GUI backend, \"\n"
     ]
    },
    {
     "data": {
      "image/png": "[encoded data removed]",
      "text/plain": [
       "<matplotlib.figure.Figure at 0x14d634f60>"
      ]
     },
     "metadata": {},
     "output_type": "display_data"
    }
   ],
   "source": [
    "f, ax = plt.subplots(1, 2)\n",
    "f.set_figheight(4)\n",
    "f.set_figwidth(15)\n",
    "\n",
    "ax[0].hist(list(df_county[df_county.recieve_fund == 0].census_income_2016.dropna()),bins=30)\n",
    "ax[0].set_title('Income Distribution: Not recieving funding',fontsize = 20)\n",
    "ax[0].set_xlabel('Income', fontsize = 20)\n",
    "ax[0].set_yticks([])\n",
    "\n",
    "ax[1].hist(list(df_county[df_county.recieve_fund == 1].census_income_2016.dropna().values),bins=30)\n",
    "ax[1].set_title('Income Distribution: Recieving funding',fontsize = 20)\n",
    "ax[1].set_xlabel('Income', fontsize = 20)\n",
    "ax[1].set_yticks([])\n",
    "\n",
    "f.show()"
   ]
  },
  {
   "cell_type": "markdown",
   "metadata": {},
   "source": [
    "**Population**"
   ]
  },
  {
   "cell_type": "code",
   "execution_count": 60,
   "metadata": {},
   "outputs": [
    {
     "name": "stdout",
     "output_type": "stream",
     "text": [
      "Median County Population No Funding: 22669.0\n",
      "Median County Population Funding: 26564.5\n",
      "---\n",
      "Mean County Population No Funding: 159005.724801812\n",
      "Mean County Population Funding: 81793.88435976961\n"
     ]
    }
   ],
   "source": [
    "print('Median County Population No Funding:',np.median(df_county[df_county.recieve_fund == 0].pop_2017))\n",
    "print('Median County Population Funding:',np.median(df_county[df_county.recieve_fund == 1].pop_2017))\n",
    "print('---')\n",
    "print('Mean County Population No Funding:',np.mean(df_county[df_county.recieve_fund == 0].pop_2017))\n",
    "print('Mean County Population Funding:',np.mean(df_county[df_county.recieve_fund == 1].pop_2017))\n"
   ]
  },
  {
   "cell_type": "code",
   "execution_count": 47,
   "metadata": {
    "scrolled": true
   },
   "outputs": [
    {
     "name": "stderr",
     "output_type": "stream",
     "text": [
      "/Users/spare/anaconda3/envs/py3/lib/python3.6/site-packages/matplotlib/figure.py:418: UserWarning: matplotlib is currently using a non-GUI backend, so cannot show the figure\n",
      "  \"matplotlib is currently using a non-GUI backend, \"\n"
     ]
    },
    {
     "data": {
      "image/png": "[encoded data removed]",
      "text/plain": [
       "<matplotlib.figure.Figure at 0x14dcf4978>"
      ]
     },
     "metadata": {},
     "output_type": "display_data"
    }
   ],
   "source": [
    "#only plotting counties w/ less than 1 million\n",
    "f, ax = plt.subplots(1, 2)\n",
    "f.set_figheight(4)\n",
    "f.set_figwidth(15)\n",
    "\n",
    "ax[0].hist(list(df_county[(df_county.recieve_fund == 0) & (df_county.pop_2017 <1000000)].pop_2017.dropna()),bins=30)\n",
    "ax[0].set_title('Population Distribution: Not recieving funding',fontsize = 20)\n",
    "ax[0].set_xlabel('Population', fontsize = 20)\n",
    "ax[0].set_yticks([])\n",
    "\n",
    "ax[1].hist(list(df_county[(df_county.recieve_fund == 1)& (df_county.pop_2017 <1000000)].pop_2017.dropna()),bins=30)\n",
    "ax[1].set_title('Population Distribution: Recieving funding',fontsize = 20)\n",
    "ax[1].set_xlabel('Population', fontsize = 20)\n",
    "ax[1].set_yticks([])\n",
    "\n",
    "f.show()"
   ]
  },
  {
   "cell_type": "markdown",
   "metadata": {},
   "source": [
    "**Population Density**\n"
   ]
  },
  {
   "cell_type": "code",
   "execution_count": 61,
   "metadata": {},
   "outputs": [
    {
     "name": "stdout",
     "output_type": "stream",
     "text": [
      "Median County Population Density No Funding: 44.421462868168064\n",
      "Median County Population Funding: 46.37882255762915\n",
      "---\n",
      "Mean County Population Density No Funding: 635.8927211675625\n",
      "Mean County Population Density Funding: 135.8627317081505\n"
     ]
    }
   ],
   "source": [
    "print('Median County Population Density No Funding:',np.median(df_county[df_county.recieve_fund == 0].pop_density_per_sq_mile))\n",
    "print('Median County Population Funding:',np.median(df_county[df_county.recieve_fund == 1].pop_density_per_sq_mile))\n",
    "print('---')\n",
    "print('Mean County Population Density No Funding:',np.mean(df_county[df_county.recieve_fund == 0].pop_density_per_sq_mile))\n",
    "print('Mean County Population Density Funding:',np.mean(df_county[df_county.recieve_fund == 1].pop_density_per_sq_mile))\n"
   ]
  },
  {
   "cell_type": "code",
   "execution_count": 66,
   "metadata": {},
   "outputs": [
    {
     "name": "stderr",
     "output_type": "stream",
     "text": [
      "/Users/spare/anaconda3/envs/py3/lib/python3.6/site-packages/matplotlib/figure.py:418: UserWarning: matplotlib is currently using a non-GUI backend, so cannot show the figure\n",
      "  \"matplotlib is currently using a non-GUI backend, \"\n"
     ]
    },
    {
     "data": {
      "image/png": "[encoded data removed]",
      "text/plain": [
       "<matplotlib.figure.Figure at 0x14c1d9828>"
      ]
     },
     "metadata": {},
     "output_type": "display_data"
    }
   ],
   "source": [
    "#only plotting counties w/ less than 1 million\n",
    "f, ax = plt.subplots(1, 2)\n",
    "f.set_figheight(4)\n",
    "f.set_figwidth(15)\n",
    "\n",
    "ax[0].hist(list(df_county[(df_county.recieve_fund == 0)& (df_county.pop_density_per_sq_mile <3000) ].pop_density_per_sq_mile.dropna()),bins=100)\n",
    "ax[0].set_title('Population Density Distribution: Not recieving funding',fontsize = 15)\n",
    "ax[0].set_xlabel('Population Density(/sq mile)', fontsize = 20)\n",
    "#ax[0].set_yticks([])\n",
    "\n",
    "ax[1].hist(list(df_county[(df_county.recieve_fund == 1)& (df_county.pop_density_per_sq_mile <3000)].pop_density_per_sq_mile.dropna()),bins=100)\n",
    "ax[1].set_title('Population Density Distribution: Recieving funding',fontsize = 15)\n",
    "ax[1].set_xlabel('Population Density(/sq mile)', fontsize = 20)\n",
    "#ax[1].set_yticks([])\n",
    "\n",
    "f.show()"
   ]
  },
  {
   "cell_type": "markdown",
   "metadata": {},
   "source": [
    "\n",
    "\n",
    "\n",
    "**Education**\n"
   ]
  },
  {
   "cell_type": "code",
   "execution_count": 107,
   "metadata": {},
   "outputs": [
    {
     "name": "stdout",
     "output_type": "stream",
     "text": [
      "Median County No HS Degree (%) No Funding: 12.7\n",
      "Median County No HS Degree (%) Funding: 12.7\n",
      "---\n",
      "Median County College Degree (%) No Funding: 20.3\n",
      "Median County College Degree (%) Funding: 18.0\n",
      "-----------\n",
      "Mean County No HS Degree (%) No Funding: 14.026500566251416\n",
      "Mean County No HS Degree (%) Funding: 14.24550287992911\n",
      "---\n",
      "Mean County College Degree (%) No Funding: 23.059796149490374\n",
      "Mean County College Degree (%) Funding: 19.9235711120957\n"
     ]
    }
   ],
   "source": [
    "print('Median County No HS Degree (%) No Funding:',np.median(df_county[df_county.recieve_fund == 0].no_hs_diploma.dropna()))\n",
    "print('Median County No HS Degree (%) Funding:',np.median(df_county[df_county.recieve_fund == 1].no_hs_diploma.dropna()))\n",
    "print('---')\n",
    "print('Median County College Degree (%) No Funding:',np.median(df_county[df_county.recieve_fund == 0].bachelor_or_higher.dropna()))\n",
    "print('Median County College Degree (%) Funding:',np.median(df_county[df_county.recieve_fund == 1].bachelor_or_higher.dropna()))\n",
    "print('-----------')\n",
    "print('Mean County No HS Degree (%) No Funding:',np.mean(df_county[df_county.recieve_fund == 0].no_hs_diploma.dropna()))\n",
    "print('Mean County No HS Degree (%) Funding:',np.mean(df_county[df_county.recieve_fund == 1].no_hs_diploma.dropna()))\n",
    "print('---')\n",
    "print('Mean County College Degree (%) No Funding:',np.mean(df_county[df_county.recieve_fund == 0].bachelor_or_higher.dropna()))\n",
    "print('Mean County College Degree (%) Funding:',np.mean(df_county[df_county.recieve_fund == 1].bachelor_or_higher.dropna()))\n"
   ]
  },
  {
   "cell_type": "code",
   "execution_count": 75,
   "metadata": {},
   "outputs": [
    {
     "name": "stderr",
     "output_type": "stream",
     "text": [
      "/Users/spare/anaconda3/envs/py3/lib/python3.6/site-packages/matplotlib/figure.py:418: UserWarning: matplotlib is currently using a non-GUI backend, so cannot show the figure\n",
      "  \"matplotlib is currently using a non-GUI backend, \"\n"
     ]
    },
    {
     "data": {
      "image/png": "[encoded data removed]",
      "text/plain": [
       "<matplotlib.figure.Figure at 0x155c736a0>"
      ]
     },
     "metadata": {},
     "output_type": "display_data"
    }
   ],
   "source": [
    "f, ax = plt.subplots(2, 2)\n",
    "f.set_figheight(8)\n",
    "f.set_figwidth(15)\n",
    "\n",
    "ax[0,0].hist(list(df_county[(df_county.recieve_fund == 0)].no_hs_diploma.dropna()),bins=50)\n",
    "ax[0,0].set_title('Not recieving funding',fontsize = 20)\n",
    "ax[0,0].set_ylabel('No HS Diploma', fontsize = 20)\n",
    "\n",
    "ax[0,1].hist(list(df_county[(df_county.recieve_fund == 1)].no_hs_diploma.dropna()),bins=50)\n",
    "ax[0,1].set_title('Recieving funding',fontsize = 20)\n",
    "\n",
    "ax[1,0].hist(list(df_county[(df_county.recieve_fund == 0)].bachelor_or_higher.dropna()),bins=50)\n",
    "ax[1,0].set_ylabel('Bachelors or Higher', fontsize = 20)\n",
    "\n",
    "ax[1,1].hist(list(df_county[(df_county.recieve_fund == 1)].bachelor_or_higher.dropna()),bins=50)\n",
    "\n",
    "f.show()"
   ]
  },
  {
   "cell_type": "markdown",
   "metadata": {},
   "source": [
    "** Rural vs. Urban - County Level **"
   ]
  },
  {
   "cell_type": "code",
   "execution_count": 87,
   "metadata": {},
   "outputs": [],
   "source": [
    "df_county['rural_pct'] = df_county.rural_ct/(df_county.rural_ct+df_county.urban_ct)"
   ]
  },
  {
   "cell_type": "code",
   "execution_count": 88,
   "metadata": {},
   "outputs": [
    {
     "name": "stdout",
     "output_type": "stream",
     "text": [
      "Median Rural (%) No Funding: 0.8025618641046501\n",
      "Median Rural (%) Funding: 0.8054315133153307\n",
      "---\n",
      "Mean Rural (%) No Funding: 0.6922274328426002\n",
      "Mean Rural (%) Funding: 0.7463564016719518\n"
     ]
    }
   ],
   "source": [
    "print('Median Rural (%) No Funding:',np.median(df_county[df_county.recieve_fund == 0].rural_pct.dropna()))\n",
    "print('Median Rural (%) Funding:',np.median(df_county[df_county.recieve_fund == 1].rural_pct.dropna()))\n",
    "print('---')\n",
    "print('Mean Rural (%) No Funding:',np.mean(df_county[df_county.recieve_fund == 0].rural_pct.dropna()))\n",
    "print('Mean Rural (%) Funding:',np.mean(df_county[df_county.recieve_fund == 1].rural_pct.dropna()))\n"
   ]
  },
  {
   "cell_type": "code",
   "execution_count": 90,
   "metadata": {},
   "outputs": [
    {
     "name": "stderr",
     "output_type": "stream",
     "text": [
      "/Users/spare/anaconda3/envs/py3/lib/python3.6/site-packages/matplotlib/figure.py:418: UserWarning: matplotlib is currently using a non-GUI backend, so cannot show the figure\n",
      "  \"matplotlib is currently using a non-GUI backend, \"\n"
     ]
    },
    {
     "data": {
      "image/png": "[encoded data removed]",
      "text/plain": [
       "<matplotlib.figure.Figure at 0x155c95f60>"
      ]
     },
     "metadata": {},
     "output_type": "display_data"
    }
   ],
   "source": [
    "f, ax = plt.subplots(1, 2)\n",
    "f.set_figheight(4)\n",
    "f.set_figwidth(15)\n",
    "\n",
    "ax[0].hist(list(df_county[df_county.recieve_fund == 0].rural_pct.dropna()),bins=100)\n",
    "ax[0].set_title('Rural Block (%) Distribution: Not recieving funding',fontsize = 20)\n",
    "ax[0].set_xlabel('Census Block (%) Rural', fontsize = 20)\n",
    "ax[0].set_yticks([])\n",
    "\n",
    "ax[1].hist(list(df_county[df_county.recieve_fund == 1].rural_pct.dropna().values),bins=100)\n",
    "ax[1].set_title('Rural Block (%): Recieving funding',fontsize = 20)\n",
    "ax[1].set_xlabel('Census Block (%) Rural', fontsize = 20)\n",
    "ax[1].set_yticks([])\n",
    "\n",
    "f.show()"
   ]
  },
  {
   "cell_type": "markdown",
   "metadata": {},
   "source": [
    "** Rural vs. Urban - Block Level **"
   ]
  },
  {
   "cell_type": "code",
   "execution_count": 97,
   "metadata": {},
   "outputs": [
    {
     "data": {
      "text/html": [
       "<div>\n",
       "<style scoped>\n",
       "    .dataframe tbody tr th:only-of-type {\n",
       "        vertical-align: middle;\n",
       "    }\n",
       "\n",
       "    .dataframe tbody tr th {\n",
       "        vertical-align: top;\n",
       "    }\n",
       "\n",
       "    .dataframe thead th {\n",
       "        text-align: right;\n",
       "    }\n",
       "</style>\n",
       "<table border=\"1\" class=\"dataframe\">\n",
       "  <thead>\n",
       "    <tr style=\"text-align: right;\">\n",
       "      <th></th>\n",
       "      <th>block_code</th>\n",
       "      <th>fund_ct</th>\n",
       "      <th>recieve_fund</th>\n",
       "      <th>max_down_fund</th>\n",
       "      <th>max_up_fund</th>\n",
       "      <th>urban_rural</th>\n",
       "      <th>total_length</th>\n",
       "    </tr>\n",
       "  </thead>\n",
       "  <tbody>\n",
       "    <tr>\n",
       "      <th>0</th>\n",
       "      <td>360259710002022</td>\n",
       "      <td>6</td>\n",
       "      <td>1</td>\n",
       "      <td>1000</td>\n",
       "      <td>500</td>\n",
       "      <td>R</td>\n",
       "      <td>9016.542</td>\n",
       "    </tr>\n",
       "    <tr>\n",
       "      <th>1</th>\n",
       "      <td>131451204023001</td>\n",
       "      <td>2</td>\n",
       "      <td>1</td>\n",
       "      <td>100</td>\n",
       "      <td>25</td>\n",
       "      <td>R</td>\n",
       "      <td>10101.440</td>\n",
       "    </tr>\n",
       "    <tr>\n",
       "      <th>2</th>\n",
       "      <td>131079702001024</td>\n",
       "      <td>4</td>\n",
       "      <td>1</td>\n",
       "      <td>1000</td>\n",
       "      <td>500</td>\n",
       "      <td>R</td>\n",
       "      <td>4917.577</td>\n",
       "    </tr>\n",
       "    <tr>\n",
       "      <th>3</th>\n",
       "      <td>371719311022052</td>\n",
       "      <td>1</td>\n",
       "      <td>1</td>\n",
       "      <td>100</td>\n",
       "      <td>25</td>\n",
       "      <td>R</td>\n",
       "      <td>7968.405</td>\n",
       "    </tr>\n",
       "    <tr>\n",
       "      <th>4</th>\n",
       "      <td>130759601002036</td>\n",
       "      <td>10</td>\n",
       "      <td>1</td>\n",
       "      <td>100</td>\n",
       "      <td>20</td>\n",
       "      <td>R</td>\n",
       "      <td>7636.539</td>\n",
       "    </tr>\n",
       "  </tbody>\n",
       "</table>\n",
       "</div>"
      ],
      "text/plain": [
       "        block_code fund_ct  recieve_fund max_down_fund max_up_fund  \\\n",
       "0  360259710002022       6             1          1000         500   \n",
       "1  131451204023001       2             1           100          25   \n",
       "2  131079702001024       4             1          1000         500   \n",
       "3  371719311022052       1             1           100          25   \n",
       "4  130759601002036      10             1           100          20   \n",
       "\n",
       "  urban_rural  total_length  \n",
       "0           R      9016.542  \n",
       "1           R     10101.440  \n",
       "2           R      4917.577  \n",
       "3           R      7968.405  \n",
       "4           R      7636.539  "
      ]
     },
     "execution_count": 97,
     "metadata": {},
     "output_type": "execute_result"
    }
   ],
   "source": [
    "df_block.head()"
   ]
  },
  {
   "cell_type": "code",
   "execution_count": 99,
   "metadata": {
    "scrolled": true
   },
   "outputs": [
    {
     "name": "stdout",
     "output_type": "stream",
     "text": [
      "Rural pct blocks no funding: 0.536996824116615\n",
      "Rural pct blocks w/ funding: 0.9747889404131543\n"
     ]
    }
   ],
   "source": [
    "print('Rural pct blocks no funding:',len(df_block[(df_block.recieve_fund == 0) &(df_block.urban_rural == 'R')])/len(df_block[(df_block.recieve_fund == 0)]))\n",
    "print('Rural pct blocks w/ funding:',len(df_block[(df_block.recieve_fund == 1) &(df_block.urban_rural == 'R')])/len(df_block[(df_block.recieve_fund == 1)]))"
   ]
  },
  {
   "cell_type": "code",
   "execution_count": null,
   "metadata": {},
   "outputs": [],
   "source": []
  }
 ],
 "metadata": {
  "kernelspec": {
   "display_name": "Python 3",
   "language": "python",
   "name": "python3"
  },
  "language_info": {
   "codemirror_mode": {
    "name": "ipython",
    "version": 3
   },
   "file_extension": ".py",
   "mimetype": "text/x-python",
   "name": "python",
   "nbconvert_exporter": "python",
   "pygments_lexer": "ipython3",
   "version": "3.6.4"
  }
 },
 "nbformat": 4,
 "nbformat_minor": 2
}
