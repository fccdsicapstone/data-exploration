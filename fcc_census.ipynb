{
 "cells": [
  {
   "cell_type": "code",
   "execution_count": 1,
   "metadata": {},
   "outputs": [],
   "source": [
    "% matplotlib inline\n",
    "\n",
    "from functools import reduce\n",
    "import pandas as pd\n",
    "import numpy as np\n",
    "import seaborn as sns\n",
    "import matplotlib.pyplot as plt\n",
    "import us\n",
    "\n",
    "#Pandas options\n",
    "pd.set_option('display.max_rows', 25)\n",
    "pd.set_option('display.max_columns', 100)\n",
    "pd.options.display.float_format = '{:,.6f}'.format\n",
    "\n",
    "#Set seaborn plot theme\n",
    "sns.set_style('darkgrid')"
   ]
  },
  {
   "cell_type": "markdown",
   "metadata": {},
   "source": [
    "#  Download data"
   ]
  },
  {
   "cell_type": "code",
   "execution_count": 3,
   "metadata": {},
   "outputs": [],
   "source": [
    "query = \"\"\"\n",
    "WITH county_geo AS (\n",
    "  SELECT  \n",
    "    census_block.state_county_code, \n",
    "    AVG(census_block.land_area) AS area\n",
    "  FROM broadband.census_block census_block\n",
    "  GROUP BY census_block.state_county_code\n",
    "),\n",
    "internet_block AS (\n",
    "  SELECT \n",
    "    block.*,\n",
    "    CASE WHEN fcc.max_down IS NULL THEN 0 ELSE 1 END AS count_int_avail\n",
    "  FROM broadband.census_block block\n",
    "  LEFT JOIN broadband.fcc fcc\n",
    "      ON block.block_code = fcc.block_code\n",
    "),\n",
    "internet_county AS (\n",
    "  SELECT \n",
    "    state_county_code,\n",
    "    MAX(state_abbr) AS state_abbr,\n",
    "    MAX(state) AS state,\n",
    "    MAX(county) AS county,\n",
    "    AVG(count_int_avail) AS int_avail_per\n",
    "  FROM internet_block\n",
    "  GROUP BY state_county_code\n",
    ")\n",
    "\n",
    "SELECT\n",
    "  internet_county.state_county_code, \n",
    "  internet_county.state_abbr,\n",
    "  internet_county.state,\n",
    "  internet_county.county,\n",
    "  internet_county.int_avail_per,\n",
    "  income.census_income_2016 AS income,\n",
    "  housing.total_housing_units2010census / county_geo.area AS housing_density,\n",
    "  population.census_population_2010 / county_geo.area AS population_density,\n",
    "  education.bachelor_or_higher\n",
    "FROM internet_county\n",
    "LEFT JOIN county_geo\n",
    "  ON internet_county.state_county_code = county_geo.state_county_code\n",
    "LEFT JOIN broadband.census_income income\n",
    "  ON internet_county.state_county_code = income.state_county_code\n",
    "LEFT JOIN broadband.census_housing housing\n",
    "  ON internet_county.state_county_code = housing.state_county_code\n",
    "LEFT JOIN broadband.census_population population\n",
    "  ON internet_county.state_county_code = population.state_county_code\n",
    "LEFT JOIN broadband.census_education education\n",
    "  ON internet_county.state_county_code = education.state_county_code\n",
    "\"\"\"\n",
    "\n",
    "data = pd.read_gbq(query, project_id='fccdsicapstone-218522', dialect='standard')"
   ]
  },
  {
   "cell_type": "code",
   "execution_count": 5,
   "metadata": {
    "scrolled": true
   },
   "outputs": [],
   "source": [
    "# convert to sq miles\n",
    "data.housing_density = data.housing_density *2.59*10**6\n",
    "data.population_density = data.population_density *2.59*10**6"
   ]
  },
  {
   "cell_type": "code",
   "execution_count": 9,
   "metadata": {},
   "outputs": [],
   "source": [
    "attrs = ['int_avail_per',\n",
    "         'income',\n",
    "         'housing_density',\n",
    "         'population_density',\n",
    "         'bachelor_or_higher']\n",
    "data[attrs] = data[attrs].astype(np.float)"
   ]
  },
  {
   "cell_type": "code",
   "execution_count": 10,
   "metadata": {},
   "outputs": [
    {
     "data": {
      "text/plain": [
       "state_county_code     3109\n",
       "state_abbr            3109\n",
       "state                 3109\n",
       "county                3109\n",
       "int_avail_per         3109\n",
       "income                3079\n",
       "housing_density       3109\n",
       "population_density    3107\n",
       "bachelor_or_higher    3107\n",
       "dtype: int64"
      ]
     },
     "execution_count": 10,
     "metadata": {},
     "output_type": "execute_result"
    }
   ],
   "source": [
    "data.count()"
   ]
  },
  {
   "cell_type": "markdown",
   "metadata": {},
   "source": [
    "# Which state has the most broadband coverage?"
   ]
  },
  {
   "cell_type": "code",
   "execution_count": 26,
   "metadata": {},
   "outputs": [],
   "source": [
    "internet_per = data.groupby('state').int_avail_per.mean().sort_values(ascending=False)"
   ]
  },
  {
   "cell_type": "code",
   "execution_count": 27,
   "metadata": {},
   "outputs": [
    {
     "data": {
      "text/plain": [
       "state\n",
       "Wyoming                1.000000\n",
       "Kansas                 0.993748\n",
       "Connecticut            0.992981\n",
       "Wisconsin              0.992597\n",
       "Illinois               0.992586\n",
       "Indiana                0.992445\n",
       "Ohio                   0.990877\n",
       "District of Columbia   0.990125\n",
       "South Dakota           0.989456\n",
       "Nebraska               0.987544\n",
       "Name: int_avail_per, dtype: float64"
      ]
     },
     "execution_count": 27,
     "metadata": {},
     "output_type": "execute_result"
    }
   ],
   "source": [
    "internet_per.head(10)"
   ]
  },
  {
   "cell_type": "markdown",
   "metadata": {},
   "source": [
    "# Which state has the least broadband coverage?"
   ]
  },
  {
   "cell_type": "code",
   "execution_count": 28,
   "metadata": {
    "scrolled": true
   },
   "outputs": [
    {
     "data": {
      "text/plain": [
       "state\n",
       "Alabama       0.944347\n",
       "Idaho         0.943630\n",
       "Utah          0.941992\n",
       "Georgia       0.929736\n",
       "Oregon        0.925909\n",
       "Arkansas      0.922731\n",
       "Mississippi   0.921321\n",
       "New Mexico    0.918434\n",
       "Louisiana     0.902638\n",
       "Nevada        0.839709\n",
       "Name: int_avail_per, dtype: float64"
      ]
     },
     "execution_count": 28,
     "metadata": {},
     "output_type": "execute_result"
    }
   ],
   "source": [
    "internet_per.tail(10)"
   ]
  },
  {
   "cell_type": "markdown",
   "metadata": {},
   "source": [
    "# Which county has the least broadband coverage?"
   ]
  },
  {
   "cell_type": "code",
   "execution_count": 55,
   "metadata": {},
   "outputs": [
    {
     "data": {
      "text/html": [
       "<div>\n",
       "<style scoped>\n",
       "    .dataframe tbody tr th:only-of-type {\n",
       "        vertical-align: middle;\n",
       "    }\n",
       "\n",
       "    .dataframe tbody tr th {\n",
       "        vertical-align: top;\n",
       "    }\n",
       "\n",
       "    .dataframe thead th {\n",
       "        text-align: right;\n",
       "    }\n",
       "</style>\n",
       "<table border=\"1\" class=\"dataframe\">\n",
       "  <thead>\n",
       "    <tr style=\"text-align: right;\">\n",
       "      <th></th>\n",
       "      <th>state_county_code</th>\n",
       "      <th>state_abbr</th>\n",
       "      <th>state</th>\n",
       "      <th>county</th>\n",
       "      <th>int_avail_per</th>\n",
       "      <th>income</th>\n",
       "      <th>housing_density</th>\n",
       "      <th>population_density</th>\n",
       "      <th>bachelor_or_higher</th>\n",
       "      <th>int_avail_type</th>\n",
       "    </tr>\n",
       "  </thead>\n",
       "  <tbody>\n",
       "    <tr>\n",
       "      <th>2170</th>\n",
       "      <td>48301</td>\n",
       "      <td>TX</td>\n",
       "      <td>Texas</td>\n",
       "      <td>Loving County</td>\n",
       "      <td>0.092216</td>\n",
       "      <td>39,221.000000</td>\n",
       "      <td>58.013079</td>\n",
       "      <td>95.141450</td>\n",
       "      <td>3.000000</td>\n",
       "      <td>no</td>\n",
       "    </tr>\n",
       "    <tr>\n",
       "      <th>2308</th>\n",
       "      <td>51181</td>\n",
       "      <td>VA</td>\n",
       "      <td>Virginia</td>\n",
       "      <td>Surry County</td>\n",
       "      <td>0.210751</td>\n",
       "      <td>41,337.000000</td>\n",
       "      <td>12,050.066677</td>\n",
       "      <td>24,694.939200</td>\n",
       "      <td>22.800000</td>\n",
       "      <td>no</td>\n",
       "    </tr>\n",
       "    <tr>\n",
       "      <th>1610</th>\n",
       "      <td>32011</td>\n",
       "      <td>NV</td>\n",
       "      <td>Nevada</td>\n",
       "      <td>Eureka County</td>\n",
       "      <td>0.267165</td>\n",
       "      <td>34,159.000000</td>\n",
       "      <td>462.542497</td>\n",
       "      <td>854.156080</td>\n",
       "      <td>16.600000</td>\n",
       "      <td>no</td>\n",
       "    </tr>\n",
       "    <tr>\n",
       "      <th>391</th>\n",
       "      <td>13007</td>\n",
       "      <td>GA</td>\n",
       "      <td>Georgia</td>\n",
       "      <td>Baker County</td>\n",
       "      <td>0.428082</td>\n",
       "      <td>35,296.000000</td>\n",
       "      <td>3,594.289651</td>\n",
       "      <td>7,508.410160</td>\n",
       "      <td>11.000000</td>\n",
       "      <td>no</td>\n",
       "    </tr>\n",
       "    <tr>\n",
       "      <th>186</th>\n",
       "      <td>06091</td>\n",
       "      <td>CA</td>\n",
       "      <td>California</td>\n",
       "      <td>Sierra County</td>\n",
       "      <td>0.462222</td>\n",
       "      <td>40,537.000000</td>\n",
       "      <td>4,738.240551</td>\n",
       "      <td>6,594.458499</td>\n",
       "      <td>19.800000</td>\n",
       "      <td>no</td>\n",
       "    </tr>\n",
       "    <tr>\n",
       "      <th>1589</th>\n",
       "      <td>35021</td>\n",
       "      <td>NM</td>\n",
       "      <td>New Mexico</td>\n",
       "      <td>Harding County</td>\n",
       "      <td>0.474255</td>\n",
       "      <td>42,720.000000</td>\n",
       "      <td>247.497783</td>\n",
       "      <td>327.017032</td>\n",
       "      <td>25.800000</td>\n",
       "      <td>no</td>\n",
       "    </tr>\n",
       "    <tr>\n",
       "      <th>1300</th>\n",
       "      <td>30061</td>\n",
       "      <td>MT</td>\n",
       "      <td>Montana</td>\n",
       "      <td>Mineral County</td>\n",
       "      <td>0.475988</td>\n",
       "      <td>33,617.000000</td>\n",
       "      <td>3,152.467786</td>\n",
       "      <td>5,442.711145</td>\n",
       "      <td>12.700000</td>\n",
       "      <td>no</td>\n",
       "    </tr>\n",
       "    <tr>\n",
       "      <th>1267</th>\n",
       "      <td>28055</td>\n",
       "      <td>MS</td>\n",
       "      <td>Mississippi</td>\n",
       "      <td>Issaquena County</td>\n",
       "      <td>0.535095</td>\n",
       "      <td>22,883.000000</td>\n",
       "      <td>1,015.487140</td>\n",
       "      <td>2,549.598070</td>\n",
       "      <td>9.000000</td>\n",
       "      <td>NaN</td>\n",
       "    </tr>\n",
       "    <tr>\n",
       "      <th>1301</th>\n",
       "      <td>30039</td>\n",
       "      <td>MT</td>\n",
       "      <td>Montana</td>\n",
       "      <td>Granite County</td>\n",
       "      <td>0.539844</td>\n",
       "      <td>36,868.000000</td>\n",
       "      <td>2,535.960676</td>\n",
       "      <td>2,766.911028</td>\n",
       "      <td>25.000000</td>\n",
       "      <td>NaN</td>\n",
       "    </tr>\n",
       "    <tr>\n",
       "      <th>357</th>\n",
       "      <td>13065</td>\n",
       "      <td>GA</td>\n",
       "      <td>Georgia</td>\n",
       "      <td>Clinch County</td>\n",
       "      <td>0.559275</td>\n",
       "      <td>32,087.000000</td>\n",
       "      <td>7,821.966743</td>\n",
       "      <td>17,683.315571</td>\n",
       "      <td>14.400000</td>\n",
       "      <td>NaN</td>\n",
       "    </tr>\n",
       "  </tbody>\n",
       "</table>\n",
       "</div>"
      ],
      "text/plain": [
       "     state_county_code state_abbr        state            county  \\\n",
       "2170             48301         TX        Texas     Loving County   \n",
       "2308             51181         VA     Virginia      Surry County   \n",
       "1610             32011         NV       Nevada     Eureka County   \n",
       "391              13007         GA      Georgia      Baker County   \n",
       "186              06091         CA   California     Sierra County   \n",
       "1589             35021         NM   New Mexico    Harding County   \n",
       "1300             30061         MT      Montana    Mineral County   \n",
       "1267             28055         MS  Mississippi  Issaquena County   \n",
       "1301             30039         MT      Montana    Granite County   \n",
       "357              13065         GA      Georgia     Clinch County   \n",
       "\n",
       "      int_avail_per        income  housing_density  population_density  \\\n",
       "2170       0.092216 39,221.000000        58.013079           95.141450   \n",
       "2308       0.210751 41,337.000000    12,050.066677       24,694.939200   \n",
       "1610       0.267165 34,159.000000       462.542497          854.156080   \n",
       "391        0.428082 35,296.000000     3,594.289651        7,508.410160   \n",
       "186        0.462222 40,537.000000     4,738.240551        6,594.458499   \n",
       "1589       0.474255 42,720.000000       247.497783          327.017032   \n",
       "1300       0.475988 33,617.000000     3,152.467786        5,442.711145   \n",
       "1267       0.535095 22,883.000000     1,015.487140        2,549.598070   \n",
       "1301       0.539844 36,868.000000     2,535.960676        2,766.911028   \n",
       "357        0.559275 32,087.000000     7,821.966743       17,683.315571   \n",
       "\n",
       "      bachelor_or_higher int_avail_type  \n",
       "2170            3.000000             no  \n",
       "2308           22.800000             no  \n",
       "1610           16.600000             no  \n",
       "391            11.000000             no  \n",
       "186            19.800000             no  \n",
       "1589           25.800000             no  \n",
       "1300           12.700000             no  \n",
       "1267            9.000000            NaN  \n",
       "1301           25.000000            NaN  \n",
       "357            14.400000            NaN  "
      ]
     },
     "execution_count": 55,
     "metadata": {},
     "output_type": "execute_result"
    }
   ],
   "source": [
    "data.sort_values('int_avail_per').head(10)"
   ]
  },
  {
   "cell_type": "markdown",
   "metadata": {},
   "source": [
    "# Comparing the counties with and without internet in terms of \n",
    "\n",
    "1. income\n",
    "2. housing density\n",
    "3. population density\n",
    "4. percent of population who holds bachelor or higher degree"
   ]
  },
  {
   "cell_type": "code",
   "execution_count": 40,
   "metadata": {
    "scrolled": true
   },
   "outputs": [],
   "source": [
    "data.loc[data.int_avail_per == 1, 'int_avail_type'] = 'yes'\n",
    "data.loc[data.int_avail_per < 0.5, 'int_avail_type'] = 'no'\n",
    "subset = data.dropna(subset=['int_avail_type'])"
   ]
  },
  {
   "cell_type": "code",
   "execution_count": 47,
   "metadata": {},
   "outputs": [],
   "source": [
    "def plot_by_attr(attr):\n",
    "    ax = subset[[attr, 'int_avail_type']].boxplot(by='int_avail_type', return_type='axes', figsize=(8, 6))\n",
    "    plt.title(attr.title(), fontsize=16)\n",
    "    plt.suptitle('')\n",
    "    plt.xlabel('Internet Avaiability', fontsize=16)\n",
    "    plt.ylabel(attr.title(), fontsize=16)\n",
    "    plt.show()\n",
    "    \n",
    "    print(subset.groupby('int_avail_type')[attr].describe().T)"
   ]
  },
  {
   "cell_type": "markdown",
   "metadata": {},
   "source": [
    "### Income"
   ]
  },
  {
   "cell_type": "code",
   "execution_count": 48,
   "metadata": {},
   "outputs": [
    {
     "data": {
      "image/png": "[encoded data removed]",
      "text/plain": [
       "<Figure size 576x432 with 1 Axes>"
      ]
     },
     "metadata": {},
     "output_type": "display_data"
    },
    {
     "name": "stdout",
     "output_type": "stream",
     "text": [
      "int_avail_type            no            yes\n",
      "count               7.000000     548.000000\n",
      "mean           38,126.714286  42,377.609489\n",
      "std             3,708.197438  11,398.104908\n",
      "min            33,617.000000  20,353.000000\n",
      "25%            34,727.500000  36,384.250000\n",
      "50%            39,221.000000  41,049.500000\n",
      "75%            40,937.000000  45,996.000000\n",
      "max            42,720.000000 199,635.000000\n"
     ]
    }
   ],
   "source": [
    "plot_by_attr('income')"
   ]
  },
  {
   "cell_type": "markdown",
   "metadata": {},
   "source": [
    "Median income of the county without internet is \\$39,221 and with \\$41,049"
   ]
  },
  {
   "cell_type": "markdown",
   "metadata": {},
   "source": [
    "**Teton County** has 100% internet coverage\n",
    "- The county contains the Jackson Hole ski area\n",
    "- Mean income is \\$199,635"
   ]
  },
  {
   "cell_type": "code",
   "execution_count": 49,
   "metadata": {},
   "outputs": [
    {
     "data": {
      "text/html": [
       "<div>\n",
       "<style scoped>\n",
       "    .dataframe tbody tr th:only-of-type {\n",
       "        vertical-align: middle;\n",
       "    }\n",
       "\n",
       "    .dataframe tbody tr th {\n",
       "        vertical-align: top;\n",
       "    }\n",
       "\n",
       "    .dataframe thead th {\n",
       "        text-align: right;\n",
       "    }\n",
       "</style>\n",
       "<table border=\"1\" class=\"dataframe\">\n",
       "  <thead>\n",
       "    <tr style=\"text-align: right;\">\n",
       "      <th></th>\n",
       "      <th>state_county_code</th>\n",
       "      <th>state_abbr</th>\n",
       "      <th>state</th>\n",
       "      <th>county</th>\n",
       "      <th>int_avail_per</th>\n",
       "      <th>income</th>\n",
       "      <th>housing_density</th>\n",
       "      <th>population_density</th>\n",
       "      <th>bachelor_or_higher</th>\n",
       "      <th>int_avail_type</th>\n",
       "    </tr>\n",
       "  </thead>\n",
       "  <tbody>\n",
       "    <tr>\n",
       "      <th>3098</th>\n",
       "      <td>56039</td>\n",
       "      <td>WY</td>\n",
       "      <td>Wyoming</td>\n",
       "      <td>Teton County</td>\n",
       "      <td>1.000000</td>\n",
       "      <td>199,635.000000</td>\n",
       "      <td>8,017.665611</td>\n",
       "      <td>13,324.605598</td>\n",
       "      <td>53.800000</td>\n",
       "      <td>yes</td>\n",
       "    </tr>\n",
       "  </tbody>\n",
       "</table>\n",
       "</div>"
      ],
      "text/plain": [
       "     state_county_code state_abbr    state        county  int_avail_per  \\\n",
       "3098             56039         WY  Wyoming  Teton County       1.000000   \n",
       "\n",
       "             income  housing_density  population_density  bachelor_or_higher  \\\n",
       "3098 199,635.000000     8,017.665611       13,324.605598           53.800000   \n",
       "\n",
       "     int_avail_type  \n",
       "3098            yes  "
      ]
     },
     "execution_count": 49,
     "metadata": {},
     "output_type": "execute_result"
    }
   ],
   "source": [
    "subset[subset.income > 199000]"
   ]
  },
  {
   "cell_type": "markdown",
   "metadata": {},
   "source": [
    "### Housing density"
   ]
  },
  {
   "cell_type": "code",
   "execution_count": 50,
   "metadata": {},
   "outputs": [
    {
     "data": {
      "image/png": "[encoded data removed]",
      "text/plain": [
       "<Figure size 576x432 with 1 Axes>"
      ]
     },
     "metadata": {},
     "output_type": "display_data"
    },
    {
     "name": "stdout",
     "output_type": "stream",
     "text": [
      "int_avail_type            no               yes\n",
      "count               7.000000        555.000000\n",
      "mean            3,471.874003    554,440.914604\n",
      "std             4,211.357743  2,944,312.868679\n",
      "min                58.013079        248.733858\n",
      "25%               355.020140     10,720.185910\n",
      "50%             3,152.467786     39,761.477906\n",
      "75%             4,166.265101    130,472.324098\n",
      "max            12,050.066677 47,715,350.611123\n"
     ]
    }
   ],
   "source": [
    "plot_by_attr('housing_density')"
   ]
  },
  {
   "cell_type": "markdown",
   "metadata": {},
   "source": [
    "- There is a large difference between their median values 3,152.467786 units / ssq mi vs 39,761.477906 unites / sq mi\n",
    "- There is a large difference between their std values 4,211.357743 units / ssq mi vs 2,944,312 unites / sq mi"
   ]
  },
  {
   "cell_type": "markdown",
   "metadata": {},
   "source": [
    "Most dense area that has 100 % internet coverage is **Dallas County**"
   ]
  },
  {
   "cell_type": "code",
   "execution_count": 51,
   "metadata": {},
   "outputs": [
    {
     "data": {
      "text/html": [
       "<div>\n",
       "<style scoped>\n",
       "    .dataframe tbody tr th:only-of-type {\n",
       "        vertical-align: middle;\n",
       "    }\n",
       "\n",
       "    .dataframe tbody tr th {\n",
       "        vertical-align: top;\n",
       "    }\n",
       "\n",
       "    .dataframe thead th {\n",
       "        text-align: right;\n",
       "    }\n",
       "</style>\n",
       "<table border=\"1\" class=\"dataframe\">\n",
       "  <thead>\n",
       "    <tr style=\"text-align: right;\">\n",
       "      <th></th>\n",
       "      <th>state_county_code</th>\n",
       "      <th>state_abbr</th>\n",
       "      <th>state</th>\n",
       "      <th>county</th>\n",
       "      <th>int_avail_per</th>\n",
       "      <th>income</th>\n",
       "      <th>housing_density</th>\n",
       "      <th>population_density</th>\n",
       "      <th>bachelor_or_higher</th>\n",
       "      <th>int_avail_type</th>\n",
       "    </tr>\n",
       "  </thead>\n",
       "  <tbody>\n",
       "    <tr>\n",
       "      <th>2988</th>\n",
       "      <td>48113</td>\n",
       "      <td>TX</td>\n",
       "      <td>Texas</td>\n",
       "      <td>Dallas County</td>\n",
       "      <td>1.000000</td>\n",
       "      <td>52,784.000000</td>\n",
       "      <td>47,715,350.611123</td>\n",
       "      <td>119,794,056.848635</td>\n",
       "      <td>29.700000</td>\n",
       "      <td>yes</td>\n",
       "    </tr>\n",
       "  </tbody>\n",
       "</table>\n",
       "</div>"
      ],
      "text/plain": [
       "     state_county_code state_abbr  state         county  int_avail_per  \\\n",
       "2988             48113         TX  Texas  Dallas County       1.000000   \n",
       "\n",
       "            income   housing_density  population_density  bachelor_or_higher  \\\n",
       "2988 52,784.000000 47,715,350.611123  119,794,056.848635           29.700000   \n",
       "\n",
       "     int_avail_type  \n",
       "2988            yes  "
      ]
     },
     "execution_count": 51,
     "metadata": {},
     "output_type": "execute_result"
    }
   ],
   "source": [
    "subset[subset.housing_density == subset.housing_density.max()]"
   ]
  },
  {
   "cell_type": "markdown",
   "metadata": {},
   "source": [
    "# Population density"
   ]
  },
  {
   "cell_type": "code",
   "execution_count": 56,
   "metadata": {},
   "outputs": [
    {
     "data": {
      "image/png": "[encoded data removed]",
      "text/plain": [
       "<Figure size 576x432 with 1 Axes>"
      ]
     },
     "metadata": {},
     "output_type": "display_data"
    },
    {
     "name": "stdout",
     "output_type": "stream",
     "text": [
      "int_avail_type            no                yes\n",
      "count               7.000000         555.000000\n",
      "mean            6,502.404795   1,285,132.017682\n",
      "std             8,604.290892   6,952,633.918533\n",
      "min                95.141450         465.112093\n",
      "25%               590.586556      22,485.434548\n",
      "50%             5,442.711145      86,516.099823\n",
      "75%             7,051.434329     304,918.488610\n",
      "max            24,694.939200 119,794,056.848635\n"
     ]
    }
   ],
   "source": [
    "plot_by_attr('population_density')"
   ]
  },
  {
   "cell_type": "markdown",
   "metadata": {},
   "source": [
    "Most dense area that has 100 % internet coverage is **Dallas County**"
   ]
  },
  {
   "cell_type": "code",
   "execution_count": 60,
   "metadata": {},
   "outputs": [
    {
     "data": {
      "text/html": [
       "<div>\n",
       "<style scoped>\n",
       "    .dataframe tbody tr th:only-of-type {\n",
       "        vertical-align: middle;\n",
       "    }\n",
       "\n",
       "    .dataframe tbody tr th {\n",
       "        vertical-align: top;\n",
       "    }\n",
       "\n",
       "    .dataframe thead th {\n",
       "        text-align: right;\n",
       "    }\n",
       "</style>\n",
       "<table border=\"1\" class=\"dataframe\">\n",
       "  <thead>\n",
       "    <tr style=\"text-align: right;\">\n",
       "      <th></th>\n",
       "      <th>state_county_code</th>\n",
       "      <th>state_abbr</th>\n",
       "      <th>state</th>\n",
       "      <th>county</th>\n",
       "      <th>int_avail_per</th>\n",
       "      <th>income</th>\n",
       "      <th>housing_density</th>\n",
       "      <th>population_density</th>\n",
       "      <th>bachelor_or_higher</th>\n",
       "      <th>int_avail_type</th>\n",
       "    </tr>\n",
       "  </thead>\n",
       "  <tbody>\n",
       "    <tr>\n",
       "      <th>2988</th>\n",
       "      <td>48113</td>\n",
       "      <td>TX</td>\n",
       "      <td>Texas</td>\n",
       "      <td>Dallas County</td>\n",
       "      <td>1.000000</td>\n",
       "      <td>52,784.000000</td>\n",
       "      <td>47,715,350.611123</td>\n",
       "      <td>119,794,056.848635</td>\n",
       "      <td>29.700000</td>\n",
       "      <td>yes</td>\n",
       "    </tr>\n",
       "  </tbody>\n",
       "</table>\n",
       "</div>"
      ],
      "text/plain": [
       "     state_county_code state_abbr  state         county  int_avail_per  \\\n",
       "2988             48113         TX  Texas  Dallas County       1.000000   \n",
       "\n",
       "            income   housing_density  population_density  bachelor_or_higher  \\\n",
       "2988 52,784.000000 47,715,350.611123  119,794,056.848635           29.700000   \n",
       "\n",
       "     int_avail_type  \n",
       "2988            yes  "
      ]
     },
     "execution_count": 60,
     "metadata": {},
     "output_type": "execute_result"
    }
   ],
   "source": [
    "subset[subset.population_density == subset.population_density.max()]"
   ]
  },
  {
   "cell_type": "markdown",
   "metadata": {},
   "source": [
    "### Percent of population who holds bachelor or higher degree"
   ]
  },
  {
   "cell_type": "code",
   "execution_count": 59,
   "metadata": {
    "scrolled": false
   },
   "outputs": [
    {
     "data": {
      "image/png": "[encoded data removed]",
      "text/plain": [
       "<Figure size 576x432 with 1 Axes>"
      ]
     },
     "metadata": {},
     "output_type": "display_data"
    },
    {
     "name": "stdout",
     "output_type": "stream",
     "text": [
      "int_avail_type        no        yes\n",
      "count           7.000000 555.000000\n",
      "mean           15.957143  21.294414\n",
      "std             7.766994   8.559471\n",
      "min             3.000000   7.500000\n",
      "25%            11.850000  15.800000\n",
      "50%            16.600000  19.400000\n",
      "75%            21.300000  24.800000\n",
      "max            25.800000  64.600000\n"
     ]
    }
   ],
   "source": [
    "plot_by_attr('bachelor_or_higher')"
   ]
  },
  {
   "cell_type": "markdown",
   "metadata": {},
   "source": [
    "Highest educated area that has 100 % internet coverage is **Los Alamos County in New Mexico**"
   ]
  },
  {
   "cell_type": "code",
   "execution_count": 61,
   "metadata": {},
   "outputs": [
    {
     "data": {
      "text/html": [
       "<div>\n",
       "<style scoped>\n",
       "    .dataframe tbody tr th:only-of-type {\n",
       "        vertical-align: middle;\n",
       "    }\n",
       "\n",
       "    .dataframe tbody tr th {\n",
       "        vertical-align: top;\n",
       "    }\n",
       "\n",
       "    .dataframe thead th {\n",
       "        text-align: right;\n",
       "    }\n",
       "</style>\n",
       "<table border=\"1\" class=\"dataframe\">\n",
       "  <thead>\n",
       "    <tr style=\"text-align: right;\">\n",
       "      <th></th>\n",
       "      <th>state_county_code</th>\n",
       "      <th>state_abbr</th>\n",
       "      <th>state</th>\n",
       "      <th>county</th>\n",
       "      <th>int_avail_per</th>\n",
       "      <th>income</th>\n",
       "      <th>housing_density</th>\n",
       "      <th>population_density</th>\n",
       "      <th>bachelor_or_higher</th>\n",
       "      <th>int_avail_type</th>\n",
       "    </tr>\n",
       "  </thead>\n",
       "  <tbody>\n",
       "    <tr>\n",
       "      <th>2886</th>\n",
       "      <td>35028</td>\n",
       "      <td>NM</td>\n",
       "      <td>New Mexico</td>\n",
       "      <td>Los Alamos County</td>\n",
       "      <td>1.000000</td>\n",
       "      <td>65,494.000000</td>\n",
       "      <td>46,741.197284</td>\n",
       "      <td>100,431.468907</td>\n",
       "      <td>64.600000</td>\n",
       "      <td>yes</td>\n",
       "    </tr>\n",
       "  </tbody>\n",
       "</table>\n",
       "</div>"
      ],
      "text/plain": [
       "     state_county_code state_abbr       state             county  \\\n",
       "2886             35028         NM  New Mexico  Los Alamos County   \n",
       "\n",
       "      int_avail_per        income  housing_density  population_density  \\\n",
       "2886       1.000000 65,494.000000    46,741.197284      100,431.468907   \n",
       "\n",
       "      bachelor_or_higher int_avail_type  \n",
       "2886           64.600000            yes  "
      ]
     },
     "execution_count": 61,
     "metadata": {},
     "output_type": "execute_result"
    }
   ],
   "source": [
    "subset[subset.bachelor_or_higher == subset.bachelor_or_higher.max()]"
   ]
  }
 ],
 "metadata": {
  "kernelspec": {
   "display_name": "Python 3",
   "language": "python",
   "name": "python3"
  },
  "language_info": {
   "codemirror_mode": {
    "name": "ipython",
    "version": 3
   },
   "file_extension": ".py",
   "mimetype": "text/x-python",
   "name": "python",
   "nbconvert_exporter": "python",
   "pygments_lexer": "ipython3",
   "version": "3.6.5"
  }
 },
 "nbformat": 4,
 "nbformat_minor": 2
}
