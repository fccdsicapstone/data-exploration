{
 "cells": [
  {
   "cell_type": "code",
   "execution_count": 19,
   "metadata": {},
   "outputs": [],
   "source": [
    "% matplotlib inline\n",
    "\n",
    "from functools import reduce\n",
    "import pandas as pd\n",
    "import numpy as np\n",
    "import seaborn as sns\n",
    "import matplotlib.pyplot as plt\n",
    "import us\n",
    "\n",
    "#Pandas options\n",
    "pd.set_option('display.max_rows', 25)\n",
    "pd.set_option('display.max_columns', 100)\n",
    "pd.options.display.float_format = '{:,.6f}'.format\n",
    "\n",
    "#Set seaborn plot theme\n",
    "sns.set_style('darkgrid')"
   ]
  },
  {
   "cell_type": "markdown",
   "metadata": {},
   "source": [
    "#  Download data"
   ]
  },
  {
   "cell_type": "markdown",
   "metadata": {},
   "source": [
    "### Counties have internet\n",
    "\n",
    "Randomly sample 10,000 samples in order to handle large data set"
   ]
  },
  {
   "cell_type": "code",
   "execution_count": 2,
   "metadata": {},
   "outputs": [],
   "source": [
    "query = \"\"\"\n",
    "WITH county_geo AS (\n",
    "  SELECT  \n",
    "    census_block.state_county_code, \n",
    "    AVG(census_block.land_area) AS area\n",
    "  FROM broadband.census_block census_block\n",
    "  GROUP BY census_block.state_county_code\n",
    "),\n",
    "no_internet_block AS (\n",
    "  SELECT \n",
    "    block.state_county_code,\n",
    "    CASE WHEN fcc.max_down IS NULL THEN 1 ELSE 0 END AS count_no_internet\n",
    "  FROM broadband.census_block block\n",
    "  LEFT JOIN broadband.fcc fcc\n",
    "      ON block.block_code = fcc.block_code\n",
    "),\n",
    "full_internet_county AS (\n",
    "  SELECT state_county_code\n",
    "  FROM no_internet_block\n",
    "  GROUP BY state_county_code\n",
    "  HAVING SUM(count_no_internet) = 0\n",
    ")\n",
    "\n",
    "SELECT\n",
    "  full_internet_county.state_county_code, \n",
    "  income.census_income_2016 AS income,\n",
    "  housing.total_housing_units2010census / county_geo.area AS housing_density,\n",
    "  population.census_population_2010 / county_geo.area AS population_density,\n",
    "  education.bachelor_or_higher\n",
    "FROM full_internet_county\n",
    "LEFT JOIN county_geo\n",
    "  ON full_internet_county.state_county_code = county_geo.state_county_code\n",
    "LEFT JOIN broadband.census_income income\n",
    "  ON full_internet_county.state_county_code = income.state_county_code\n",
    "LEFT JOIN broadband.census_housing housing\n",
    "  ON full_internet_county.state_county_code = housing.state_county_code\n",
    "LEFT JOIN broadband.census_population population\n",
    "  ON full_internet_county.state_county_code = population.state_county_code\n",
    "LEFT JOIN broadband.census_education education\n",
    "  ON full_internet_county.state_county_code = education.state_county_code\n",
    "\"\"\"\n",
    "internet = pd.read_gbq(query, project_id='fccdsicapstone-218522', dialect='standard')"
   ]
  },
  {
   "cell_type": "code",
   "execution_count": 3,
   "metadata": {},
   "outputs": [],
   "source": [
    "# convert to sq miles\n",
    "internet.housing_density = internet.housing_density *2.59*10**6\n",
    "internet.population_density = internet.population_density *2.59*10**6"
   ]
  },
  {
   "cell_type": "code",
   "execution_count": 4,
   "metadata": {},
   "outputs": [],
   "source": [
    "attrs = ['income',\n",
    "         'housing_density',\n",
    "         'population_density',\n",
    "         'bachelor_or_higher']\n",
    "internet[attrs] = internet[attrs].astype(np.float)"
   ]
  },
  {
   "cell_type": "markdown",
   "metadata": {},
   "source": [
    "### Counties do not have internet"
   ]
  },
  {
   "cell_type": "code",
   "execution_count": 5,
   "metadata": {},
   "outputs": [],
   "source": [
    "query = \"\"\"\n",
    "WITH county_geo AS (\n",
    "SELECT  \n",
    "  census_block.state_county_code, \n",
    "  AVG(census_block.land_area) AS area\n",
    "FROM broadband.census_block census_block\n",
    "GROUP BY census_block.state_county_code\n",
    ")\n",
    "\n",
    "SELECT\n",
    "  block.latitude,\n",
    "  block.longitude,\n",
    "  block.state_county_code, \n",
    "  block.state_abbr,\n",
    "  block.state,\n",
    "  block.county,\n",
    "  income.census_income_2016 AS income,\n",
    "  housing.total_housing_units2010census / county_geo.area AS housing_density,\n",
    "  population.census_population_2010 / county_geo.area AS population_density,\n",
    "  education.bachelor_or_higher\n",
    "FROM broadband.census_block block\n",
    "LEFT JOIN broadband.fcc fcc\n",
    "    ON block.block_code = fcc.block_code\n",
    "LEFT JOIN county_geo\n",
    "  ON county_geo.state_county_code = block.state_county_code\n",
    "LEFT JOIN broadband.census_income income\n",
    "  ON block.state_county_code = income.state_county_code\n",
    "LEFT JOIN broadband.census_housing housing\n",
    "  ON block.state_county_code = housing.state_county_code\n",
    "LEFT JOIN broadband.census_population population\n",
    "  ON block.state_county_code = population.state_county_code\n",
    "LEFT JOIN broadband.census_education education\n",
    "  ON block.state_county_code = education.state_county_code\n",
    "WHERE \n",
    "  fcc.max_down IS NULL AND \n",
    "  (block.land_area - block.water_area) > 0\n",
    "\"\"\"\n",
    "no_internet = pd.read_gbq(query, project_id='fccdsicapstone-218522', dialect='standard')"
   ]
  },
  {
   "cell_type": "code",
   "execution_count": 6,
   "metadata": {},
   "outputs": [],
   "source": [
    "no_internet[attrs] = no_internet[attrs].astype(np.float)"
   ]
  },
  {
   "cell_type": "code",
   "execution_count": 7,
   "metadata": {},
   "outputs": [],
   "source": [
    "# convert to sq miles\n",
    "no_internet.housing_density = no_internet.housing_density *2.59*10**6\n",
    "no_internet.population_density = no_internet.population_density *2.59*10**6"
   ]
  },
  {
   "cell_type": "code",
   "execution_count": 8,
   "metadata": {},
   "outputs": [],
   "source": [
    "no_internet_blocks = no_internet.copy()\n",
    "no_internet = no_internet_blocks.drop_duplicates('state_county_code')"
   ]
  },
  {
   "cell_type": "code",
   "execution_count": 9,
   "metadata": {},
   "outputs": [
    {
     "data": {
      "text/plain": [
       "latitude              2527\n",
       "longitude             2527\n",
       "state_county_code     2527\n",
       "state_abbr            2527\n",
       "state                 2527\n",
       "county                2527\n",
       "income                2504\n",
       "housing_density       2527\n",
       "population_density    2525\n",
       "bachelor_or_higher    2525\n",
       "dtype: int64"
      ]
     },
     "execution_count": 9,
     "metadata": {},
     "output_type": "execute_result"
    }
   ],
   "source": [
    "no_internet.count()"
   ]
  },
  {
   "cell_type": "markdown",
   "metadata": {},
   "source": [
    "# Which state has 100% broadband access?"
   ]
  },
  {
   "cell_type": "code",
   "execution_count": 10,
   "metadata": {
    "scrolled": true
   },
   "outputs": [
    {
     "name": "stdout",
     "output_type": "stream",
     "text": [
      "Wyoming\n"
     ]
    }
   ],
   "source": [
    "exc = ['HI', 'AK']\n",
    "no_internet_states = no_internet.state_abbr.unique()\n",
    "\n",
    "for s in us.STATES:\n",
    "    if s.abbr not in exc:\n",
    "        if s.abbr not in no_internet_states:\n",
    "            print(s)"
   ]
  },
  {
   "cell_type": "markdown",
   "metadata": {},
   "source": [
    "# Comparing the counties with and without internet in terms of \n",
    "\n",
    "1. income\n",
    "2. housing density\n",
    "3. population density\n",
    "4. percent of population who holds bachelor or higher degree"
   ]
  },
  {
   "cell_type": "code",
   "execution_count": 11,
   "metadata": {},
   "outputs": [],
   "source": [
    "def plot_by_attr(attr):\n",
    "    df = pd.concat([\n",
    "        pd.DataFrame({attr: internet[attr], 'internet': 'yes'}),\n",
    "        pd.DataFrame({attr: no_internet[attr], 'internet': 'no'})\n",
    "    ])\n",
    "\n",
    "    ax = df.boxplot(by='internet', return_type='axes', figsize=(8, 6))\n",
    "    plt.title(attr.title(), fontsize=16)\n",
    "    plt.suptitle('')\n",
    "    plt.xlabel('Internet Avaiability', fontsize=16)\n",
    "    plt.ylabel(attr.title(), fontsize=16)\n",
    "    plt.show()\n",
    "    \n",
    "    print(df.groupby('internet')[attr].describe().T)"
   ]
  },
  {
   "cell_type": "markdown",
   "metadata": {},
   "source": [
    "### Income"
   ]
  },
  {
   "cell_type": "code",
   "execution_count": 12,
   "metadata": {},
   "outputs": [
    {
     "data": {
      "image/png": "[encoded data removed]",
      "text/plain": [
       "<Figure size 576x432 with 1 Axes>"
      ]
     },
     "metadata": {},
     "output_type": "display_data"
    },
    {
     "name": "stdout",
     "output_type": "stream",
     "text": [
      "internet         no        yes\n",
      "count      2,504.00     548.00\n",
      "mean      40,202.24  42,377.61\n",
      "std       11,151.31  11,398.10\n",
      "min       16,267.00  20,353.00\n",
      "25%       33,411.25  36,384.25\n",
      "50%       37,871.50  41,049.50\n",
      "75%       44,301.50  45,996.00\n",
      "max      162,378.00 199,635.00\n"
     ]
    }
   ],
   "source": [
    "plot_by_attr('income')"
   ]
  },
  {
   "cell_type": "markdown",
   "metadata": {},
   "source": [
    "Median income of the county without internet is \\$37,871 and with \\$41,049"
   ]
  },
  {
   "cell_type": "markdown",
   "metadata": {},
   "source": [
    "Number of counties whose mean income is above 50000"
   ]
  },
  {
   "cell_type": "code",
   "execution_count": 13,
   "metadata": {},
   "outputs": [
    {
     "data": {
      "text/plain": [
       "308"
      ]
     },
     "execution_count": 13,
     "metadata": {},
     "output_type": "execute_result"
    }
   ],
   "source": [
    "no_internet[no_internet.income > 50000].shape[0]"
   ]
  },
  {
   "cell_type": "markdown",
   "metadata": {},
   "source": [
    "Top 5 counties at lest one of their census blocks do not get internet"
   ]
  },
  {
   "cell_type": "code",
   "execution_count": 14,
   "metadata": {},
   "outputs": [
    {
     "data": {
      "text/html": [
       "<div>\n",
       "<style scoped>\n",
       "    .dataframe tbody tr th:only-of-type {\n",
       "        vertical-align: middle;\n",
       "    }\n",
       "\n",
       "    .dataframe tbody tr th {\n",
       "        vertical-align: top;\n",
       "    }\n",
       "\n",
       "    .dataframe thead th {\n",
       "        text-align: right;\n",
       "    }\n",
       "</style>\n",
       "<table border=\"1\" class=\"dataframe\">\n",
       "  <thead>\n",
       "    <tr style=\"text-align: right;\">\n",
       "      <th></th>\n",
       "      <th>latitude</th>\n",
       "      <th>longitude</th>\n",
       "      <th>state_county_code</th>\n",
       "      <th>state_abbr</th>\n",
       "      <th>state</th>\n",
       "      <th>county</th>\n",
       "      <th>income</th>\n",
       "      <th>housing_density</th>\n",
       "      <th>population_density</th>\n",
       "      <th>bachelor_or_higher</th>\n",
       "    </tr>\n",
       "  </thead>\n",
       "  <tbody>\n",
       "    <tr>\n",
       "      <th>681702</th>\n",
       "      <td>32.57</td>\n",
       "      <td>-99.10</td>\n",
       "      <td>48417</td>\n",
       "      <td>TX</td>\n",
       "      <td>Texas</td>\n",
       "      <td>Shackelford County</td>\n",
       "      <td>162,378.00</td>\n",
       "      <td>2,361.61</td>\n",
       "      <td>4,548.18</td>\n",
       "      <td>25.20</td>\n",
       "    </tr>\n",
       "    <tr>\n",
       "      <th>538175</th>\n",
       "      <td>40.69</td>\n",
       "      <td>-74.02</td>\n",
       "      <td>36061</td>\n",
       "      <td>NY</td>\n",
       "      <td>New York</td>\n",
       "      <td>New York County</td>\n",
       "      <td>156,048.00</td>\n",
       "      <td>147,683,720.15</td>\n",
       "      <td>276,484,935.87</td>\n",
       "      <td>60.40</td>\n",
       "    </tr>\n",
       "    <tr>\n",
       "      <th>135228</th>\n",
       "      <td>39.32</td>\n",
       "      <td>-106.65</td>\n",
       "      <td>08097</td>\n",
       "      <td>CO</td>\n",
       "      <td>Colorado</td>\n",
       "      <td>Pitkin County</td>\n",
       "      <td>128,738.00</td>\n",
       "      <td>15,532.44</td>\n",
       "      <td>20,562.83</td>\n",
       "      <td>60.40</td>\n",
       "    </tr>\n",
       "    <tr>\n",
       "      <th>83509</th>\n",
       "      <td>38.15</td>\n",
       "      <td>-122.71</td>\n",
       "      <td>06041</td>\n",
       "      <td>CA</td>\n",
       "      <td>California</td>\n",
       "      <td>Marin County</td>\n",
       "      <td>115,952.00</td>\n",
       "      <td>962,870.76</td>\n",
       "      <td>2,185,311.61</td>\n",
       "      <td>57.10</td>\n",
       "    </tr>\n",
       "    <tr>\n",
       "      <th>1228892</th>\n",
       "      <td>41.98</td>\n",
       "      <td>-98.39</td>\n",
       "      <td>31183</td>\n",
       "      <td>NE</td>\n",
       "      <td>Nebraska</td>\n",
       "      <td>Wheeler County</td>\n",
       "      <td>113,939.00</td>\n",
       "      <td>246.35</td>\n",
       "      <td>349.85</td>\n",
       "      <td>16.60</td>\n",
       "    </tr>\n",
       "  </tbody>\n",
       "</table>\n",
       "</div>"
      ],
      "text/plain": [
       "         latitude  longitude state_county_code state_abbr       state  \\\n",
       "681702      32.57     -99.10             48417         TX       Texas   \n",
       "538175      40.69     -74.02             36061         NY    New York   \n",
       "135228      39.32    -106.65             08097         CO    Colorado   \n",
       "83509       38.15    -122.71             06041         CA  California   \n",
       "1228892     41.98     -98.39             31183         NE    Nebraska   \n",
       "\n",
       "                     county     income  housing_density  population_density  \\\n",
       "681702   Shackelford County 162,378.00         2,361.61            4,548.18   \n",
       "538175      New York County 156,048.00   147,683,720.15      276,484,935.87   \n",
       "135228        Pitkin County 128,738.00        15,532.44           20,562.83   \n",
       "83509          Marin County 115,952.00       962,870.76        2,185,311.61   \n",
       "1228892      Wheeler County 113,939.00           246.35              349.85   \n",
       "\n",
       "         bachelor_or_higher  \n",
       "681702                25.20  \n",
       "538175                60.40  \n",
       "135228                60.40  \n",
       "83509                 57.10  \n",
       "1228892               16.60  "
      ]
     },
     "execution_count": 14,
     "metadata": {},
     "output_type": "execute_result"
    }
   ],
   "source": [
    "no_internet.sort_values('income', ascending=False).head()"
   ]
  },
  {
   "cell_type": "markdown",
   "metadata": {},
   "source": [
    "### Housing density"
   ]
  },
  {
   "cell_type": "code",
   "execution_count": 15,
   "metadata": {},
   "outputs": [
    {
     "data": {
      "image/png": "[encoded data removed]",
      "text/plain": [
       "<Figure size 576x432 with 1 Axes>"
      ]
     },
     "metadata": {},
     "output_type": "display_data"
    },
    {
     "name": "stdout",
     "output_type": "stream",
     "text": [
      "internet             no           yes\n",
      "count          2,527.00        555.00\n",
      "mean         976,157.47    554,440.91\n",
      "std        7,787,810.91  2,944,312.87\n",
      "min               58.01        248.73\n",
      "25%           15,199.99     10,720.19\n",
      "50%           46,609.78     39,761.48\n",
      "75%          177,171.83    130,472.32\n",
      "max      228,527,716.52 47,715,350.61\n"
     ]
    }
   ],
   "source": [
    "plot_by_attr('housing_density')"
   ]
  },
  {
   "cell_type": "markdown",
   "metadata": {},
   "source": [
    "Large difference between these groups"
   ]
  },
  {
   "cell_type": "code",
   "execution_count": 16,
   "metadata": {},
   "outputs": [
    {
     "data": {
      "text/html": [
       "<div>\n",
       "<style scoped>\n",
       "    .dataframe tbody tr th:only-of-type {\n",
       "        vertical-align: middle;\n",
       "    }\n",
       "\n",
       "    .dataframe tbody tr th {\n",
       "        vertical-align: top;\n",
       "    }\n",
       "\n",
       "    .dataframe thead th {\n",
       "        text-align: right;\n",
       "    }\n",
       "</style>\n",
       "<table border=\"1\" class=\"dataframe\">\n",
       "  <thead>\n",
       "    <tr style=\"text-align: right;\">\n",
       "      <th></th>\n",
       "      <th>latitude</th>\n",
       "      <th>longitude</th>\n",
       "      <th>state_county_code</th>\n",
       "      <th>state_abbr</th>\n",
       "      <th>state</th>\n",
       "      <th>county</th>\n",
       "      <th>income</th>\n",
       "      <th>housing_density</th>\n",
       "      <th>population_density</th>\n",
       "      <th>bachelor_or_higher</th>\n",
       "    </tr>\n",
       "  </thead>\n",
       "  <tbody>\n",
       "    <tr>\n",
       "      <th>936894</th>\n",
       "      <td>41.81</td>\n",
       "      <td>-87.68</td>\n",
       "      <td>17031</td>\n",
       "      <td>IL</td>\n",
       "      <td>Illinois</td>\n",
       "      <td>Cook County</td>\n",
       "      <td>56,669.00</td>\n",
       "      <td>228,527,716.52</td>\n",
       "      <td>544,464,106.97</td>\n",
       "      <td>36.50</td>\n",
       "    </tr>\n",
       "    <tr>\n",
       "      <th>538175</th>\n",
       "      <td>40.69</td>\n",
       "      <td>-74.02</td>\n",
       "      <td>36061</td>\n",
       "      <td>NY</td>\n",
       "      <td>New York</td>\n",
       "      <td>New York County</td>\n",
       "      <td>156,048.00</td>\n",
       "      <td>147,683,720.15</td>\n",
       "      <td>276,484,935.87</td>\n",
       "      <td>60.40</td>\n",
       "    </tr>\n",
       "    <tr>\n",
       "      <th>538687</th>\n",
       "      <td>40.62</td>\n",
       "      <td>-74.04</td>\n",
       "      <td>36047</td>\n",
       "      <td>NY</td>\n",
       "      <td>New York</td>\n",
       "      <td>Kings County</td>\n",
       "      <td>44,502.00</td>\n",
       "      <td>140,791,356.70</td>\n",
       "      <td>352,536,817.84</td>\n",
       "      <td>34.10</td>\n",
       "    </tr>\n",
       "    <tr>\n",
       "      <th>538186</th>\n",
       "      <td>40.76</td>\n",
       "      <td>-73.85</td>\n",
       "      <td>36081</td>\n",
       "      <td>NY</td>\n",
       "      <td>New York</td>\n",
       "      <td>Queens County</td>\n",
       "      <td>43,467.00</td>\n",
       "      <td>114,063,469.42</td>\n",
       "      <td>304,676,882.22</td>\n",
       "      <td>30.60</td>\n",
       "    </tr>\n",
       "    <tr>\n",
       "      <th>610886</th>\n",
       "      <td>39.99</td>\n",
       "      <td>-75.09</td>\n",
       "      <td>42101</td>\n",
       "      <td>PA</td>\n",
       "      <td>Pennsylvania</td>\n",
       "      <td>Philadelphia County</td>\n",
       "      <td>51,645.00</td>\n",
       "      <td>94,212,649.89</td>\n",
       "      <td>214,525,947.87</td>\n",
       "      <td>26.40</td>\n",
       "    </tr>\n",
       "  </tbody>\n",
       "</table>\n",
       "</div>"
      ],
      "text/plain": [
       "        latitude  longitude state_county_code state_abbr         state  \\\n",
       "936894     41.81     -87.68             17031         IL      Illinois   \n",
       "538175     40.69     -74.02             36061         NY      New York   \n",
       "538687     40.62     -74.04             36047         NY      New York   \n",
       "538186     40.76     -73.85             36081         NY      New York   \n",
       "610886     39.99     -75.09             42101         PA  Pennsylvania   \n",
       "\n",
       "                     county     income  housing_density  population_density  \\\n",
       "936894          Cook County  56,669.00   228,527,716.52      544,464,106.97   \n",
       "538175      New York County 156,048.00   147,683,720.15      276,484,935.87   \n",
       "538687         Kings County  44,502.00   140,791,356.70      352,536,817.84   \n",
       "538186        Queens County  43,467.00   114,063,469.42      304,676,882.22   \n",
       "610886  Philadelphia County  51,645.00    94,212,649.89      214,525,947.87   \n",
       "\n",
       "        bachelor_or_higher  \n",
       "936894               36.50  \n",
       "538175               60.40  \n",
       "538687               34.10  \n",
       "538186               30.60  \n",
       "610886               26.40  "
      ]
     },
     "execution_count": 16,
     "metadata": {},
     "output_type": "execute_result"
    }
   ],
   "source": [
    "no_internet.sort_values('housing_density', ascending=False).head()"
   ]
  },
  {
   "cell_type": "markdown",
   "metadata": {},
   "source": [
    "# Population density"
   ]
  },
  {
   "cell_type": "code",
   "execution_count": 17,
   "metadata": {},
   "outputs": [
    {
     "data": {
      "image/png": "[encoded data removed]",
      "text/plain": [
       "<Figure size 576x432 with 1 Axes>"
      ]
     },
     "metadata": {},
     "output_type": "display_data"
    },
    {
     "name": "stdout",
     "output_type": "stream",
     "text": [
      "internet             no            yes\n",
      "count          2,525.00         555.00\n",
      "mean       2,597,940.69   1,285,132.02\n",
      "std       19,096,257.65   6,952,633.92\n",
      "min               95.14         465.11\n",
      "25%           30,255.82      22,485.43\n",
      "50%           98,809.81      86,516.10\n",
      "75%          393,084.76     304,918.49\n",
      "max      544,464,106.97 119,794,056.85\n"
     ]
    }
   ],
   "source": [
    "plot_by_attr('population_density')"
   ]
  },
  {
   "cell_type": "code",
   "execution_count": 20,
   "metadata": {},
   "outputs": [
    {
     "data": {
      "text/html": [
       "<div>\n",
       "<style scoped>\n",
       "    .dataframe tbody tr th:only-of-type {\n",
       "        vertical-align: middle;\n",
       "    }\n",
       "\n",
       "    .dataframe tbody tr th {\n",
       "        vertical-align: top;\n",
       "    }\n",
       "\n",
       "    .dataframe thead th {\n",
       "        text-align: right;\n",
       "    }\n",
       "</style>\n",
       "<table border=\"1\" class=\"dataframe\">\n",
       "  <thead>\n",
       "    <tr style=\"text-align: right;\">\n",
       "      <th></th>\n",
       "      <th>latitude</th>\n",
       "      <th>longitude</th>\n",
       "      <th>state_county_code</th>\n",
       "      <th>state_abbr</th>\n",
       "      <th>state</th>\n",
       "      <th>county</th>\n",
       "      <th>income</th>\n",
       "      <th>housing_density</th>\n",
       "      <th>population_density</th>\n",
       "      <th>bachelor_or_higher</th>\n",
       "    </tr>\n",
       "  </thead>\n",
       "  <tbody>\n",
       "    <tr>\n",
       "      <th>936894</th>\n",
       "      <td>41.805196</td>\n",
       "      <td>-87.684075</td>\n",
       "      <td>17031</td>\n",
       "      <td>IL</td>\n",
       "      <td>Illinois</td>\n",
       "      <td>Cook County</td>\n",
       "      <td>56,669.000000</td>\n",
       "      <td>228,527,716.518280</td>\n",
       "      <td>544,464,106.967979</td>\n",
       "      <td>36.500000</td>\n",
       "    </tr>\n",
       "    <tr>\n",
       "      <th>538687</th>\n",
       "      <td>40.619756</td>\n",
       "      <td>-74.041268</td>\n",
       "      <td>36047</td>\n",
       "      <td>NY</td>\n",
       "      <td>New York</td>\n",
       "      <td>Kings County</td>\n",
       "      <td>44,502.000000</td>\n",
       "      <td>140,791,356.699128</td>\n",
       "      <td>352,536,817.836680</td>\n",
       "      <td>34.100000</td>\n",
       "    </tr>\n",
       "    <tr>\n",
       "      <th>538186</th>\n",
       "      <td>40.758217</td>\n",
       "      <td>-73.852654</td>\n",
       "      <td>36081</td>\n",
       "      <td>NY</td>\n",
       "      <td>New York</td>\n",
       "      <td>Queens County</td>\n",
       "      <td>43,467.000000</td>\n",
       "      <td>114,063,469.415372</td>\n",
       "      <td>304,676,882.224137</td>\n",
       "      <td>30.600000</td>\n",
       "    </tr>\n",
       "    <tr>\n",
       "      <th>538175</th>\n",
       "      <td>40.688033</td>\n",
       "      <td>-74.023375</td>\n",
       "      <td>36061</td>\n",
       "      <td>NY</td>\n",
       "      <td>New York</td>\n",
       "      <td>New York County</td>\n",
       "      <td>156,048.000000</td>\n",
       "      <td>147,683,720.151796</td>\n",
       "      <td>276,484,935.872562</td>\n",
       "      <td>60.400000</td>\n",
       "    </tr>\n",
       "    <tr>\n",
       "      <th>83469</th>\n",
       "      <td>33.932028</td>\n",
       "      <td>-118.388141</td>\n",
       "      <td>06037</td>\n",
       "      <td>CA</td>\n",
       "      <td>California</td>\n",
       "      <td>Los Angeles County</td>\n",
       "      <td>55,624.000000</td>\n",
       "      <td>93,028,299.383864</td>\n",
       "      <td>265,134,390.495857</td>\n",
       "      <td>30.800000</td>\n",
       "    </tr>\n",
       "  </tbody>\n",
       "</table>\n",
       "</div>"
      ],
      "text/plain": [
       "        latitude   longitude state_county_code state_abbr       state  \\\n",
       "936894 41.805196  -87.684075             17031         IL    Illinois   \n",
       "538687 40.619756  -74.041268             36047         NY    New York   \n",
       "538186 40.758217  -73.852654             36081         NY    New York   \n",
       "538175 40.688033  -74.023375             36061         NY    New York   \n",
       "83469  33.932028 -118.388141             06037         CA  California   \n",
       "\n",
       "                    county         income    housing_density  \\\n",
       "936894         Cook County  56,669.000000 228,527,716.518280   \n",
       "538687        Kings County  44,502.000000 140,791,356.699128   \n",
       "538186       Queens County  43,467.000000 114,063,469.415372   \n",
       "538175     New York County 156,048.000000 147,683,720.151796   \n",
       "83469   Los Angeles County  55,624.000000  93,028,299.383864   \n",
       "\n",
       "        population_density  bachelor_or_higher  \n",
       "936894  544,464,106.967979           36.500000  \n",
       "538687  352,536,817.836680           34.100000  \n",
       "538186  304,676,882.224137           30.600000  \n",
       "538175  276,484,935.872562           60.400000  \n",
       "83469   265,134,390.495857           30.800000  "
      ]
     },
     "execution_count": 20,
     "metadata": {},
     "output_type": "execute_result"
    }
   ],
   "source": [
    "no_internet.sort_values('population_density', ascending=False).head()"
   ]
  },
  {
   "cell_type": "markdown",
   "metadata": {},
   "source": [
    "### Percent of population who holds bachelor or higher degree"
   ]
  },
  {
   "cell_type": "code",
   "execution_count": 22,
   "metadata": {
    "scrolled": false
   },
   "outputs": [
    {
     "data": {
      "image/png": "[encoded data removed]",
      "text/plain": [
       "<Figure size 576x432 with 1 Axes>"
      ]
     },
     "metadata": {},
     "output_type": "display_data"
    },
    {
     "name": "stdout",
     "output_type": "stream",
     "text": [
      "internet           no        yes\n",
      "count    2,525.000000 555.000000\n",
      "mean        20.652000  21.294414\n",
      "std          9.266050   8.559471\n",
      "min          3.000000   7.500000\n",
      "25%         14.100000  15.800000\n",
      "50%         18.300000  19.400000\n",
      "75%         24.600000  24.800000\n",
      "max         80.200000  64.600000\n"
     ]
    }
   ],
   "source": [
    "plot_by_attr('bachelor_or_higher')"
   ]
  },
  {
   "cell_type": "code",
   "execution_count": null,
   "metadata": {},
   "outputs": [],
   "source": []
  }
 ],
 "metadata": {
  "kernelspec": {
   "display_name": "Python 3",
   "language": "python",
   "name": "python3"
  },
  "language_info": {
   "codemirror_mode": {
    "name": "ipython",
    "version": 3
   },
   "file_extension": ".py",
   "mimetype": "text/x-python",
   "name": "python",
   "nbconvert_exporter": "python",
   "pygments_lexer": "ipython3",
   "version": "3.6.5"
  }
 },
 "nbformat": 4,
 "nbformat_minor": 2
}
