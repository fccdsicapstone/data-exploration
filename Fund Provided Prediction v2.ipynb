{
 "cells": [
  {
   "cell_type": "code",
   "execution_count": 1,
   "metadata": {},
   "outputs": [],
   "source": [
    "import pandas as pd\n",
    "import numpy as np\n",
    "import matplotlib.pyplot as plt\n",
    "import itertools"
   ]
  },
  {
   "cell_type": "markdown",
   "metadata": {},
   "source": [
    "### Getting Relevant Data"
   ]
  },
  {
   "cell_type": "code",
   "execution_count": 2,
   "metadata": {},
   "outputs": [
    {
     "data": {
      "text/html": [
       "<div>\n",
       "<style scoped>\n",
       "    .dataframe tbody tr th:only-of-type {\n",
       "        vertical-align: middle;\n",
       "    }\n",
       "\n",
       "    .dataframe tbody tr th {\n",
       "        vertical-align: top;\n",
       "    }\n",
       "\n",
       "    .dataframe thead th {\n",
       "        text-align: right;\n",
       "    }\n",
       "</style>\n",
       "<table border=\"1\" class=\"dataframe\">\n",
       "  <thead>\n",
       "    <tr style=\"text-align: right;\">\n",
       "      <th></th>\n",
       "      <th>table_id</th>\n",
       "      <th>row_count</th>\n",
       "    </tr>\n",
       "  </thead>\n",
       "  <tbody>\n",
       "    <tr>\n",
       "      <th>53</th>\n",
       "      <td>acs_with_geo_2014</td>\n",
       "      <td>216330</td>\n",
       "    </tr>\n",
       "    <tr>\n",
       "      <th>54</th>\n",
       "      <td>fcc_acs_with_geo_2014</td>\n",
       "      <td>216330</td>\n",
       "    </tr>\n",
       "    <tr>\n",
       "      <th>55</th>\n",
       "      <td>fcc_acs_with_geo_and_props_2014_table</td>\n",
       "      <td>216330</td>\n",
       "    </tr>\n",
       "    <tr>\n",
       "      <th>56</th>\n",
       "      <td>tiger_acs_2016_raw</td>\n",
       "      <td>216330</td>\n",
       "    </tr>\n",
       "    <tr>\n",
       "      <th>42</th>\n",
       "      <td>acs_with_geo_2015</td>\n",
       "      <td>216321</td>\n",
       "    </tr>\n",
       "    <tr>\n",
       "      <th>44</th>\n",
       "      <td>fcc_acs_with_geo_2015</td>\n",
       "      <td>216321</td>\n",
       "    </tr>\n",
       "    <tr>\n",
       "      <th>45</th>\n",
       "      <td>fcc_acs_with_geo_2016</td>\n",
       "      <td>216321</td>\n",
       "    </tr>\n",
       "    <tr>\n",
       "      <th>46</th>\n",
       "      <td>fcc_acs_with_geo_and_props_2015_table</td>\n",
       "      <td>216321</td>\n",
       "    </tr>\n",
       "    <tr>\n",
       "      <th>47</th>\n",
       "      <td>fcc_acs_with_geo_and_props_2016_table</td>\n",
       "      <td>216321</td>\n",
       "    </tr>\n",
       "    <tr>\n",
       "      <th>43</th>\n",
       "      <td>acs_with_geo_2016</td>\n",
       "      <td>216321</td>\n",
       "    </tr>\n",
       "    <tr>\n",
       "      <th>65</th>\n",
       "      <td>acs_school_enrollment</td>\n",
       "      <td>212249</td>\n",
       "    </tr>\n",
       "    <tr>\n",
       "      <th>64</th>\n",
       "      <td>acs_education</td>\n",
       "      <td>212249</td>\n",
       "    </tr>\n",
       "    <tr>\n",
       "      <th>63</th>\n",
       "      <td>acs_hispanic</td>\n",
       "      <td>212247</td>\n",
       "    </tr>\n",
       "    <tr>\n",
       "      <th>99</th>\n",
       "      <td>acs_employment</td>\n",
       "      <td>207265</td>\n",
       "    </tr>\n",
       "    <tr>\n",
       "      <th>96</th>\n",
       "      <td>acs_race</td>\n",
       "      <td>207262</td>\n",
       "    </tr>\n",
       "    <tr>\n",
       "      <th>97</th>\n",
       "      <td>acs_total_population</td>\n",
       "      <td>207262</td>\n",
       "    </tr>\n",
       "    <tr>\n",
       "      <th>91</th>\n",
       "      <td>acs_sex_by_age</td>\n",
       "      <td>203137</td>\n",
       "    </tr>\n",
       "    <tr>\n",
       "      <th>88</th>\n",
       "      <td>acs_housing_unit</td>\n",
       "      <td>202878</td>\n",
       "    </tr>\n",
       "    <tr>\n",
       "      <th>89</th>\n",
       "      <td>acs_population</td>\n",
       "      <td>202878</td>\n",
       "    </tr>\n",
       "    <tr>\n",
       "      <th>84</th>\n",
       "      <td>acs_median_income</td>\n",
       "      <td>196707</td>\n",
       "    </tr>\n",
       "  </tbody>\n",
       "</table>\n",
       "</div>"
      ],
      "text/plain": [
       "                                 table_id  row_count\n",
       "53                      acs_with_geo_2014     216330\n",
       "54                  fcc_acs_with_geo_2014     216330\n",
       "55  fcc_acs_with_geo_and_props_2014_table     216330\n",
       "56                     tiger_acs_2016_raw     216330\n",
       "42                      acs_with_geo_2015     216321\n",
       "44                  fcc_acs_with_geo_2015     216321\n",
       "45                  fcc_acs_with_geo_2016     216321\n",
       "46  fcc_acs_with_geo_and_props_2015_table     216321\n",
       "47  fcc_acs_with_geo_and_props_2016_table     216321\n",
       "43                      acs_with_geo_2016     216321\n",
       "65                  acs_school_enrollment     212249\n",
       "64                          acs_education     212249\n",
       "63                           acs_hispanic     212247\n",
       "99                         acs_employment     207265\n",
       "96                               acs_race     207262\n",
       "97                   acs_total_population     207262\n",
       "91                         acs_sex_by_age     203137\n",
       "88                       acs_housing_unit     202878\n",
       "89                         acs_population     202878\n",
       "84                      acs_median_income     196707"
      ]
     },
     "execution_count": 2,
     "metadata": {},
     "output_type": "execute_result"
    }
   ],
   "source": [
    "query = \"\"\"\n",
    "SELECT table_id, row_count FROM `fccdsicapstone-218522.broadband.__TABLES__`\n",
    "\"\"\"\n",
    "tables = pd.read_gbq(query, project_id='fccdsicapstone-218522', dialect='standard')\n",
    "\n",
    "mask = (tables.table_id.str.contains('acs') &\n",
    "        ~tables.table_id.str.contains('group') &\n",
    "        ~tables.table_id.str.contains('level') &\n",
    "        tables.row_count.between(190000, 220000))\n",
    "tables[mask].sort_values('row_count', ascending=False)"
   ]
  },
  {
   "cell_type": "code",
   "execution_count": 15,
   "metadata": {},
   "outputs": [],
   "source": [
    "query_new = \"\"\"\n",
    "WITH block_level AS (\n",
    "  SELECT \n",
    "    SUBSTR(block.block_code, 0, 12) AS block_group\n",
    "    , CASE WHEN fcc.block_code IS NULL THEN 0 ELSE 1 END AS int_avail\n",
    "    , CASE WHEN fund.census_block IS NULL THEN 0\n",
    "           WHEN fund.max_down = 4 AND fund.max_up = 1 THEN 2\n",
    "           ELSE 1 END AS fund_provided\n",
    "    , CASE WHEN fcc.block_code IS NOT NULL AND fund.census_block IS NULL THEN 0 ELSE 1 END AS avail_not_funded\n",
    "    \n",
    "  FROM broadband.census_block block\n",
    "  LEFT JOIN (SELECT DISTINCT block_code, holding_company_name FROM broadband.fcc WHERE file_date = 201706 AND max_down > 4.0 AND max_up > 1.0) fcc\n",
    "    ON block.block_code = fcc.block_code\n",
    "  LEFT JOIN broadband.fcc_demography\n",
    "    ON block.block_code = fcc_demography.block_code\n",
    "  LEFT JOIN broadband.fund\n",
    "    ON block.block_code = fund.census_block\n",
    "  WHERE fcc_demography.population_2016 > 0 AND fcc_demography.housing_unit_2016 > 0 \n",
    "),\n",
    "\n",
    "\n",
    "block_group_level AS ( \n",
    "  SELECT \n",
    "    block_group\n",
    "    , AVG(int_avail) AS int_avail_per\n",
    "    , AVG(fund_provided) AS fund_provided_per\n",
    "    \n",
    "  FROM (SELECT * FROM block_level WHERE avail_not_funded = 1 AND fund_provided < 2)\n",
    "  GROUP BY block_group\n",
    ")\n",
    "\n",
    "SELECT DISTINCT\n",
    "  block_group_level.block_group\n",
    "  , block_group_level.int_avail_per\n",
    "  , block_group_level.fund_provided_per\n",
    "  \n",
    "  , SAFE_DIVIDE(data.road_length, data.land_area) AS road_density\n",
    "  , data.elev_mean\n",
    "  , data.elev_range\n",
    "  , data.winter_temp AS winter_temperature\n",
    "  , SAFE_DIVIDE(data.population, data.land_area) AS population_density\n",
    "  , data.male_rate\n",
    "  , data.median_income\n",
    "  , data.median_age\n",
    "  , data.white_rate\n",
    "  , data.avg_years_of_edu\n",
    "  , data.unemployment_rate\n",
    "  , SAFE_DIVIDE(data.housing_units, data.land_area) AS housing_density\n",
    "  , data.house_owner_rate\n",
    "  , data.newly_moved_household_rate\n",
    "  , data.newly_built_housing_rate\n",
    "  , law.laws_against\n",
    "  --, IFNULL(law.type, 'no_law') AS law_type\n",
    "FROM block_group_level\n",
    "LEFT JOIN broadband.tiger_acs_2016 AS data\n",
    "  ON block_group_level.block_group = data.block_group\n",
    "LEFT JOIN broadband.laws_against_municipal_broadband law\n",
    "  ON SUBSTR(block_group_level.block_group, 0, 2) = law.state_code\n",
    "\"\"\"\n",
    "all_data_new = pd.read_gbq(query_new, project_id='fccdsicapstone-218522', dialect='standard')"
   ]
  },
  {
   "cell_type": "markdown",
   "metadata": {},
   "source": [
    "#### Only No Internet Available Blocks and Funded Blocks are included in this data"
   ]
  },
  {
   "cell_type": "code",
   "execution_count": 16,
   "metadata": {},
   "outputs": [
    {
     "data": {
      "text/plain": [
       "(72849, 19)"
      ]
     },
     "execution_count": 16,
     "metadata": {},
     "output_type": "execute_result"
    }
   ],
   "source": [
    "all_data_new.shape"
   ]
  },
  {
   "cell_type": "markdown",
   "metadata": {},
   "source": [
    "### Data Cleaning for New Data"
   ]
  },
  {
   "cell_type": "code",
   "execution_count": null,
   "metadata": {},
   "outputs": [],
   "source": [
    "# np.unique(all_data_new['verizon_provided_per'])"
   ]
  },
  {
   "cell_type": "code",
   "execution_count": 19,
   "metadata": {},
   "outputs": [
    {
     "name": "stdout",
     "output_type": "stream",
     "text": [
      "(71174, 19)\n",
      "(68050, 19)\n"
     ]
    }
   ],
   "source": [
    "all_data_new.count() / all_data_new.shape[0] * 100\n",
    "data_new = all_data_new.dropna()\n",
    "print(data_new.shape)\n",
    "\n",
    "mask = ((data_new.elev_range < data_new.elev_range.quantile(0.99)) &\n",
    "        (data_new.road_density < data_new.road_density.quantile(0.98)) &\n",
    "        (data_new.population_density < data_new.population_density.quantile(0.98)))\n",
    "\n",
    "data_new = data_new[mask]\n",
    "\n",
    "print(data_new.shape)\n",
    "\n",
    "#convert the column of true/false to 1/0\n",
    "data_new['laws_against'] = data_new['laws_against'].astype(int)\n",
    "\n",
    "#data_new['verizon_provided_per'] = (data_new['verizon_provided_per'] > 0.5).astype(int)"
   ]
  },
  {
   "cell_type": "code",
   "execution_count": 21,
   "metadata": {},
   "outputs": [],
   "source": [
    "def plot_confusion_matrix(cm, classes,\n",
    "                          normalize=False,\n",
    "                          title='Confusion matrix',\n",
    "                          cmap=plt.cm.Blues):\n",
    "    \"\"\"\n",
    "    This function prints and plots the confusion matrix.\n",
    "    Normalization can be applied by setting `normalize=True`.\n",
    "    \"\"\"\n",
    "    if normalize:\n",
    "        cm = cm.astype('float') / cm.sum(axis=1)[:, np.newaxis]\n",
    "        print(\"Normalized confusion matrix\")\n",
    "    else:\n",
    "        print('Confusion matrix, without normalization')\n",
    "\n",
    "    print(cm)\n",
    "\n",
    "    plt.imshow(cm, interpolation='nearest', cmap=cmap)\n",
    "    plt.title(title)\n",
    "    plt.colorbar()\n",
    "    tick_marks = np.arange(len(classes))\n",
    "    plt.xticks(tick_marks, classes, rotation=45)\n",
    "    plt.yticks(tick_marks, classes)\n",
    "\n",
    "    fmt = '.2f' if normalize else 'd'\n",
    "    thresh = cm.max() / 2.\n",
    "    for i, j in itertools.product(range(cm.shape[0]), range(cm.shape[1])):\n",
    "        plt.text(j, i, format(cm[i, j], fmt),\n",
    "                 horizontalalignment=\"center\",\n",
    "                 color=\"white\" if cm[i, j] > thresh else \"black\")\n",
    "\n",
    "    plt.ylabel('True label')\n",
    "    plt.xlabel('Predicted label')\n",
    "    plt.tight_layout()"
   ]
  },
  {
   "cell_type": "markdown",
   "metadata": {},
   "source": [
    "### Model for New"
   ]
  },
  {
   "cell_type": "code",
   "execution_count": 22,
   "metadata": {},
   "outputs": [
    {
     "name": "stdout",
     "output_type": "stream",
     "text": [
      "Train score 0.7244489346069067\n",
      "Test score 0.7287288758265981\n"
     ]
    }
   ],
   "source": [
    "from sklearn.model_selection import train_test_split, GridSearchCV\n",
    "from sklearn.linear_model import LogisticRegression\n",
    "from sklearn.ensemble import RandomForestRegressor\n",
    "from sklearn.ensemble import RandomForestClassifier\n",
    "\n",
    "target_col = 'fund_provided_per'\n",
    "X = data_new.drop(columns=['int_avail_per', 'block_group', target_col])\n",
    "y = data_new[target_col]\n",
    "y = (y > 0.5).astype(int)\n",
    "\n",
    "X_train, X_test, y_train, y_test = train_test_split(X, y, test_size=0.2)\n",
    "\n",
    "# baseline model\n",
    "model = LogisticRegression()\n",
    "model.fit(X_train, y_train)\n",
    "\n",
    "print('Train score', model.score(X_train, y_train))\n",
    "print('Test score', model.score(X_test, y_test))"
   ]
  },
  {
   "cell_type": "code",
   "execution_count": 10,
   "metadata": {},
   "outputs": [
    {
     "data": {
      "text/plain": [
       "0    49321\n",
       "1    18729\n",
       "Name: fund_provided_per, dtype: int64"
      ]
     },
     "execution_count": 10,
     "metadata": {},
     "output_type": "execute_result"
    }
   ],
   "source": [
    "y.value_counts()"
   ]
  },
  {
   "cell_type": "markdown",
   "metadata": {},
   "source": [
    "### Balanced Model"
   ]
  },
  {
   "cell_type": "code",
   "execution_count": 23,
   "metadata": {},
   "outputs": [
    {
     "name": "stdout",
     "output_type": "stream",
     "text": [
      "Fitting 3 folds for each of 16 candidates, totalling 48 fits\n"
     ]
    },
    {
     "name": "stderr",
     "output_type": "stream",
     "text": [
      "[Parallel(n_jobs=-1)]: Done  48 out of  48 | elapsed:  7.4min finished\n",
      "/anaconda/envs/py36/lib/python3.6/site-packages/sklearn/model_selection/_search.py:714: DeprecationWarning: The default of the `iid` parameter will change from True to False in version 0.22 and will be removed in 0.24. This will change numeric results when test-set sizes are unequal.\n",
      "  DeprecationWarning)\n"
     ]
    },
    {
     "name": "stdout",
     "output_type": "stream",
     "text": [
      "Train score 0.7389656031214545\n",
      "Test score 0.6273853364579846\n"
     ]
    }
   ],
   "source": [
    "#Random Forest Model\n",
    "\n",
    "RFmodel_balanced = RandomForestClassifier(class_weight='balanced')\n",
    "params = {\n",
    "     'n_estimators': [200],\n",
    "    'min_samples_split': [65, 70, 75, 80],\n",
    "    'max_depth': [70, 75, 80, 85],\n",
    "}\n",
    " s\n",
    "grid_search_balanced = GridSearchCV(estimator=RFmodel_balanced, param_grid=params, scoring='f1', cv=3, n_jobs=-1, verbose=True)\n",
    "grid_search_balanced.fit(X_train, y_train)\n",
    "\n",
    "print('Train score', grid_search_balanced.score(X_train, y_train))\n",
    "print('Test score', grid_search_balanced.score(X_test, y_test))"
   ]
  },
  {
   "cell_type": "code",
   "execution_count": 24,
   "metadata": {},
   "outputs": [
    {
     "name": "stdout",
     "output_type": "stream",
     "text": [
      "{'max_depth': 70, 'min_samples_split': 65, 'n_estimators': 200}\n"
     ]
    },
    {
     "data": {
      "text/html": [
       "<div>\n",
       "<style scoped>\n",
       "    .dataframe tbody tr th:only-of-type {\n",
       "        vertical-align: middle;\n",
       "    }\n",
       "\n",
       "    .dataframe tbody tr th {\n",
       "        vertical-align: top;\n",
       "    }\n",
       "\n",
       "    .dataframe thead th {\n",
       "        text-align: right;\n",
       "    }\n",
       "</style>\n",
       "<table border=\"1\" class=\"dataframe\">\n",
       "  <thead>\n",
       "    <tr style=\"text-align: right;\">\n",
       "      <th></th>\n",
       "      <th>feature</th>\n",
       "      <th>gini_coef</th>\n",
       "    </tr>\n",
       "  </thead>\n",
       "  <tbody>\n",
       "    <tr>\n",
       "      <th>4</th>\n",
       "      <td>population_density</td>\n",
       "      <td>0.212287</td>\n",
       "    </tr>\n",
       "    <tr>\n",
       "      <th>11</th>\n",
       "      <td>housing_density</td>\n",
       "      <td>0.156164</td>\n",
       "    </tr>\n",
       "    <tr>\n",
       "      <th>3</th>\n",
       "      <td>winter_temperature</td>\n",
       "      <td>0.102466</td>\n",
       "    </tr>\n",
       "    <tr>\n",
       "      <th>0</th>\n",
       "      <td>road_density</td>\n",
       "      <td>0.093492</td>\n",
       "    </tr>\n",
       "    <tr>\n",
       "      <th>1</th>\n",
       "      <td>elev_mean</td>\n",
       "      <td>0.090990</td>\n",
       "    </tr>\n",
       "    <tr>\n",
       "      <th>2</th>\n",
       "      <td>elev_range</td>\n",
       "      <td>0.064022</td>\n",
       "    </tr>\n",
       "    <tr>\n",
       "      <th>8</th>\n",
       "      <td>white_rate</td>\n",
       "      <td>0.054050</td>\n",
       "    </tr>\n",
       "    <tr>\n",
       "      <th>6</th>\n",
       "      <td>median_income</td>\n",
       "      <td>0.049473</td>\n",
       "    </tr>\n",
       "    <tr>\n",
       "      <th>12</th>\n",
       "      <td>house_owner_rate</td>\n",
       "      <td>0.037326</td>\n",
       "    </tr>\n",
       "    <tr>\n",
       "      <th>9</th>\n",
       "      <td>avg_years_of_edu</td>\n",
       "      <td>0.033296</td>\n",
       "    </tr>\n",
       "    <tr>\n",
       "      <th>7</th>\n",
       "      <td>median_age</td>\n",
       "      <td>0.023605</td>\n",
       "    </tr>\n",
       "    <tr>\n",
       "      <th>5</th>\n",
       "      <td>male_rate</td>\n",
       "      <td>0.023122</td>\n",
       "    </tr>\n",
       "    <tr>\n",
       "      <th>10</th>\n",
       "      <td>unemployment_rate</td>\n",
       "      <td>0.021953</td>\n",
       "    </tr>\n",
       "    <tr>\n",
       "      <th>13</th>\n",
       "      <td>newly_moved_household_rate</td>\n",
       "      <td>0.018247</td>\n",
       "    </tr>\n",
       "    <tr>\n",
       "      <th>15</th>\n",
       "      <td>laws_against</td>\n",
       "      <td>0.010630</td>\n",
       "    </tr>\n",
       "    <tr>\n",
       "      <th>14</th>\n",
       "      <td>newly_built_housing_rate</td>\n",
       "      <td>0.008878</td>\n",
       "    </tr>\n",
       "  </tbody>\n",
       "</table>\n",
       "</div>"
      ],
      "text/plain": [
       "                       feature  gini_coef\n",
       "4           population_density   0.212287\n",
       "11             housing_density   0.156164\n",
       "3           winter_temperature   0.102466\n",
       "0                 road_density   0.093492\n",
       "1                    elev_mean   0.090990\n",
       "2                   elev_range   0.064022\n",
       "8                   white_rate   0.054050\n",
       "6                median_income   0.049473\n",
       "12            house_owner_rate   0.037326\n",
       "9             avg_years_of_edu   0.033296\n",
       "7                   median_age   0.023605\n",
       "5                    male_rate   0.023122\n",
       "10           unemployment_rate   0.021953\n",
       "13  newly_moved_household_rate   0.018247\n",
       "15                laws_against   0.010630\n",
       "14    newly_built_housing_rate   0.008878"
      ]
     },
     "execution_count": 24,
     "metadata": {},
     "output_type": "execute_result"
    }
   ],
   "source": [
    "print (grid_search_balanced.best_params_)\n",
    "\n",
    "coefficients = pd.DataFrame(list(zip(X.columns, grid_search_balanced.best_estimator_.feature_importances_))\n",
    "                            , columns=['feature', 'gini_coef'])\n",
    "coefficients.sort_values('gini_coef', ascending=False)"
   ]
  },
  {
   "cell_type": "code",
   "execution_count": 26,
   "metadata": {},
   "outputs": [],
   "source": [
    "from sklearn.metrics import confusion_matrix\n",
    "CM_balanced = confusion_matrix(y_test, grid_search_balanced.predict(X_test))"
   ]
  },
  {
   "cell_type": "code",
   "execution_count": 27,
   "metadata": {},
   "outputs": [
    {
     "name": "stdout",
     "output_type": "stream",
     "text": [
      "Confusion matrix, without normalization\n",
      "[[7460 2454]\n",
      " [ 885 2811]]\n",
      "Normalized confusion matrix\n",
      "[[0.75247125 0.24752875]\n",
      " [0.23944805 0.76055195]]\n"
     ]
    },
    {
     "data": {
      "image/png": "[encoded data removed]",
      "text/plain": [
       "<matplotlib.figure.Figure at 0x1166a0a90>"
      ]
     },
     "metadata": {},
     "output_type": "display_data"
    },
    {
     "data": {
      "image/png": "[encoded data removed]",
      "text/plain": [
       "<matplotlib.figure.Figure at 0x11675b7f0>"
      ]
     },
     "metadata": {},
     "output_type": "display_data"
    }
   ],
   "source": [
    "class_names = np.unique(y)\n",
    "# Plot non-normalized confusion matrix\n",
    "plt.figure()\n",
    "plot_confusion_matrix(CM_balanced, classes=class_names,\n",
    "                      title='Confusion matrix, without normalization')\n",
    "\n",
    "#Plot normalized confusion matrix\n",
    "plt.figure()\n",
    "plot_confusion_matrix(CM_balanced, classes=class_names, normalize=True,\n",
    "                      title='Normalized confusion matrix')\n",
    "\n",
    "plt.show()"
   ]
  },
  {
   "cell_type": "markdown",
   "metadata": {},
   "source": [
    "### Predicting Block Groups that are likely to get funded in the future"
   ]
  },
  {
   "cell_type": "code",
   "execution_count": 28,
   "metadata": {},
   "outputs": [],
   "source": [
    "no_enough_funded = data_new.iloc[np.where(y==0)].copy()\n",
    "\n",
    "X_pred = no_enough_funded.drop(columns=['int_avail_per', 'block_group', target_col])\n",
    "proba = grid_search_balanced.predict_proba(X_pred)\n",
    "no_enough_funded['proba'] = proba[:, 1]"
   ]
  },
  {
   "cell_type": "code",
   "execution_count": 29,
   "metadata": {},
   "outputs": [
    {
     "data": {
      "text/html": [
       "<div>\n",
       "<style scoped>\n",
       "    .dataframe tbody tr th:only-of-type {\n",
       "        vertical-align: middle;\n",
       "    }\n",
       "\n",
       "    .dataframe tbody tr th {\n",
       "        vertical-align: top;\n",
       "    }\n",
       "\n",
       "    .dataframe thead th {\n",
       "        text-align: right;\n",
       "    }\n",
       "</style>\n",
       "<table border=\"1\" class=\"dataframe\">\n",
       "  <thead>\n",
       "    <tr style=\"text-align: right;\">\n",
       "      <th></th>\n",
       "      <th>block_group</th>\n",
       "      <th>proba</th>\n",
       "      <th>fund_provided_per</th>\n",
       "    </tr>\n",
       "  </thead>\n",
       "  <tbody>\n",
       "    <tr>\n",
       "      <th>3179</th>\n",
       "      <td>271711009004</td>\n",
       "      <td>0.951524</td>\n",
       "      <td>0.434783</td>\n",
       "    </tr>\n",
       "    <tr>\n",
       "      <th>12190</th>\n",
       "      <td>270170705003</td>\n",
       "      <td>0.943505</td>\n",
       "      <td>0.446429</td>\n",
       "    </tr>\n",
       "    <tr>\n",
       "      <th>2466</th>\n",
       "      <td>550979606004</td>\n",
       "      <td>0.931087</td>\n",
       "      <td>0.190476</td>\n",
       "    </tr>\n",
       "    <tr>\n",
       "      <th>29056</th>\n",
       "      <td>551410111002</td>\n",
       "      <td>0.919293</td>\n",
       "      <td>0.000000</td>\n",
       "    </tr>\n",
       "    <tr>\n",
       "      <th>7017</th>\n",
       "      <td>551091208001</td>\n",
       "      <td>0.917180</td>\n",
       "      <td>0.244898</td>\n",
       "    </tr>\n",
       "    <tr>\n",
       "      <th>4360</th>\n",
       "      <td>280679509004</td>\n",
       "      <td>0.914773</td>\n",
       "      <td>0.364706</td>\n",
       "    </tr>\n",
       "    <tr>\n",
       "      <th>42720</th>\n",
       "      <td>270159604004</td>\n",
       "      <td>0.910468</td>\n",
       "      <td>0.000000</td>\n",
       "    </tr>\n",
       "    <tr>\n",
       "      <th>59722</th>\n",
       "      <td>551410107004</td>\n",
       "      <td>0.907279</td>\n",
       "      <td>0.000000</td>\n",
       "    </tr>\n",
       "    <tr>\n",
       "      <th>13399</th>\n",
       "      <td>270935601001</td>\n",
       "      <td>0.905427</td>\n",
       "      <td>0.392593</td>\n",
       "    </tr>\n",
       "    <tr>\n",
       "      <th>28198</th>\n",
       "      <td>270935602004</td>\n",
       "      <td>0.898675</td>\n",
       "      <td>0.000000</td>\n",
       "    </tr>\n",
       "  </tbody>\n",
       "</table>\n",
       "</div>"
      ],
      "text/plain": [
       "        block_group     proba  fund_provided_per\n",
       "3179   271711009004  0.951524           0.434783\n",
       "12190  270170705003  0.943505           0.446429\n",
       "2466   550979606004  0.931087           0.190476\n",
       "29056  551410111002  0.919293           0.000000\n",
       "7017   551091208001  0.917180           0.244898\n",
       "4360   280679509004  0.914773           0.364706\n",
       "42720  270159604004  0.910468           0.000000\n",
       "59722  551410107004  0.907279           0.000000\n",
       "13399  270935601001  0.905427           0.392593\n",
       "28198  270935602004  0.898675           0.000000"
      ]
     },
     "execution_count": 29,
     "metadata": {},
     "output_type": "execute_result"
    }
   ],
   "source": [
    "no_enough_funded.sort_values('proba', ascending=False)[['block_group', 'proba','fund_provided_per']].head(10)"
   ]
  },
  {
   "cell_type": "code",
   "execution_count": null,
   "metadata": {},
   "outputs": [],
   "source": []
  }
 ],
 "metadata": {
  "kernelspec": {
   "display_name": "Python 3",
   "language": "python",
   "name": "python3"
  },
  "language_info": {
   "codemirror_mode": {
    "name": "ipython",
    "version": 3
   },
   "file_extension": ".py",
   "mimetype": "text/x-python",
   "name": "python",
   "nbconvert_exporter": "python",
   "pygments_lexer": "ipython3",
   "version": "3.6.4"
  }
 },
 "nbformat": 4,
 "nbformat_minor": 2
}
