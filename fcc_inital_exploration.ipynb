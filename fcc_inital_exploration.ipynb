{
 "cells": [
  {
   "cell_type": "markdown",
   "metadata": {},
   "source": [
    "# Notebook Outline\n",
    "- Holding companies: How many holding companies are there? What is the most census blocks any company serves? What are the fewest any holding company serves?\n",
    "- Broadband type(tech_code): What are the different types? What is the most popular? Which provides the fastest service?\n",
    "- Speed: Median Up/Down (edited)"
   ]
  },
  {
   "cell_type": "code",
   "execution_count": 14,
   "metadata": {},
   "outputs": [],
   "source": [
    "import pandas as pd\n",
    "import matplotlib.pyplot as plt\n",
    "import numpy as np"
   ]
  },
  {
   "cell_type": "code",
   "execution_count": 5,
   "metadata": {},
   "outputs": [],
   "source": [
    "def query_bq(query):\n",
    "    return pd.read_gbq(query, project_id='fccdsicapstone-218522', dialect='standard')"
   ]
  },
  {
   "cell_type": "markdown",
   "metadata": {},
   "source": [
    "## Holding companies:"
   ]
  },
  {
   "cell_type": "code",
   "execution_count": 29,
   "metadata": {},
   "outputs": [],
   "source": [
    "# distinct within subquery ensures to avoid situations where a hoco\n",
    "# offers multiple broadband types to the same census block\n",
    "\n",
    "query = \"\"\"\n",
    "SELECT hoco_final, COUNT(*) as ct FROM(\n",
    "  SELECT\n",
    "      DISTINCT(CONCAT(hoco_final, block_code)) as hoco_block,\n",
    "      hoco_final\n",
    "  FROM broadband.fcc\n",
    "  WHERE file_date = 201412)\n",
    "GROUP BY hoco_final\n",
    "ORDER BY ct DESC\n",
    "\"\"\"\n",
    "df = query_bq(query)"
   ]
  },
  {
   "cell_type": "markdown",
   "metadata": {},
   "source": [
    "There are 5 Holding Comapnies which serve over 1 million census block"
   ]
  },
  {
   "cell_type": "code",
   "execution_count": 30,
   "metadata": {
    "scrolled": false
   },
   "outputs": [
    {
     "data": {
      "text/html": [
       "<div>\n",
       "<style scoped>\n",
       "    .dataframe tbody tr th:only-of-type {\n",
       "        vertical-align: middle;\n",
       "    }\n",
       "\n",
       "    .dataframe tbody tr th {\n",
       "        vertical-align: top;\n",
       "    }\n",
       "\n",
       "    .dataframe thead th {\n",
       "        text-align: right;\n",
       "    }\n",
       "</style>\n",
       "<table border=\"1\" class=\"dataframe\">\n",
       "  <thead>\n",
       "    <tr style=\"text-align: right;\">\n",
       "      <th></th>\n",
       "      <th>hoco_final</th>\n",
       "      <th>ct</th>\n",
       "    </tr>\n",
       "  </thead>\n",
       "  <tbody>\n",
       "    <tr>\n",
       "      <th>0</th>\n",
       "      <td>AT&amp;T Inc.</td>\n",
       "      <td>2087234</td>\n",
       "    </tr>\n",
       "    <tr>\n",
       "      <th>1</th>\n",
       "      <td>Comcast Corporation</td>\n",
       "      <td>1606962</td>\n",
       "    </tr>\n",
       "    <tr>\n",
       "      <th>2</th>\n",
       "      <td>Time Warner Cable Inc.</td>\n",
       "      <td>1232019</td>\n",
       "    </tr>\n",
       "    <tr>\n",
       "      <th>3</th>\n",
       "      <td>CenturyLink, Inc.</td>\n",
       "      <td>1126478</td>\n",
       "    </tr>\n",
       "    <tr>\n",
       "      <th>4</th>\n",
       "      <td>Verizon Communications Inc.</td>\n",
       "      <td>1017697</td>\n",
       "    </tr>\n",
       "    <tr>\n",
       "      <th>5</th>\n",
       "      <td>Charter Communications</td>\n",
       "      <td>841167</td>\n",
       "    </tr>\n",
       "    <tr>\n",
       "      <th>6</th>\n",
       "      <td>JAB Wireless, Inc.</td>\n",
       "      <td>668451</td>\n",
       "    </tr>\n",
       "    <tr>\n",
       "      <th>7</th>\n",
       "      <td>King Street PCS, Inc.</td>\n",
       "      <td>479896</td>\n",
       "    </tr>\n",
       "    <tr>\n",
       "      <th>8</th>\n",
       "      <td>Frontier Communications Corporation</td>\n",
       "      <td>438900</td>\n",
       "    </tr>\n",
       "    <tr>\n",
       "      <th>9</th>\n",
       "      <td>Cox Communications, Inc.</td>\n",
       "      <td>286725</td>\n",
       "    </tr>\n",
       "  </tbody>\n",
       "</table>\n",
       "</div>"
      ],
      "text/plain": [
       "                            hoco_final       ct\n",
       "0                            AT&T Inc.  2087234\n",
       "1                  Comcast Corporation  1606962\n",
       "2               Time Warner Cable Inc.  1232019\n",
       "3                    CenturyLink, Inc.  1126478\n",
       "4          Verizon Communications Inc.  1017697\n",
       "5               Charter Communications   841167\n",
       "6                   JAB Wireless, Inc.   668451\n",
       "7                King Street PCS, Inc.   479896\n",
       "8  Frontier Communications Corporation   438900\n",
       "9             Cox Communications, Inc.   286725"
      ]
     },
     "execution_count": 30,
     "metadata": {},
     "output_type": "execute_result"
    }
   ],
   "source": [
    "df.iloc[0:10]"
   ]
  },
  {
   "cell_type": "markdown",
   "metadata": {},
   "source": [
    "AT&T serves 19% of all census blocks (remember that many of them are water)"
   ]
  },
  {
   "cell_type": "code",
   "execution_count": 70,
   "metadata": {},
   "outputs": [
    {
     "data": {
      "text/plain": [
       "0.18710381600586473"
      ]
     },
     "execution_count": 70,
     "metadata": {},
     "output_type": "execute_result"
    }
   ],
   "source": [
    "total_census_blocks = 11155486\n",
    "df[df.hoco_final=='AT&T Inc.'].ct.values[0]/total_census_blocks"
   ]
  },
  {
   "cell_type": "markdown",
   "metadata": {},
   "source": [
    "There are 1644 different holding companies in the continental US"
   ]
  },
  {
   "cell_type": "code",
   "execution_count": 32,
   "metadata": {},
   "outputs": [
    {
     "data": {
      "text/plain": [
       "1644"
      ]
     },
     "execution_count": 32,
     "metadata": {},
     "output_type": "execute_result"
    }
   ],
   "source": [
    "len(df)"
   ]
  },
  {
   "cell_type": "markdown",
   "metadata": {},
   "source": [
    "32 only serve 1 census block"
   ]
  },
  {
   "cell_type": "code",
   "execution_count": 76,
   "metadata": {},
   "outputs": [
    {
     "data": {
      "text/plain": [
       "34"
      ]
     },
     "execution_count": 76,
     "metadata": {},
     "output_type": "execute_result"
    }
   ],
   "source": [
    "len(df[df.ct ==1])"
   ]
  },
  {
   "cell_type": "markdown",
   "metadata": {},
   "source": [
    "median holding company serves 669 census blocks"
   ]
  },
  {
   "cell_type": "code",
   "execution_count": 34,
   "metadata": {},
   "outputs": [
    {
     "data": {
      "text/plain": [
       "669.0"
      ]
     },
     "execution_count": 34,
     "metadata": {},
     "output_type": "execute_result"
    }
   ],
   "source": [
    "np.median(df.ct)"
   ]
  },
  {
   "cell_type": "markdown",
   "metadata": {},
   "source": [
    "##  Broadband type (tech_code)"
   ]
  },
  {
   "cell_type": "code",
   "execution_count": 78,
   "metadata": {},
   "outputs": [],
   "source": [
    "query = \"\"\"\n",
    "SELECT tech_code, COUNT(*) as ct FROM(\n",
    "  SELECT\n",
    "      DISTINCT(CONCAT(CAST(tech_code AS STRING), block_code)) as hoco_block,\n",
    "      tech_code\n",
    "  FROM broadband.fcc\n",
    "  WHERE file_date = 201412)\n",
    "GROUP BY tech_code\n",
    "ORDER BY ct DESC\n",
    "\"\"\"\n",
    "\n",
    "df_1 = query_bq(query)"
   ]
  },
  {
   "cell_type": "code",
   "execution_count": 79,
   "metadata": {},
   "outputs": [],
   "source": [
    "tech_code_dict = {10:'Asymmetric xDSL',\n",
    "                    11:'ADSL2, ADSL2+',\n",
    "                    12:'VDSL',\n",
    "                    20:'Symmetric xDSL*',\n",
    "                    30:'Other Copper Wireline' ,\n",
    "                    40:'Cable Modem other than DOCSIS 1, 1.1, 2.0, 3.0, or 3.1',\n",
    "                    41:'Cable Modem – DOCSIS 1, 1.1 or 2.0',\n",
    "                    42:'Cable Modem – DOCSIS 3.0',\n",
    "                    43:'Cable Modem – DOCSIS 3.1',\n",
    "                    50:'Optical Carrier / Fiber to the end user',\n",
    "                    60:'Satellite',\n",
    "                    70:'Terrestrial Fixed Wireless',\n",
    "                    90:'Electric Power Line',\n",
    "                    0:'All Other'}"
   ]
  },
  {
   "cell_type": "code",
   "execution_count": 80,
   "metadata": {},
   "outputs": [],
   "source": [
    "tech_desc = []\n",
    "for i in df_1.tech_code:\n",
    "    tech_desc.append(tech_code_dict[i])\n",
    "df_1['tech_desc'] = tech_desc"
   ]
  },
  {
   "cell_type": "markdown",
   "metadata": {},
   "source": [
    "Cable is the most popular broadband offering, followed by cable, Terrestrial Fixed Wireless DSL & Optical Fiber"
   ]
  },
  {
   "cell_type": "code",
   "execution_count": 81,
   "metadata": {
    "scrolled": true
   },
   "outputs": [
    {
     "data": {
      "text/html": [
       "<div>\n",
       "<style scoped>\n",
       "    .dataframe tbody tr th:only-of-type {\n",
       "        vertical-align: middle;\n",
       "    }\n",
       "\n",
       "    .dataframe tbody tr th {\n",
       "        vertical-align: top;\n",
       "    }\n",
       "\n",
       "    .dataframe thead th {\n",
       "        text-align: right;\n",
       "    }\n",
       "</style>\n",
       "<table border=\"1\" class=\"dataframe\">\n",
       "  <thead>\n",
       "    <tr style=\"text-align: right;\">\n",
       "      <th></th>\n",
       "      <th>tech_code</th>\n",
       "      <th>ct</th>\n",
       "      <th>tech_desc</th>\n",
       "    </tr>\n",
       "  </thead>\n",
       "  <tbody>\n",
       "    <tr>\n",
       "      <th>0</th>\n",
       "      <td>42</td>\n",
       "      <td>4810459</td>\n",
       "      <td>Cable Modem – DOCSIS 3.0</td>\n",
       "    </tr>\n",
       "    <tr>\n",
       "      <th>1</th>\n",
       "      <td>70</td>\n",
       "      <td>4086394</td>\n",
       "      <td>Terrestrial Fixed Wireless</td>\n",
       "    </tr>\n",
       "    <tr>\n",
       "      <th>2</th>\n",
       "      <td>10</td>\n",
       "      <td>2402590</td>\n",
       "      <td>Asymmetric xDSL</td>\n",
       "    </tr>\n",
       "    <tr>\n",
       "      <th>3</th>\n",
       "      <td>12</td>\n",
       "      <td>2176085</td>\n",
       "      <td>VDSL</td>\n",
       "    </tr>\n",
       "    <tr>\n",
       "      <th>4</th>\n",
       "      <td>11</td>\n",
       "      <td>1802126</td>\n",
       "      <td>ADSL2, ADSL2+</td>\n",
       "    </tr>\n",
       "    <tr>\n",
       "      <th>5</th>\n",
       "      <td>50</td>\n",
       "      <td>1194400</td>\n",
       "      <td>Optical Carrier / Fiber to the end user</td>\n",
       "    </tr>\n",
       "    <tr>\n",
       "      <th>6</th>\n",
       "      <td>41</td>\n",
       "      <td>417475</td>\n",
       "      <td>Cable Modem – DOCSIS 1, 1.1 or 2.0</td>\n",
       "    </tr>\n",
       "    <tr>\n",
       "      <th>7</th>\n",
       "      <td>30</td>\n",
       "      <td>312784</td>\n",
       "      <td>Other Copper Wireline</td>\n",
       "    </tr>\n",
       "    <tr>\n",
       "      <th>8</th>\n",
       "      <td>20</td>\n",
       "      <td>92101</td>\n",
       "      <td>Symmetric xDSL*</td>\n",
       "    </tr>\n",
       "    <tr>\n",
       "      <th>9</th>\n",
       "      <td>40</td>\n",
       "      <td>68420</td>\n",
       "      <td>Cable Modem other than DOCSIS 1, 1.1, 2.0, 3.0...</td>\n",
       "    </tr>\n",
       "    <tr>\n",
       "      <th>10</th>\n",
       "      <td>0</td>\n",
       "      <td>5471</td>\n",
       "      <td>All Other</td>\n",
       "    </tr>\n",
       "  </tbody>\n",
       "</table>\n",
       "</div>"
      ],
      "text/plain": [
       "    tech_code       ct                                          tech_desc\n",
       "0          42  4810459                           Cable Modem – DOCSIS 3.0\n",
       "1          70  4086394                         Terrestrial Fixed Wireless\n",
       "2          10  2402590                                    Asymmetric xDSL\n",
       "3          12  2176085                                               VDSL\n",
       "4          11  1802126                                      ADSL2, ADSL2+\n",
       "5          50  1194400            Optical Carrier / Fiber to the end user\n",
       "6          41   417475                 Cable Modem – DOCSIS 1, 1.1 or 2.0\n",
       "7          30   312784                              Other Copper Wireline\n",
       "8          20    92101                                    Symmetric xDSL*\n",
       "9          40    68420  Cable Modem other than DOCSIS 1, 1.1, 2.0, 3.0...\n",
       "10          0     5471                                          All Other"
      ]
     },
     "execution_count": 81,
     "metadata": {},
     "output_type": "execute_result"
    }
   ],
   "source": [
    "df_1"
   ]
  },
  {
   "cell_type": "code",
   "execution_count": 94,
   "metadata": {},
   "outputs": [],
   "source": [
    "df_1_polished = df_1[['tech_desc', 'ct']]\n",
    "df_1_polished.columns = ['Technology Type', 'Census Blocks']"
   ]
  },
  {
   "cell_type": "code",
   "execution_count": 97,
   "metadata": {},
   "outputs": [],
   "source": [
    "df_1_polished.loc[11] = ['DSL', 2402590+2176085+1802126]\n",
    "df_1_polished = df_1_polished.iloc[[11,0,1,5,6]]\n",
    "\n",
    "df_1_polished['Technology Type'] = ['DSL',\n",
    "                                   'Cable DOCSIS 3.0 - 3.1',\n",
    "                                   'Terrestrial Fixed Wireless',\n",
    "                                    'Fiber (FTTH)',\n",
    "                                  'Cable DOCSIS 1.0 - 2.0']"
   ]
  },
  {
   "cell_type": "code",
   "execution_count": 98,
   "metadata": {},
   "outputs": [
    {
     "data": {
      "text/html": [
       "<div>\n",
       "<style scoped>\n",
       "    .dataframe tbody tr th:only-of-type {\n",
       "        vertical-align: middle;\n",
       "    }\n",
       "\n",
       "    .dataframe tbody tr th {\n",
       "        vertical-align: top;\n",
       "    }\n",
       "\n",
       "    .dataframe thead th {\n",
       "        text-align: right;\n",
       "    }\n",
       "</style>\n",
       "<table border=\"1\" class=\"dataframe\">\n",
       "  <thead>\n",
       "    <tr style=\"text-align: right;\">\n",
       "      <th></th>\n",
       "      <th>Technology Type</th>\n",
       "      <th>Census Blocks</th>\n",
       "    </tr>\n",
       "  </thead>\n",
       "  <tbody>\n",
       "    <tr>\n",
       "      <th>11</th>\n",
       "      <td>DSL</td>\n",
       "      <td>6380801</td>\n",
       "    </tr>\n",
       "    <tr>\n",
       "      <th>0</th>\n",
       "      <td>Cable DOCSIS 3.0 - 3.1</td>\n",
       "      <td>4810459</td>\n",
       "    </tr>\n",
       "    <tr>\n",
       "      <th>1</th>\n",
       "      <td>Terrestrial Fixed Wireless</td>\n",
       "      <td>4086394</td>\n",
       "    </tr>\n",
       "    <tr>\n",
       "      <th>5</th>\n",
       "      <td>Fiber (FTTH)</td>\n",
       "      <td>1194400</td>\n",
       "    </tr>\n",
       "    <tr>\n",
       "      <th>6</th>\n",
       "      <td>Cable DOCSIS 1.0 - 2.0</td>\n",
       "      <td>417475</td>\n",
       "    </tr>\n",
       "  </tbody>\n",
       "</table>\n",
       "</div>"
      ],
      "text/plain": [
       "               Technology Type  Census Blocks\n",
       "11                         DSL        6380801\n",
       "0       Cable DOCSIS 3.0 - 3.1        4810459\n",
       "1   Terrestrial Fixed Wireless        4086394\n",
       "5                 Fiber (FTTH)        1194400\n",
       "6       Cable DOCSIS 1.0 - 2.0         417475"
      ]
     },
     "execution_count": 98,
     "metadata": {},
     "output_type": "execute_result"
    }
   ],
   "source": [
    "df_1_polished"
   ]
  },
  {
   "cell_type": "markdown",
   "metadata": {},
   "source": [
    "From Prof. Schulzrine's Analysis speed order is: Fiber, Cable, Terrestrial, DSL\n",
    "\n",
    "|Technology Type | Mean | 25th Percentile|50th Percentile |75th Percentile|\n",
    "| -------- | -------- | -------- | -------- |\n",
    "|DSL |14.8 |6.0| 12.0 |24.0|\n",
    "|Terrestrial Fixed wireless| 28.3| 8.0| 15.0 |30.0|\n",
    "|Cable DOCSIS 1.0 - 2.0 |45.3 |30.0 |55.0 |90.0|\n",
    "|Cable DOCSIS 3.0 - 3.1 |535.4| 200.0 |400.0| 500.0|\n",
    "|Fiber (FTTH)| 658.8 |500.0 |850.0 |1000.0|\n"
   ]
  },
  {
   "cell_type": "code",
   "execution_count": 72,
   "metadata": {},
   "outputs": [],
   "source": [
    "query = \"\"\"\n",
    "SELECT \n",
    "  PERCENTILE_CONT(down, 0.5) OVER() as median_down,\n",
    "  PERCENTILE_CONT(up, 0.5) OVER() as median_up\n",
    "FROM(\n",
    "  SELECT\n",
    "    block_code,\n",
    "    MAX(max_ad_down) as down,\n",
    "    MAX(max_ad_up) as up\n",
    "  FROM broadband.fcc\n",
    "  WHERE file_date = 201412\n",
    "  GROUP BY block_code)\n",
    "\"\"\"\n",
    "df_2 = query_bq(query)"
   ]
  },
  {
   "cell_type": "markdown",
   "metadata": {},
   "source": [
    "Median Maximum Offered Download Speed in all census codes with a broadband offering"
   ]
  },
  {
   "cell_type": "code",
   "execution_count": 74,
   "metadata": {},
   "outputs": [
    {
     "data": {
      "text/plain": [
       "50.0"
      ]
     },
     "execution_count": 74,
     "metadata": {},
     "output_type": "execute_result"
    }
   ],
   "source": [
    "df_2.median_down.values[0]"
   ]
  },
  {
   "cell_type": "markdown",
   "metadata": {},
   "source": [
    "Median Maximum Offered Upload Speed in all census codes with a broadband offering"
   ]
  },
  {
   "cell_type": "code",
   "execution_count": 75,
   "metadata": {},
   "outputs": [
    {
     "data": {
      "text/plain": [
       "5.0"
      ]
     },
     "execution_count": 75,
     "metadata": {},
     "output_type": "execute_result"
    }
   ],
   "source": [
    "df_2.median_up.values[0]"
   ]
  }
 ],
 "metadata": {
  "kernelspec": {
   "display_name": "Python 3",
   "language": "python",
   "name": "python3"
  },
  "language_info": {
   "codemirror_mode": {
    "name": "ipython",
    "version": 3
   },
   "file_extension": ".py",
   "mimetype": "text/x-python",
   "name": "python",
   "nbconvert_exporter": "python",
   "pygments_lexer": "ipython3",
   "version": "3.6.4"
  }
 },
 "nbformat": 4,
 "nbformat_minor": 2
}
