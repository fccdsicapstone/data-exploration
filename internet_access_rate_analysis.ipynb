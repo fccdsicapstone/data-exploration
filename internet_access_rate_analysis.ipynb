{
 "cells": [
  {
   "cell_type": "code",
   "execution_count": 1,
   "metadata": {},
   "outputs": [],
   "source": [
    "% matplotlib inline\n",
    "\n",
    "from functools import reduce\n",
    "import pandas as pd\n",
    "import numpy as np\n",
    "import seaborn as sns\n",
    "import matplotlib.pyplot as plt\n",
    "\n",
    "#Pandas options\n",
    "pd.set_option('display.max_rows', 25)\n",
    "pd.set_option('display.max_columns', 100)\n",
    "pd.options.display.float_format = '{:,.6f}'.format\n",
    "\n",
    "#Set seaborn plot theme\n",
    "sns.set_style('darkgrid')"
   ]
  },
  {
   "cell_type": "markdown",
   "metadata": {},
   "source": [
    "# ACS Tables"
   ]
  },
  {
   "cell_type": "code",
   "execution_count": 2,
   "metadata": {},
   "outputs": [
    {
     "data": {
      "text/html": [
       "<div>\n",
       "<style scoped>\n",
       "    .dataframe tbody tr th:only-of-type {\n",
       "        vertical-align: middle;\n",
       "    }\n",
       "\n",
       "    .dataframe tbody tr th {\n",
       "        vertical-align: top;\n",
       "    }\n",
       "\n",
       "    .dataframe thead th {\n",
       "        text-align: right;\n",
       "    }\n",
       "</style>\n",
       "<table border=\"1\" class=\"dataframe\">\n",
       "  <thead>\n",
       "    <tr style=\"text-align: right;\">\n",
       "      <th></th>\n",
       "      <th>table_id</th>\n",
       "      <th>row_count</th>\n",
       "    </tr>\n",
       "  </thead>\n",
       "  <tbody>\n",
       "    <tr>\n",
       "      <th>23</th>\n",
       "      <td>acs_blockgroup_2015</td>\n",
       "      <td>216362</td>\n",
       "    </tr>\n",
       "    <tr>\n",
       "      <th>24</th>\n",
       "      <td>acs_blockgroup_2016</td>\n",
       "      <td>216362</td>\n",
       "    </tr>\n",
       "    <tr>\n",
       "      <th>56</th>\n",
       "      <td>acs_blockgroup_2017</td>\n",
       "      <td>214521</td>\n",
       "    </tr>\n",
       "    <tr>\n",
       "      <th>20</th>\n",
       "      <td>acs_education</td>\n",
       "      <td>212249</td>\n",
       "    </tr>\n",
       "    <tr>\n",
       "      <th>21</th>\n",
       "      <td>acs_school_enrollment</td>\n",
       "      <td>212249</td>\n",
       "    </tr>\n",
       "    <tr>\n",
       "      <th>19</th>\n",
       "      <td>acs_hispanic</td>\n",
       "      <td>212247</td>\n",
       "    </tr>\n",
       "    <tr>\n",
       "      <th>48</th>\n",
       "      <td>acs_employment</td>\n",
       "      <td>207265</td>\n",
       "    </tr>\n",
       "    <tr>\n",
       "      <th>46</th>\n",
       "      <td>acs_race</td>\n",
       "      <td>207262</td>\n",
       "    </tr>\n",
       "    <tr>\n",
       "      <th>47</th>\n",
       "      <td>acs_total_population</td>\n",
       "      <td>207262</td>\n",
       "    </tr>\n",
       "    <tr>\n",
       "      <th>42</th>\n",
       "      <td>acs_sex_by_age</td>\n",
       "      <td>203137</td>\n",
       "    </tr>\n",
       "    <tr>\n",
       "      <th>40</th>\n",
       "      <td>acs_housing_unit</td>\n",
       "      <td>202878</td>\n",
       "    </tr>\n",
       "    <tr>\n",
       "      <th>41</th>\n",
       "      <td>acs_population</td>\n",
       "      <td>202878</td>\n",
       "    </tr>\n",
       "    <tr>\n",
       "      <th>38</th>\n",
       "      <td>acs_median_income</td>\n",
       "      <td>196707</td>\n",
       "    </tr>\n",
       "  </tbody>\n",
       "</table>\n",
       "</div>"
      ],
      "text/plain": [
       "                 table_id  row_count\n",
       "23    acs_blockgroup_2015     216362\n",
       "24    acs_blockgroup_2016     216362\n",
       "56    acs_blockgroup_2017     214521\n",
       "20          acs_education     212249\n",
       "21  acs_school_enrollment     212249\n",
       "19           acs_hispanic     212247\n",
       "48         acs_employment     207265\n",
       "46               acs_race     207262\n",
       "47   acs_total_population     207262\n",
       "42         acs_sex_by_age     203137\n",
       "40       acs_housing_unit     202878\n",
       "41         acs_population     202878\n",
       "38      acs_median_income     196707"
      ]
     },
     "execution_count": 2,
     "metadata": {},
     "output_type": "execute_result"
    }
   ],
   "source": [
    "query = \"\"\"\n",
    "SELECT table_id, row_count FROM `fccdsicapstone-218522.broadband.__TABLES__`\n",
    "\"\"\"\n",
    "tables = pd.read_gbq(query, project_id='fccdsicapstone-218522', dialect='standard')\n",
    "\n",
    "mask = tables.table_id.str.contains('acs') & tables.row_count.between(190000, 220000)\n",
    "tables[mask].sort_values('row_count', ascending=False)"
   ]
  },
  {
   "cell_type": "markdown",
   "metadata": {},
   "source": [
    "# census_block, left join fcc and acs attributes"
   ]
  },
  {
   "cell_type": "code",
   "execution_count": 3,
   "metadata": {},
   "outputs": [],
   "source": [
    "query = \"\"\"\n",
    "WITH block_level AS (\n",
    "  SELECT \n",
    "    SUBSTR(block.block_code, 0, 12) AS block_group,\n",
    "    block.total_length, \n",
    "    block.land_area, \n",
    "    block.elevation_mean,\n",
    "    block.elevation_range,\n",
    "    CASE WHEN fcc.block_code IS NULL THEN 0 ELSE 1 END AS int_avail\n",
    "  FROM broadband.census_block block\n",
    "  LEFT JOIN (SELECT DISTINCT block_code FROM broadband.fcc WHERE file_date = 201706) fcc\n",
    "      ON block.block_code = fcc.block_code\n",
    "),\n",
    "block_group_level AS ( \n",
    "  SELECT \n",
    "    block_group,\n",
    "    AVG(int_avail) AS int_avail_per,\n",
    "    SUM(total_length) AS total_length, \n",
    "    SUM(land_area) AS total_land_area, \n",
    "    AVG(elevation_mean) AS avg_elevation,\n",
    "    AVG(elevation_range) AS avg_elevation_range\n",
    "  FROM block_level\n",
    "  GROUP BY block_group\n",
    ")\n",
    "\n",
    "SELECT \n",
    "  block_group_level.*,\n",
    "  acs_total_population.estimate_total AS population,\n",
    "  acs_housing_unit.estimate_total AS housing_units,\n",
    "  acs_median_income.estimate_median_household_income_in_the_past_12_months_in_2016_inflation_adjusted_dollars AS income,\n",
    "  acs_education_average.avg_years_of_edu,\n",
    "  acs_employment_percentage.unemployment_rate,\n",
    "  acs_gender_age.male_ratio,\n",
    "  acs_gender_age.avg_age,\n",
    "  SAFE_DIVIDE(acs_race.estimate_total__white_alone, acs_race.estimate_total) AS white_ratio,\n",
    "  SAFE_DIVIDE(acs_race.estimate_total__black_or_african_american_alone, acs_race.estimate_total) AS black_ratio,\n",
    "  SAFE_DIVIDE(acs_race.estimate_total__asian_alone, acs_race.estimate_total) AS asian_ratio,\n",
    "  SAFE_DIVIDE(acs_hispanic.estimate_total__hispanic_or_latino, acs_hispanic.estimate_total) AS hispanic_ratio\n",
    "FROM block_group_level\n",
    "LEFT JOIN broadband.acs_total_population\n",
    "  ON block_group_level.block_group = acs_total_population.block_group_code\n",
    "LEFT JOIN broadband.acs_housing_unit\n",
    "  ON block_group_level.block_group = acs_housing_unit.block_group_code\n",
    "LEFT JOIN broadband.acs_median_income\n",
    "  ON block_group_level.block_group = acs_median_income.block_group_code\n",
    "LEFT JOIN broadband.acs_education_average\n",
    "  ON block_group_level.block_group = acs_education_average.block_group_code\n",
    "LEFT JOIN broadband.acs_employment_percentage\n",
    "  ON block_group_level.block_group = acs_employment_percentage.block_group_code\n",
    "LEFT JOIN broadband.acs_gender_age\n",
    "  ON block_group_level.block_group = acs_gender_age.block_group_code\n",
    "LEFT JOIN broadband.acs_race\n",
    "  ON block_group_level.block_group = acs_race.block_group_code\n",
    "LEFT JOIN broadband.acs_hispanic\n",
    "  ON block_group_level.block_group = acs_hispanic.block_group_code\n",
    "\"\"\"\n",
    "\n",
    "data = pd.read_gbq(query, project_id='fccdsicapstone-218522', dialect='standard')"
   ]
  },
  {
   "cell_type": "code",
   "execution_count": 4,
   "metadata": {},
   "outputs": [
    {
     "data": {
      "text/plain": [
       "(1106815, 17)"
      ]
     },
     "execution_count": 4,
     "metadata": {},
     "output_type": "execute_result"
    }
   ],
   "source": [
    "data.shape"
   ]
  },
  {
   "cell_type": "markdown",
   "metadata": {},
   "source": [
    "### Missing values"
   ]
  },
  {
   "cell_type": "code",
   "execution_count": 10,
   "metadata": {},
   "outputs": [
    {
     "data": {
      "text/plain": [
       "block_group           100.000000\n",
       "int_avail_per         100.000000\n",
       "total_length          100.000000\n",
       "total_land_area       100.000000\n",
       "avg_elevation         100.000000\n",
       "avg_elevation_range   100.000000\n",
       "population             98.856177\n",
       "housing_units          98.442920\n",
       "income                 97.031844\n",
       "avg_years_of_edu       99.066601\n",
       "unemployment_rate      98.553146\n",
       "male_ratio             98.272701\n",
       "avg_age                98.272701\n",
       "white_ratio            98.643947\n",
       "black_ratio            98.643947\n",
       "asian_ratio            98.643947\n",
       "hispanic_ratio         99.092622\n",
       "dtype: float64"
      ]
     },
     "execution_count": 10,
     "metadata": {},
     "output_type": "execute_result"
    }
   ],
   "source": [
    "data.count() / data.shape[0] * 100"
   ]
  },
  {
   "cell_type": "code",
   "execution_count": 5,
   "metadata": {},
   "outputs": [
    {
     "data": {
      "text/plain": [
       "Text(0.5,0,'Internet availability percentage')"
      ]
     },
     "execution_count": 5,
     "metadata": {},
     "output_type": "execute_result"
    },
    {
     "data": {
      "image/png": "[encoded data removed]",
      "text/plain": [
       "<Figure size 576x432 with 1 Axes>"
      ]
     },
     "metadata": {},
     "output_type": "display_data"
    }
   ],
   "source": [
    "ax = data.int_avail_per.plot(kind='hist', figsize=(8, 6))\n",
    "ax.set_xlabel('Internet availability percentage', fontsize=12)"
   ]
  },
  {
   "cell_type": "code",
   "execution_count": 6,
   "metadata": {},
   "outputs": [
    {
     "data": {
      "text/plain": [
       "count   1,106,815.000000\n",
       "mean            0.938822\n",
       "std             0.160408\n",
       "min             0.000000\n",
       "25%             1.000000\n",
       "50%             1.000000\n",
       "75%             1.000000\n",
       "max             1.000000\n",
       "Name: int_avail_per, dtype: float64"
      ]
     },
     "execution_count": 6,
     "metadata": {},
     "output_type": "execute_result"
    }
   ],
   "source": [
    "data.int_avail_per.describe()"
   ]
  },
  {
   "cell_type": "code",
   "execution_count": 11,
   "metadata": {},
   "outputs": [
    {
     "name": "stdout",
     "output_type": "stream",
     "text": [
      "block_group with full coverage 23.794581750337684\n",
      "block_group without full coverage 76.20541824966232\n"
     ]
    }
   ],
   "source": [
    "full_coverage = (data.int_avail_per == 1).sum() / data.shape[0] * 100\n",
    "print('block_group with full coverage', 100 - full_coverage)\n",
    "print('block_group without full coverage', full_coverage)"
   ]
  },
  {
   "cell_type": "code",
   "execution_count": null,
   "metadata": {},
   "outputs": [],
   "source": []
  }
 ],
 "metadata": {
  "kernelspec": {
   "display_name": "Python 3",
   "language": "python",
   "name": "python3"
  },
  "language_info": {
   "codemirror_mode": {
    "name": "ipython",
    "version": 3
   },
   "file_extension": ".py",
   "mimetype": "text/x-python",
   "name": "python",
   "nbconvert_exporter": "python",
   "pygments_lexer": "ipython3",
   "version": "3.6.5"
  }
 },
 "nbformat": 4,
 "nbformat_minor": 2
}
