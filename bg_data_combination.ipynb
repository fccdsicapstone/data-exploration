{
 "cells": [
  {
   "cell_type": "code",
   "execution_count": 1,
   "metadata": {},
   "outputs": [],
   "source": [
    "from functools import reduce\n",
    "import pandas as pd\n",
    "import numpy as np\n",
    "import seaborn as sns\n",
    "import matplotlib.pyplot as plt"
   ]
  },
  {
   "cell_type": "code",
   "execution_count": 2,
   "metadata": {},
   "outputs": [],
   "source": [
    "#Converted TIGER GDB to .csv files using QGIS.\n",
    "age_sex = pd.read_csv('age_sex.csv')[['GEOID', 'B01001e1', 'B01001e2', 'B01002e1']]\n",
    "race = pd.read_csv('race.csv')[['GEOID', 'B02001e2', 'B02001e3', 'B02001e4', 'B02001e5']]\n",
    "hispanic = pd.read_csv('hispanic_latino.csv')[['GEOID', 'B03002e12']]\n",
    "household = pd.read_csv('household_family.csv')[['GEOID', 'B11001e1']]\n",
    "edu = pd.read_csv('education.csv')[['GEOID'] + ['B15003e' + str(i) for i in range(2, 26)]]\n",
    "income = pd.read_csv('income.csv')[['GEOID', 'B19013e1']]\n",
    "employ = pd.read_csv('employment_status.csv')[['GEOID', 'B23025e3', 'B23025e5']]\n",
    "housing = pd.read_csv('housing_characteristics.csv')[['GEOID', 'B25001e1', 'B25003e2', 'B25003e3', 'B25034e2', 'B25038e3', 'B25038e10']]\n",
    "\n",
    "dfs = [age_sex, race, hispanic, household, edu, income, employ, housing]\n",
    "acs = reduce(lambda left, right: pd.merge(left, right, on='GEOID'), dfs)\n",
    "acs['GEOID'] = acs['GEOID'].str[-12:]\n",
    "acs = acs[~acs['GEOID'].str[:2].isin(['02', '15', '72'])]\n",
    "\n",
    "acs.columns = ['GEOID', 'population', 'male_population', 'median_age', 'white', 'black', 'native', 'asian',\n",
    "               'hispanic', 'households', 'no_schooling', 'nursery', 'kindergarten', '1st_grade', '2nd_grade',\n",
    "               '3rd_grade', '4th_grade', '5th_grade', '6th_grade', '7th_grade', '8th_grade', '9th_grade',\n",
    "               '10th_grade', '11th_grade', '12th_grade', 'high_school', 'GED', 'college<1', 'college>=1', \n",
    "               \"associate's\", \"bachelor's\", \"master's\", 'professional', 'doctorate', 'median_income',\n",
    "               'labor_force', 'unemployed', 'housing_units', 'owner', 'renter', 'built_2014+', 'owner_2015+',\n",
    "               'renter_2015+']"
   ]
  },
  {
   "cell_type": "code",
   "execution_count": 3,
   "metadata": {},
   "outputs": [],
   "source": [
    "#Used TIGER shapefiles to get road lengths, elevation data, and temperature data using QGIS.\n",
    "bg_info = pd.read_csv('block_group_info.csv')\n",
    "bg_info['GEOID'] = bg_info['GEOID'].astype(str).str.zfill(12)\n",
    "bg_info.columns = ['state_code', 'county_code', 'tract_code', 'bg_code', 'GEOID', 'land_area', 'water_area',\n",
    "                  'latitude', 'longitude', 'elev_mean', 'elev_stdev', 'elev_range']\n",
    "\n",
    "roads = pd.read_csv('tl_2018_road_lengths.csv')\n",
    "roads['GEOID'] = roads['GEOID'].astype(str).str.zfill(12)\n",
    "roads.columns = ['GEOID', 'road_length']\n",
    "\n",
    "temp = pd.read_csv('temperatures.csv')\n",
    "temp['GEOID'] = temp['GEOID'].astype(str).str.zfill(12)\n",
    "temp.columns = ['GEOID', 'winter_temp']\n",
    "\n",
    "data = reduce(lambda left, right: pd.merge(left, right, on='GEOID'), [bg_info, acs, roads, temp])\n",
    "\n",
    "data['GEOID'] = data['GEOID'].astype(str)"
   ]
  },
  {
   "cell_type": "code",
   "execution_count": 4,
   "metadata": {},
   "outputs": [],
   "source": [
    "data.to_csv('blockgroup_2016_relevant_group1.csv', index = False)"
   ]
  }
 ],
 "metadata": {
  "kernelspec": {
   "display_name": "Python 3",
   "language": "python",
   "name": "python3"
  },
  "language_info": {
   "codemirror_mode": {
    "name": "ipython",
    "version": 3
   },
   "file_extension": ".py",
   "mimetype": "text/x-python",
   "name": "python",
   "nbconvert_exporter": "python",
   "pygments_lexer": "ipython3",
   "version": "3.6.6"
  }
 },
 "nbformat": 4,
 "nbformat_minor": 2
}
