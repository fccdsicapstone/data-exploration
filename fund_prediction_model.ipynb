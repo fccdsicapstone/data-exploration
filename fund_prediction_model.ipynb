{
 "cells": [
  {
   "cell_type": "code",
   "execution_count": 1,
   "metadata": {},
   "outputs": [],
   "source": [
    "import pandas as pd\n",
    "import numpy as np\n",
    "import matplotlib.pyplot as plt\n",
    "import itertools"
   ]
  },
  {
   "cell_type": "markdown",
   "metadata": {},
   "source": [
    "### Getting Relevant Data"
   ]
  },
  {
   "cell_type": "code",
   "execution_count": null,
   "metadata": {},
   "outputs": [],
   "source": [
    "query = \"\"\"\n",
    "SELECT table_id, row_count FROM `fccdsicapstone-218522.broadband.__TABLES__`\n",
    "\"\"\"\n",
    "tables = pd.read_gbq(query, project_id='fccdsicapstone-218522', dialect='standard')\n",
    "\n",
    "mask = (tables.table_id.str.contains('acs') &\n",
    "        ~tables.table_id.str.contains('group') &\n",
    "        ~tables.table_id.str.contains('level') &\n",
    "        tables.row_count.between(190000, 220000))\n",
    "tables[mask].sort_values('row_count', ascending=False)"
   ]
  },
  {
   "cell_type": "code",
   "execution_count": 2,
   "metadata": {},
   "outputs": [],
   "source": [
    "query_new = \"\"\"\n",
    "WITH block_level AS (\n",
    "  SELECT \n",
    "    SUBSTR(block.block_code, 0, 12) AS block_group\n",
    "    , CASE WHEN fcc.block_code IS NULL THEN 0 ELSE 1 END AS int_avail\n",
    "    , CASE WHEN fund.census_block IS NULL THEN 0\n",
    "           WHEN fund.max_down = 4 AND fund.max_up = 1 THEN 2\n",
    "           ELSE 1 END AS fund_provided\n",
    "    , CASE WHEN fcc.block_code IS NOT NULL AND fund.census_block IS NULL THEN 0 ELSE 1 END AS avail_not_funded\n",
    "    \n",
    "  FROM broadband.census_block block\n",
    "  LEFT JOIN (SELECT DISTINCT block_code, holding_company_name FROM broadband.fcc WHERE file_date = 201706 AND max_down > 4.0 AND max_up > 1.0) fcc\n",
    "    ON block.block_code = fcc.block_code\n",
    "  LEFT JOIN broadband.fcc_demography\n",
    "    ON block.block_code = fcc_demography.block_code\n",
    "  LEFT JOIN broadband.fund\n",
    "    ON block.block_code = fund.census_block\n",
    "  WHERE fcc_demography.population_2016 > 0 AND fcc_demography.housing_unit_2016 > 0 \n",
    "),\n",
    "\n",
    "\n",
    "block_group_level AS ( \n",
    "  SELECT \n",
    "    block_group\n",
    "    , AVG(int_avail) AS int_avail_per\n",
    "    , AVG(fund_provided) AS fund_provided_per\n",
    "    \n",
    "  FROM (SELECT * FROM block_level WHERE avail_not_funded = 1 AND fund_provided < 2)\n",
    "  GROUP BY block_group\n",
    ")\n",
    "\n",
    "SELECT DISTINCT\n",
    "  block_group_level.block_group\n",
    "  , block_group_level.int_avail_per\n",
    "  , block_group_level.fund_provided_per\n",
    "  \n",
    "  , SAFE_DIVIDE(data.road_length, data.land_area) AS road_density\n",
    "  , data.elev_mean\n",
    "  , data.elev_range\n",
    "  , data.winter_temp AS winter_temperature\n",
    "  , SAFE_DIVIDE(data.population, data.land_area) AS population_density\n",
    "  , data.male_rate\n",
    "  , data.median_income\n",
    "  , data.median_age\n",
    "  , data.white_rate\n",
    "  , data.avg_years_of_edu\n",
    "  , data.unemployment_rate\n",
    "  , SAFE_DIVIDE(data.housing_units, data.land_area) AS housing_density\n",
    "  , data.house_owner_rate\n",
    "  , data.newly_moved_household_rate\n",
    "  , data.newly_built_housing_rate\n",
    "  , law.laws_against\n",
    "  --, IFNULL(law.type, 'no_law') AS law_type\n",
    "FROM block_group_level\n",
    "LEFT JOIN broadband.tiger_acs_2016 AS data\n",
    "  ON block_group_level.block_group = data.block_group\n",
    "LEFT JOIN broadband.laws_against_municipal_broadband law\n",
    "  ON SUBSTR(block_group_level.block_group, 0, 2) = law.state_code\n",
    "\"\"\"\n",
    "all_data_new = pd.read_gbq(query_new, project_id='fccdsicapstone-218522', dialect='standard')"
   ]
  },
  {
   "cell_type": "markdown",
   "metadata": {},
   "source": [
    "#### Only No Internet Available Blocks and Funded Blocks are included in this data"
   ]
  },
  {
   "cell_type": "code",
   "execution_count": 3,
   "metadata": {},
   "outputs": [
    {
     "data": {
      "text/plain": [
       "(72849, 19)"
      ]
     },
     "execution_count": 3,
     "metadata": {},
     "output_type": "execute_result"
    }
   ],
   "source": [
    "all_data_new.shape"
   ]
  },
  {
   "cell_type": "markdown",
   "metadata": {},
   "source": [
    "### Data Cleaning for New Data"
   ]
  },
  {
   "cell_type": "code",
   "execution_count": 4,
   "metadata": {},
   "outputs": [],
   "source": [
    "# np.unique(all_data_new['verizon_provided_per'])"
   ]
  },
  {
   "cell_type": "code",
   "execution_count": 5,
   "metadata": {},
   "outputs": [
    {
     "name": "stdout",
     "output_type": "stream",
     "text": [
      "(71174, 19)\n",
      "(68050, 19)\n"
     ]
    }
   ],
   "source": [
    "all_data_new.count() / all_data_new.shape[0] * 100\n",
    "data_new = all_data_new.dropna()\n",
    "print(data_new.shape)\n",
    "\n",
    "mask = ((data_new.elev_range < data_new.elev_range.quantile(0.99)) &\n",
    "        (data_new.road_density < data_new.road_density.quantile(0.98)) &\n",
    "        (data_new.population_density < data_new.population_density.quantile(0.98)))\n",
    "\n",
    "data_new = data_new[mask]\n",
    "\n",
    "print(data_new.shape)\n",
    "\n",
    "#convert the column of true/false to 1/0\n",
    "data_new['laws_against'] = data_new['laws_against'].astype(int)\n",
    "\n",
    "#data_new['verizon_provided_per'] = (data_new['verizon_provided_per'] > 0.5).astype(int)"
   ]
  },
  {
   "cell_type": "code",
   "execution_count": 6,
   "metadata": {},
   "outputs": [],
   "source": [
    "def plot_confusion_matrix(cm, classes,\n",
    "                          normalize=False,\n",
    "                          title='Confusion matrix',\n",
    "                          cmap=plt.cm.Blues):\n",
    "    \"\"\"\n",
    "    This function prints and plots the confusion matrix.\n",
    "    Normalization can be applied by setting `normalize=True`.\n",
    "    \"\"\"\n",
    "    if normalize:\n",
    "        cm = cm.astype('float') / cm.sum(axis=1)[:, np.newaxis]\n",
    "        print(\"Normalized confusion matrix\")\n",
    "    else:\n",
    "        print('Confusion matrix, without normalization')\n",
    "\n",
    "    print(cm)\n",
    "\n",
    "    plt.imshow(cm, interpolation='nearest', cmap=cmap)\n",
    "    plt.title(title)\n",
    "    plt.colorbar()\n",
    "    tick_marks = np.arange(len(classes))\n",
    "    plt.xticks(tick_marks, classes, rotation=45)\n",
    "    plt.yticks(tick_marks, classes)\n",
    "\n",
    "    fmt = '.2f' if normalize else 'd'\n",
    "    thresh = cm.max() / 2.\n",
    "    for i, j in itertools.product(range(cm.shape[0]), range(cm.shape[1])):\n",
    "        plt.text(j, i, format(cm[i, j], fmt),\n",
    "                 horizontalalignment=\"center\",\n",
    "                 color=\"white\" if cm[i, j] > thresh else \"black\")\n",
    "\n",
    "    plt.ylabel('True label')\n",
    "    plt.xlabel('Predicted label')\n",
    "    plt.tight_layout()"
   ]
  },
  {
   "cell_type": "markdown",
   "metadata": {},
   "source": [
    "### Model for New"
   ]
  },
  {
   "cell_type": "code",
   "execution_count": 7,
   "metadata": {},
   "outputs": [
    {
     "name": "stderr",
     "output_type": "stream",
     "text": [
      "/anaconda/envs/py36/lib/python3.6/site-packages/sklearn/ensemble/weight_boosting.py:29: DeprecationWarning: numpy.core.umath_tests is an internal NumPy module and should not be imported. It will be removed in a future NumPy release.\n",
      "  from numpy.core.umath_tests import inner1d\n"
     ]
    }
   ],
   "source": [
    "from sklearn.model_selection import train_test_split, GridSearchCV\n",
    "from sklearn.ensemble import RandomForestRegressor\n",
    "from sklearn.ensemble import RandomForestClassifier\n",
    "\n",
    "target_col = 'fund_provided_per'\n",
    "X = data_new.drop(columns=['int_avail_per', 'block_group', target_col])\n",
    "y = data_new[target_col]\n",
    "y = (y > 0.5).astype(int)\n",
    "\n",
    "X_train, X_test, y_train, y_test = train_test_split(X, y, test_size=0.2)\n",
    "\n"
   ]
  },
  {
   "cell_type": "code",
   "execution_count": 8,
   "metadata": {},
   "outputs": [
    {
     "data": {
      "text/plain": [
       "0    49318\n",
       "1    18732\n",
       "Name: fund_provided_per, dtype: int64"
      ]
     },
     "execution_count": 8,
     "metadata": {},
     "output_type": "execute_result"
    }
   ],
   "source": [
    "y.value_counts()"
   ]
  },
  {
   "cell_type": "markdown",
   "metadata": {},
   "source": [
    "### Balanced Model"
   ]
  },
  {
   "cell_type": "code",
   "execution_count": 9,
   "metadata": {},
   "outputs": [
    {
     "name": "stdout",
     "output_type": "stream",
     "text": [
      "Fitting 3 folds for each of 16 candidates, totalling 48 fits\n"
     ]
    },
    {
     "name": "stderr",
     "output_type": "stream",
     "text": [
      "[Parallel(n_jobs=-1)]: Done  48 out of  48 | elapsed:  8.2min finished\n",
      "/anaconda/envs/py36/lib/python3.6/site-packages/sklearn/model_selection/_search.py:714: DeprecationWarning: The default of the `iid` parameter will change from True to False in version 0.22 and will be removed in 0.24. This will change numeric results when test-set sizes are unequal.\n",
      "  DeprecationWarning)\n"
     ]
    },
    {
     "name": "stdout",
     "output_type": "stream",
     "text": [
      "Train score 0.7256729345978838\n",
      "Test score 0.6183138895003302\n"
     ]
    }
   ],
   "source": [
    "#Random Forest Model\n",
    "\n",
    "RFmodel_balanced = RandomForestClassifier(class_weight='balanced')\n",
    "params = {\n",
    "     'n_estimators': [200],\n",
    "    'min_samples_split': [65, 70, 75, 80],\n",
    "    'max_depth': [70, 75, 80, 85],\n",
    "}\n",
    " \n",
    "grid_search_balanced = GridSearchCV(estimator=RFmodel_balanced, param_grid=params, scoring='f1', cv=3, n_jobs=-1, verbose=True)\n",
    "grid_search_balanced.fit(X_train, y_train)\n",
    "\n",
    "print('Train score', grid_search_balanced.score(X_train, y_train))\n",
    "print('Test score', grid_search_balanced.score(X_test, y_test))\n",
    "\n"
   ]
  },
  {
   "cell_type": "code",
   "execution_count": 10,
   "metadata": {},
   "outputs": [
    {
     "name": "stdout",
     "output_type": "stream",
     "text": [
      "{'max_depth': 85, 'min_samples_split': 75, 'n_estimators': 200}\n"
     ]
    }
   ],
   "source": [
    "print (grid_search_balanced.best_params_)\n",
    "\n",
    "coefficients = pd.DataFrame(list(zip(X.columns, grid_search_balanced.best_estimator_.feature_importances_))\n",
    "                            , columns=['feature', 'gini_coef'])\n",
    "coefficients_sort = coefficients.sort_values('gini_coef', ascending=False)"
   ]
  },
  {
   "cell_type": "code",
   "execution_count": 11,
   "metadata": {},
   "outputs": [
    {
     "data": {
      "image/png": "[encoded data removed]",
      "text/plain": [
       "<Figure size 432x288 with 1 Axes>"
      ]
     },
     "metadata": {},
     "output_type": "display_data"
    }
   ],
   "source": [
    "import seaborn as sns\n",
    "#Set Seaborn Theme\n",
    "sns.set_style('darkgrid')\n",
    "\n",
    "plt.barh(coefficients_sort['feature'], coefficients_sort['gini_coef'])\n",
    "plt.show()"
   ]
  },
  {
   "cell_type": "code",
   "execution_count": 12,
   "metadata": {},
   "outputs": [],
   "source": [
    "from sklearn.metrics import confusion_matrix\n",
    "CM_balanced = confusion_matrix(y_test, grid_search_balanced.predict(X_test))"
   ]
  },
  {
   "cell_type": "code",
   "execution_count": 13,
   "metadata": {},
   "outputs": [
    {
     "name": "stdout",
     "output_type": "stream",
     "text": [
      "Confusion matrix, without normalization\n",
      "[[7333 2578]\n",
      " [ 890 2809]]\n",
      "Normalized confusion matrix\n",
      "[[0.73988498 0.26011502]\n",
      " [0.24060557 0.75939443]]\n"
     ]
    },
    {
     "data": {
      "image/png": "[encoded data removed]",
      "text/plain": [
       "<Figure size 432x288 with 2 Axes>"
      ]
     },
     "metadata": {},
     "output_type": "display_data"
    },
    {
     "data": {
      "image/png": "[encoded data removed]",
      "text/plain": [
       "<Figure size 432x288 with 2 Axes>"
      ]
     },
     "metadata": {},
     "output_type": "display_data"
    }
   ],
   "source": [
    "class_names = np.unique(y)\n",
    "# Plot non-normalized confusion matrix\n",
    "plt.figure()\n",
    "plot_confusion_matrix(CM_balanced, classes=class_names,\n",
    "                      title='Confusion matrix, without normalization')\n",
    "\n",
    "#Plot normalized confusion matrix\n",
    "plt.figure()\n",
    "plot_confusion_matrix(CM_balanced, classes=class_names, normalize=True,\n",
    "                      title='Normalized confusion matrix')\n",
    "\n",
    "plt.show()"
   ]
  },
  {
   "cell_type": "markdown",
   "metadata": {},
   "source": [
    "### Predicting Block Groups that are likely to get funded in the future"
   ]
  },
  {
   "cell_type": "code",
   "execution_count": 14,
   "metadata": {},
   "outputs": [],
   "source": [
    "no_enough_funded = data_new.iloc[np.where(y==0)].copy()\n",
    "\n",
    "X_pred = no_enough_funded.drop(columns=['int_avail_per', 'block_group', target_col])\n",
    "proba = grid_search_balanced.predict_proba(X_pred)\n",
    "no_enough_funded['proba'] = proba[:, 1]"
   ]
  },
  {
   "cell_type": "code",
   "execution_count": 15,
   "metadata": {},
   "outputs": [
    {
     "data": {
      "text/html": [
       "<div>\n",
       "<style scoped>\n",
       "    .dataframe tbody tr th:only-of-type {\n",
       "        vertical-align: middle;\n",
       "    }\n",
       "\n",
       "    .dataframe tbody tr th {\n",
       "        vertical-align: top;\n",
       "    }\n",
       "\n",
       "    .dataframe thead th {\n",
       "        text-align: right;\n",
       "    }\n",
       "</style>\n",
       "<table border=\"1\" class=\"dataframe\">\n",
       "  <thead>\n",
       "    <tr style=\"text-align: right;\">\n",
       "      <th></th>\n",
       "      <th>block_group</th>\n",
       "      <th>proba</th>\n",
       "      <th>fund_provided_per</th>\n",
       "    </tr>\n",
       "  </thead>\n",
       "  <tbody>\n",
       "    <tr>\n",
       "      <th>29065</th>\n",
       "      <td>551410111002</td>\n",
       "      <td>0.917524</td>\n",
       "      <td>0.000000</td>\n",
       "    </tr>\n",
       "    <tr>\n",
       "      <th>29201</th>\n",
       "      <td>550959609004</td>\n",
       "      <td>0.906654</td>\n",
       "      <td>0.000000</td>\n",
       "    </tr>\n",
       "    <tr>\n",
       "      <th>12362</th>\n",
       "      <td>551410107002</td>\n",
       "      <td>0.900626</td>\n",
       "      <td>0.107143</td>\n",
       "    </tr>\n",
       "    <tr>\n",
       "      <th>12728</th>\n",
       "      <td>551091206001</td>\n",
       "      <td>0.898963</td>\n",
       "      <td>0.230769</td>\n",
       "    </tr>\n",
       "    <tr>\n",
       "      <th>61317</th>\n",
       "      <td>271537901001</td>\n",
       "      <td>0.898830</td>\n",
       "      <td>0.000000</td>\n",
       "    </tr>\n",
       "    <tr>\n",
       "      <th>42210</th>\n",
       "      <td>260450207002</td>\n",
       "      <td>0.898017</td>\n",
       "      <td>0.000000</td>\n",
       "    </tr>\n",
       "    <tr>\n",
       "      <th>2306</th>\n",
       "      <td>270090201002</td>\n",
       "      <td>0.895381</td>\n",
       "      <td>0.423077</td>\n",
       "    </tr>\n",
       "    <tr>\n",
       "      <th>16491</th>\n",
       "      <td>271594802006</td>\n",
       "      <td>0.895008</td>\n",
       "      <td>0.434783</td>\n",
       "    </tr>\n",
       "    <tr>\n",
       "      <th>30586</th>\n",
       "      <td>550959605001</td>\n",
       "      <td>0.894851</td>\n",
       "      <td>0.000000</td>\n",
       "    </tr>\n",
       "    <tr>\n",
       "      <th>28411</th>\n",
       "      <td>550959610004</td>\n",
       "      <td>0.892530</td>\n",
       "      <td>0.000000</td>\n",
       "    </tr>\n",
       "  </tbody>\n",
       "</table>\n",
       "</div>"
      ],
      "text/plain": [
       "        block_group     proba  fund_provided_per\n",
       "29065  551410111002  0.917524           0.000000\n",
       "29201  550959609004  0.906654           0.000000\n",
       "12362  551410107002  0.900626           0.107143\n",
       "12728  551091206001  0.898963           0.230769\n",
       "61317  271537901001  0.898830           0.000000\n",
       "42210  260450207002  0.898017           0.000000\n",
       "2306   270090201002  0.895381           0.423077\n",
       "16491  271594802006  0.895008           0.434783\n",
       "30586  550959605001  0.894851           0.000000\n",
       "28411  550959610004  0.892530           0.000000"
      ]
     },
     "execution_count": 15,
     "metadata": {},
     "output_type": "execute_result"
    }
   ],
   "source": [
    "prediction = no_enough_funded.sort_values('proba', ascending=False)[['block_group', 'proba','fund_provided_per']]\n",
    "prediction.to_csv('fund_prediction_result.csv', index = False)\n",
    "prediction.head(10)"
   ]
  }
 ],
 "metadata": {
  "kernelspec": {
   "display_name": "Python 3",
   "language": "python",
   "name": "python3"
  },
  "language_info": {
   "codemirror_mode": {
    "name": "ipython",
    "version": 3
   },
   "file_extension": ".py",
   "mimetype": "text/x-python",
   "name": "python",
   "nbconvert_exporter": "python",
   "pygments_lexer": "ipython3",
   "version": "3.6.4"
  }
 },
 "nbformat": 4,
 "nbformat_minor": 2
}
